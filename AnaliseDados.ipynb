{
 "cells": [
  {
   "cell_type": "markdown",
   "metadata": {},
   "source": [
    "# Inicio"
   ]
  },
  {
   "cell_type": "markdown",
   "metadata": {},
   "source": [
    "## Pacotes"
   ]
  },
  {
   "cell_type": "code",
   "execution_count": 127,
   "metadata": {},
   "outputs": [],
   "source": [
    "import math\n",
    "import pandas as pd\n",
    "import numpy as np\n",
    "import matplotlib.pyplot as plt\n",
    "plt.rcParams.update({\n",
    "    \"font.family\": \"serif\",  # use serif/main font for text elements\n",
    "    \"text.usetex\": True,     # use inline math for ticks\n",
    "    \"pgf.rcfonts\": False,    # don't setup fonts from rc parameters\n",
    "    \"pgf.preamble\": \"\\n\".join([\n",
    "         r\"\\usepackage{url}\",            # load additional packages\n",
    "         r\"\\usepackage{unicode-math}\",   # unicode math setup\n",
    "         r\"\\setmainfont{DejaVu Serif}\",  # serif font via preamble\n",
    "    ])\n",
    "})\n",
    "\n",
    "import seaborn as sns\n",
    "from scipy import stats\n",
    "import random\n",
    "\n",
    "# get ANOVA table as R like output\n",
    "import statsmodels.api as sm\n",
    "from statsmodels.formula.api import ols\n",
    "\n",
    "with open('res_sub_tab.txt', 'w') as res_sub_tab:\n",
    "    res_sub_tab.write('Tabelas Latex para os resultados dos métodos subjetivos')\n",
    "    res_sub_tab.write('\\n')\n",
    "    res_sub_tab.close()\n",
    "\n",
    "#Cores\n",
    "ccmLBlue = (0.170/0.255,0.200/0.255,0.230/0.255)\n",
    "ccmBlue = (0.020/0.255,0.080/0.255,0.200/0.255)\n",
    "ccmDBlue = (0.025/0.255,0.050/0.255,0.120/0.255)\n",
    "ccmRed = (0.190/0.255,0.0,0.0)\n",
    "ccmOrange = (0.255/0.255,0.100/0.255,0.0)\n",
    "ccmLGray = (0.210/0.255,0.210/0.255,0.210/0.255)\n",
    "ccmDGray = (0.085/0.255,0.085/0.255,0.085/0.255)\n",
    "\n",
    "cor1 = ccmRed\n",
    "cor2 = ccmDBlue\n",
    "cor3 = ccmLGray\n",
    "cor4 = ccmOrange\n",
    "cor5 = ccmLBlue\n",
    "cor6 = ccmDGray\n",
    "cor7 = ccmBlue\n",
    "\n",
    "# Create an array with the colors you want to use\n",
    "paletaCores = [cor1,cor2,cor3,cor4,cor5,cor6,cor7]\n",
    "# Set your custom color palette\n",
    "sns.set_palette(sns.color_palette(paletaCores))\n",
    "plt.rcParams.update({'font.size': 22})\n"
   ]
  },
  {
   "cell_type": "markdown",
   "metadata": {},
   "source": [
    "## Funções"
   ]
  },
  {
   "cell_type": "markdown",
   "metadata": {},
   "source": [
    "### Tabela Latex"
   ]
  },
  {
   "cell_type": "code",
   "execution_count": 128,
   "metadata": {},
   "outputs": [],
   "source": [
    "def tabela_latex(df,label,caption,teste,floatBarrier = False):\n",
    "    tabela = pd.DataFrame.to_latex(df, label = label, caption = caption, position = '!htb', float_format=\"{:0.3f}\".format)\n",
    "    print(tabela)\n",
    "    caminho = teste + '/Tabelas/' + label[4:] + '.tex'\n",
    "\n",
    "    with open(caminho, 'w') as res_sub_tab:\n",
    "        #res_sub_tab.write('\\n' +'\\n' + caption + '\\n')\n",
    "        res_sub_tab.write('\\n' + tabela + '\\n')\n",
    "        if floatBarrier == True:\n",
    "            res_sub_tab.write('\\n \\FloatBarrier \\n')\n",
    "\n",
    "def tabela_latex_sem_index(df,label,caption,teste,floatBarrier = False):\n",
    "    tabela = pd.DataFrame.to_latex(df, label = label, caption = caption, position = '!htb', float_format=\"{:0.3f}\".format, index = False)\n",
    "    print(tabela)\n",
    "    caminho = teste + '/Tabelas/' + label[4:] + '.tex'\n",
    "\n",
    "    with open(caminho, 'w') as res_sub_tab:\n",
    "        #res_sub_tab.write('\\n' +'\\n' + caption + '\\n')\n",
    "        res_sub_tab.write('\\n' + tabela + '\\n')\n",
    "        if floatBarrier == True:\n",
    "            res_sub_tab.write('\\n \\FloatBarrier \\n')"
   ]
  },
  {
   "cell_type": "markdown",
   "metadata": {},
   "source": [
    "### Anova"
   ]
  },
  {
   "cell_type": "code",
   "execution_count": 129,
   "metadata": {},
   "outputs": [],
   "source": [
    "def AnovaTable(df):\n",
    "    totalGeral = sum(sum(df.values))\n",
    "    N = sum(df.count())\n",
    "    replicas = df.count()[0]\n",
    "    fatores = len(df.columns)\n",
    "    mediaGeral = totalGeral/N\n",
    "\n",
    "    # Somatória dos erros\n",
    "    SS_t = 0\n",
    "    SS_f = 0\n",
    "    for a in df.columns:\n",
    "        somaFator = 0\n",
    "        SS_i = 0\n",
    "        for n_ij in df[a]:\n",
    "            SS_ij = (n_ij-mediaGeral)**2\n",
    "            somaFator = somaFator + n_ij\n",
    "            SS_t = SS_t + SS_ij\n",
    "        SS_f = SS_f + (somaFator/len(df[a]) - mediaGeral)**2\n",
    "    SS_f = SS_f*replicas\n",
    "    SS_e = SS_t - SS_f\n",
    "\n",
    "    SS_lista = [SS_f, SS_e, SS_t]\n",
    "\n",
    "    # Graus de liberdade\n",
    "    gL_1 = len(df.columns) - 1\n",
    "    gL_2 = N - len(df.columns)\n",
    "    gL = gL_1 + gL_2\n",
    "    gL_lista = [gL_1, gL_2, gL]\n",
    "\n",
    "    # Média dos erros\n",
    "    MS_f = SS_f/gL_1\n",
    "    MS_e = SS_e/gL_2\n",
    "    MS_lista = [MS_f, MS_e, '']\n",
    "\n",
    "    # Fator F\n",
    "    F = MS_f/MS_e\n",
    "    F_lista = [F,'' ,'' ]\n",
    "\n",
    "    # p-Value\n",
    "    p_value = stats.f.sf(F, gL_1, gL_2, loc=0, scale=1)\n",
    "    P_value_list = [p_value, '', '']\n",
    "\n",
    "    Fonte = ['Entre fatores', 'Dentro dos fatores', 'Total']\n",
    "\n",
    "    df_summary = pd.DataFrame([], columns = ['Fonte', 'Soma dos quadrados', 'Graus de liberdade', 'Média quadrada', 'F', 'p-Value (F_0 > F)'])\n",
    "    df_summary['Fonte'] = Fonte\n",
    "    df_summary['Soma dos quadrados'] = SS_lista\n",
    "    df_summary['Graus de liberdade'] = gL_lista\n",
    "    df_summary['Média quadrada'] = MS_lista\n",
    "    df_summary['F'] = F_lista\n",
    "    df_summary['p-Value (F_0 > F)'] = P_value_list\n",
    "\n",
    "    print(df_summary.to_string(index=False))\n",
    "    print('-----------------------')\n",
    "    print('-----------------------')\n",
    "\n",
    "    return df_summary\n",
    "\n",
    "def LSDPostHocAnova(df):\n",
    "    alpha = 0.05\n",
    "    nomeFatores = df.columns\n",
    "    \n",
    "    totalGeral = sum(sum(df.values))\n",
    "    N = sum(df.count())\n",
    "    replicas = df.count()[0]\n",
    "    mediaGeral = totalGeral/N\n",
    "\n",
    "    # Graus de liberdade\n",
    "    gL_2 = N - len(df.columns)\n",
    "\n",
    "    # Somatória dos erros\n",
    "    SS_t = 0\n",
    "    SS_f = 0\n",
    "    for a in df.columns:\n",
    "        somaFator = 0\n",
    "        SS_i = 0\n",
    "        for n_ij in df[a]:\n",
    "            SS_ij = (n_ij-mediaGeral)**2\n",
    "            somaFator = somaFator + n_ij\n",
    "            SS_t = SS_t + SS_ij\n",
    "        SS_f = SS_f + (somaFator/len(df[a]) - mediaGeral)**2\n",
    "    SS_f = SS_f*replicas\n",
    "    SS_e = SS_t - SS_f\n",
    "\n",
    "    # Média dos erros\n",
    "    MS_e = SS_e/gL_2\n",
    "\n",
    "\n",
    "    LSD = stats.t.isf(alpha,gL_2)/2 * np.sqrt(2*MS_e/len(df.iloc[:,1]))\n",
    "\n",
    "    df_postHoc = pd.DataFrame([], columns = ['Comparação', 'Resultado'])\n",
    "    comparaçãoLista = []\n",
    "    resultadoLista = []\n",
    "\n",
    "    mediaFator = []\n",
    "    for a in df.columns:\n",
    "        somaFator = 0\n",
    "        for n_ij in df[a]:\n",
    "            somaFator = somaFator + n_ij\n",
    "        mediaFator.append(somaFator/len(df[a]))\n",
    "    i = 0\n",
    "    while i < len(mediaFator):\n",
    "        j = 0\n",
    "        while j < len(mediaFator):\n",
    "            if (i<j and i!=j):\n",
    "                comparaçãoLista.append(nomeFatores[i] + ' versus ' + nomeFatores[j])\n",
    "                if (abs(mediaFator[i] - mediaFator[j])>=LSD):\n",
    "                    resultadoLista.append('**H_1 : \\mu_' + nomeFatores[i] + ' != \\mu_' + nomeFatores[j] + '**')\n",
    "                else:\n",
    "                    resultadoLista.append('H_0 : \\mu_' + nomeFatores[i] + ' == \\mu_' + nomeFatores[j])\n",
    "            j = j + 1\n",
    "        i = i + 1\n",
    "    df_postHoc['Comparação'] = comparaçãoLista\n",
    "    df_postHoc['Resultado'] = resultadoLista\n",
    "    print('Se a diferença entre alguma média for superior a {lsd:.2f} então a hipótese alternativa pode ser valida para essa determinada comparação'.format(lsd = LSD))\n",
    "    print(df_postHoc.to_string(index=False))\n",
    "    print('-----------------------')\n",
    "    print('-----------------------')\n",
    "\n",
    "    return df_postHoc\n",
    "\n",
    "def DunnettPostHocAnova(df,dun_0,controle):\n",
    "    df.drop(columns = controle.name, inplace= True)\n",
    "    \n",
    "    #alpha = 0.05\n",
    "    nomeFatores = df.columns\n",
    "\n",
    "    nomeControle = controle.name\n",
    "    dun = dun_0 * np.sqrt(2*MS_e/len(df.iloc[:,1]))\n",
    "\n",
    "    \n",
    "    df_postHoc = pd.DataFrame([], columns = ['Comparação', 'Resultado'])\n",
    "    comparaçãoLista = []\n",
    "    resultadoLista = []\n",
    "\n",
    "    mediaFator = []\n",
    "    for a in df.columns:\n",
    "        somaFator = 0\n",
    "        for n_ij in df[a]:\n",
    "            somaFator = somaFator + n_ij\n",
    "        mediaFator.append(somaFator/len(df[a]))\n",
    "\n",
    "    mediaControle = 0\n",
    "    for n_i in controle:\n",
    "        somaFator = somaFator + n_i\n",
    "    mediaControle = somaFator/len(controle)\n",
    "\n",
    "    for m in range(len(mediaFator)):\n",
    "        comparaçãoLista.append(nomeFatores[m] + ' versus ' + nomeControle)\n",
    "        if (abs(mediaFator[m] - mediaControle)>=dun):\n",
    "            resultadoLista.append('**H_1 : \\mu_' + nomeFatores[m] + ' != \\mu_' + nomeControle + '**')\n",
    "        else:\n",
    "            resultadoLista.append('H_0 : \\mu_' + nomeFatores[m] + ' == \\mu_' + nomeControle)\n",
    "\n",
    "    df_postHoc['Comparação'] = comparaçãoLista\n",
    "    df_postHoc['Resultado'] = resultadoLista\n",
    "    print('Se a diferença entre alguma média for superior a {dun:.2f} então a hipótese alternativa pode ser valida para essa determinada comparação'.format(dun = dun))\n",
    "    print(df_postHoc.to_string(index=False))\n",
    "    print('-----------------------')\n",
    "    print('-----------------------')"
   ]
  },
  {
   "cell_type": "markdown",
   "metadata": {},
   "source": [
    "# Leitura e organização dos dados"
   ]
  },
  {
   "cell_type": "markdown",
   "metadata": {},
   "source": [
    "## Leitura dos dados brutos"
   ]
  },
  {
   "cell_type": "code",
   "execution_count": 130,
   "metadata": {},
   "outputs": [
    {
     "data": {
      "text/html": [
       "<div>\n",
       "<style scoped>\n",
       "    .dataframe tbody tr th:only-of-type {\n",
       "        vertical-align: middle;\n",
       "    }\n",
       "\n",
       "    .dataframe tbody tr th {\n",
       "        vertical-align: top;\n",
       "    }\n",
       "\n",
       "    .dataframe thead th {\n",
       "        text-align: right;\n",
       "    }\n",
       "</style>\n",
       "<table border=\"1\" class=\"dataframe\">\n",
       "  <thead>\n",
       "    <tr style=\"text-align: right;\">\n",
       "      <th></th>\n",
       "      <th>Participante:</th>\n",
       "      <th>Ordem dos cenários [Primeiro]</th>\n",
       "      <th>Ordem dos cenários [Segundo]</th>\n",
       "      <th>Ordem dos cenários [Terceiro]</th>\n",
       "      <th>Ordem dos cenários [Quarto]</th>\n",
       "      <th>Ordem dos cenários [Quinto]</th>\n",
       "      <th>1.1) Demanda Mental</th>\n",
       "      <th>1.1) Demanda física</th>\n",
       "      <th>1.1) Demanda Temporal</th>\n",
       "      <th>1.1) Perfomance</th>\n",
       "      <th>...</th>\n",
       "      <th>Tempo Total 1</th>\n",
       "      <th>Tempo Total 2</th>\n",
       "      <th>Tempo Total 3</th>\n",
       "      <th>Tempo Total 4</th>\n",
       "      <th>Tempo Total 5</th>\n",
       "      <th>Tempo Total 6</th>\n",
       "      <th>Tempo Total 7</th>\n",
       "      <th>Tempo Total 8</th>\n",
       "      <th>Tempo Total 9</th>\n",
       "      <th>Tempo Total 10</th>\n",
       "    </tr>\n",
       "  </thead>\n",
       "  <tbody>\n",
       "    <tr>\n",
       "      <th>0</th>\n",
       "      <td>002C</td>\n",
       "      <td>4</td>\n",
       "      <td>1</td>\n",
       "      <td>5</td>\n",
       "      <td>3</td>\n",
       "      <td>2</td>\n",
       "      <td>5</td>\n",
       "      <td>1</td>\n",
       "      <td>1</td>\n",
       "      <td>20</td>\n",
       "      <td>...</td>\n",
       "      <td>NaN</td>\n",
       "      <td>NaN</td>\n",
       "      <td>NaN</td>\n",
       "      <td>NaN</td>\n",
       "      <td>NaN</td>\n",
       "      <td>NaN</td>\n",
       "      <td>NaN</td>\n",
       "      <td>NaN</td>\n",
       "      <td>NaN</td>\n",
       "      <td>NaN</td>\n",
       "    </tr>\n",
       "    <tr>\n",
       "      <th>1</th>\n",
       "      <td>001</td>\n",
       "      <td>4</td>\n",
       "      <td>1</td>\n",
       "      <td>3</td>\n",
       "      <td>5</td>\n",
       "      <td>2</td>\n",
       "      <td>6</td>\n",
       "      <td>7</td>\n",
       "      <td>6</td>\n",
       "      <td>15</td>\n",
       "      <td>...</td>\n",
       "      <td>NaN</td>\n",
       "      <td>NaN</td>\n",
       "      <td>NaN</td>\n",
       "      <td>NaN</td>\n",
       "      <td>NaN</td>\n",
       "      <td>NaN</td>\n",
       "      <td>NaN</td>\n",
       "      <td>NaN</td>\n",
       "      <td>NaN</td>\n",
       "      <td>NaN</td>\n",
       "    </tr>\n",
       "    <tr>\n",
       "      <th>2</th>\n",
       "      <td>001C</td>\n",
       "      <td>3</td>\n",
       "      <td>5</td>\n",
       "      <td>4</td>\n",
       "      <td>1</td>\n",
       "      <td>2</td>\n",
       "      <td>3</td>\n",
       "      <td>2</td>\n",
       "      <td>1</td>\n",
       "      <td>15</td>\n",
       "      <td>...</td>\n",
       "      <td>NaN</td>\n",
       "      <td>NaN</td>\n",
       "      <td>NaN</td>\n",
       "      <td>NaN</td>\n",
       "      <td>NaN</td>\n",
       "      <td>NaN</td>\n",
       "      <td>NaN</td>\n",
       "      <td>NaN</td>\n",
       "      <td>NaN</td>\n",
       "      <td>NaN</td>\n",
       "    </tr>\n",
       "    <tr>\n",
       "      <th>3</th>\n",
       "      <td>003</td>\n",
       "      <td>3</td>\n",
       "      <td>1</td>\n",
       "      <td>5</td>\n",
       "      <td>2</td>\n",
       "      <td>4</td>\n",
       "      <td>2</td>\n",
       "      <td>3</td>\n",
       "      <td>2</td>\n",
       "      <td>19</td>\n",
       "      <td>...</td>\n",
       "      <td>NaN</td>\n",
       "      <td>NaN</td>\n",
       "      <td>NaN</td>\n",
       "      <td>NaN</td>\n",
       "      <td>NaN</td>\n",
       "      <td>NaN</td>\n",
       "      <td>NaN</td>\n",
       "      <td>NaN</td>\n",
       "      <td>NaN</td>\n",
       "      <td>NaN</td>\n",
       "    </tr>\n",
       "    <tr>\n",
       "      <th>4</th>\n",
       "      <td>003C</td>\n",
       "      <td>1</td>\n",
       "      <td>3</td>\n",
       "      <td>4</td>\n",
       "      <td>5</td>\n",
       "      <td>2</td>\n",
       "      <td>5</td>\n",
       "      <td>1</td>\n",
       "      <td>1</td>\n",
       "      <td>15</td>\n",
       "      <td>...</td>\n",
       "      <td>NaN</td>\n",
       "      <td>NaN</td>\n",
       "      <td>NaN</td>\n",
       "      <td>NaN</td>\n",
       "      <td>NaN</td>\n",
       "      <td>NaN</td>\n",
       "      <td>NaN</td>\n",
       "      <td>NaN</td>\n",
       "      <td>NaN</td>\n",
       "      <td>NaN</td>\n",
       "    </tr>\n",
       "  </tbody>\n",
       "</table>\n",
       "<p>5 rows × 216 columns</p>\n",
       "</div>"
      ],
      "text/plain": [
       "  Participante:  Ordem dos cenários [Primeiro]  Ordem dos cenários [Segundo]  \\\n",
       "0          002C                              4                             1   \n",
       "1           001                              4                             1   \n",
       "2          001C                              3                             5   \n",
       "3           003                              3                             1   \n",
       "4          003C                              1                             3   \n",
       "\n",
       "   Ordem dos cenários [Terceiro]  Ordem dos cenários [Quarto]  \\\n",
       "0                              5                            3   \n",
       "1                              3                            5   \n",
       "2                              4                            1   \n",
       "3                              5                            2   \n",
       "4                              4                            5   \n",
       "\n",
       "   Ordem dos cenários [Quinto]  1.1) Demanda Mental  1.1) Demanda física  \\\n",
       "0                            2                    5                    1   \n",
       "1                            2                    6                    7   \n",
       "2                            2                    3                    2   \n",
       "3                            4                    2                    3   \n",
       "4                            2                    5                    1   \n",
       "\n",
       "   1.1) Demanda Temporal  1.1) Perfomance  ...  Tempo Total 1  Tempo Total 2  \\\n",
       "0                      1               20  ...            NaN            NaN   \n",
       "1                      6               15  ...            NaN            NaN   \n",
       "2                      1               15  ...            NaN            NaN   \n",
       "3                      2               19  ...            NaN            NaN   \n",
       "4                      1               15  ...            NaN            NaN   \n",
       "\n",
       "   Tempo Total 3  Tempo Total 4  Tempo Total 5  Tempo Total 6  Tempo Total 7  \\\n",
       "0            NaN            NaN            NaN            NaN            NaN   \n",
       "1            NaN            NaN            NaN            NaN            NaN   \n",
       "2            NaN            NaN            NaN            NaN            NaN   \n",
       "3            NaN            NaN            NaN            NaN            NaN   \n",
       "4            NaN            NaN            NaN            NaN            NaN   \n",
       "\n",
       "   Tempo Total 8  Tempo Total 9  Tempo Total 10  \n",
       "0            NaN            NaN             NaN  \n",
       "1            NaN            NaN             NaN  \n",
       "2            NaN            NaN             NaN  \n",
       "3            NaN            NaN             NaN  \n",
       "4            NaN            NaN             NaN  \n",
       "\n",
       "[5 rows x 216 columns]"
      ]
     },
     "execution_count": 130,
     "metadata": {},
     "output_type": "execute_result"
    }
   ],
   "source": [
    "df = pd.read_excel(\"Todas as respostas.xlsx\")\n",
    "participantes = df.loc[:,['Participante:','Idade:','Sexo:','Como deficiente visual você se identifica como:']]\n",
    "participantes.set_index('Participante:', drop = True, inplace = True)\n",
    "df_resto_1 = df.drop(['Idade:','Sexo:','Como deficiente visual você se identifica como:','Qual o cenário'],axis = 1)\n",
    "df_resto_1"
   ]
  },
  {
   "cell_type": "markdown",
   "metadata": {},
   "source": [
    "## Separação dos dados"
   ]
  },
  {
   "cell_type": "markdown",
   "metadata": {},
   "source": [
    "### Ordem dos cenários"
   ]
  },
  {
   "cell_type": "code",
   "execution_count": 131,
   "metadata": {},
   "outputs": [],
   "source": [
    "ordemCenarios = df_resto_1.iloc[:,range(0,6)]\n",
    "#ordemCenarios = ordemCenarios.drop(ordemCenarios.columns[range(1,4)], axis = 1)\n",
    "ordemCenarios.set_index(keys = \"Participante:\", inplace = True)\n",
    "df_resto_2 = df_resto_1.drop(ordemCenarios.columns,axis = 1)\n"
   ]
  },
  {
   "cell_type": "markdown",
   "metadata": {},
   "source": [
    "### Nasa"
   ]
  },
  {
   "cell_type": "code",
   "execution_count": 132,
   "metadata": {},
   "outputs": [],
   "source": [
    "cenas = list(range(1,6))\n",
    "nomeCenas = ['Base', 'Audio', 'Haptic Belt', 'Virtual Cane', 'Mixture']\n",
    "etapas = [1,2]\n",
    "dimensoesNasa = ['Demanda Mental','Demanda física', 'Demanda Temporal', 'Perfomance', 'Esforço', 'Frustação']\n",
    "dimensoesNasas_todas = ['Participante:']\n",
    "for c in cenas:\n",
    "    for e in etapas:\n",
    "        for d in dimensoesNasa:\n",
    "            nome = str(c) + '.' + str(e) + ') '+ d\n",
    "            dimensoesNasas_todas.append(nome)\n",
    "\n",
    "dfNasa = df_resto_2.loc[:,dimensoesNasas_todas]\n",
    "dfNasa.set_index('Participante:',inplace = True)\n",
    "df_resto_3 = df_resto_2.drop(dfNasa.columns, axis = 1)\n",
    "# dfNasa.head()\n"
   ]
  },
  {
   "cell_type": "markdown",
   "metadata": {},
   "source": [
    "### Sagat"
   ]
  },
  {
   "cell_type": "code",
   "execution_count": 133,
   "metadata": {},
   "outputs": [],
   "source": [
    "perguntasSagat = ['Existe algum objeto próximo de você?', 'Sinalize onde o objeto está', 'Existe alguém perto de você?', 'Sinaliza onde está pessoa esta', \n",
    "'Você percebeu alguma fonte de som característica do lugar onde você se encontra?', 'Sinalize de onde vem o som', 'Sinalize em que direção está a recepcionista', \n",
    "'Sinalize em que direção está a saída', 'Qual a distância você imagina que existe entre a mesa da recepção e qual direção ela está?',\t\n",
    "'Qual a distância você imagina que existe entre a saída?']\n",
    "\n",
    "perguntasSagat_todas = ['Participante:'] \n",
    "for c in cenas:\n",
    "    for e in etapas:\n",
    "        for p in perguntasSagat:\n",
    "            nome = str(c) + '.' + str(e) + ') '+ p\n",
    "            perguntasSagat_todas.append(nome)\n",
    "\n",
    "dfSagat = df_resto_3.loc[:,perguntasSagat_todas]\n",
    "dfSagat.set_index('Participante:',inplace = True)\n",
    "df_resto_4 = df_resto_3.drop(dfSagat.columns, axis = 1)\n",
    "#dfSagat.head()"
   ]
  },
  {
   "cell_type": "markdown",
   "metadata": {},
   "source": [
    "### Tempo"
   ]
  },
  {
   "cell_type": "code",
   "execution_count": 134,
   "metadata": {},
   "outputs": [],
   "source": [
    "dfTempo = df_resto_4.set_index('Participante:').iloc[:,-10:]\n",
    "df_resto_5 = df_resto_4.drop(dfTempo.columns, axis = 1)"
   ]
  },
  {
   "cell_type": "markdown",
   "metadata": {},
   "source": [
    "### Questionário dos métodos de guiagem"
   ]
  },
  {
   "cell_type": "code",
   "execution_count": 135,
   "metadata": {},
   "outputs": [],
   "source": [
    "dfQuestionario = df_resto_5.set_index('Participante:')\n",
    "#dfQuestionario.head()"
   ]
  },
  {
   "cell_type": "markdown",
   "metadata": {},
   "source": [
    "## Reorganizar os dados"
   ]
  },
  {
   "cell_type": "markdown",
   "metadata": {},
   "source": [
    "### Transformar dados qualitativos em quantitativos\n",
    "\n",
    "Cego ficou definido como número 0\n",
    "Vidente ficou definido como número 1\n",
    "\n",
    "Masculino ficou definido como número 0\n",
    "Feminino ficou definido como número 1"
   ]
  },
  {
   "cell_type": "code",
   "execution_count": 136,
   "metadata": {},
   "outputs": [
    {
     "data": {
      "text/html": [
       "<div>\n",
       "<style scoped>\n",
       "    .dataframe tbody tr th:only-of-type {\n",
       "        vertical-align: middle;\n",
       "    }\n",
       "\n",
       "    .dataframe tbody tr th {\n",
       "        vertical-align: top;\n",
       "    }\n",
       "\n",
       "    .dataframe thead th {\n",
       "        text-align: right;\n",
       "    }\n",
       "</style>\n",
       "<table border=\"1\" class=\"dataframe\">\n",
       "  <thead>\n",
       "    <tr style=\"text-align: right;\">\n",
       "      <th></th>\n",
       "      <th>Idade:</th>\n",
       "      <th>Sexo:</th>\n",
       "      <th>Sexo 0/1</th>\n",
       "      <th>Como deficiente visual você se identifica como:</th>\n",
       "      <th>Deficiência visual</th>\n",
       "    </tr>\n",
       "    <tr>\n",
       "      <th>Participante:</th>\n",
       "      <th></th>\n",
       "      <th></th>\n",
       "      <th></th>\n",
       "      <th></th>\n",
       "      <th></th>\n",
       "    </tr>\n",
       "  </thead>\n",
       "  <tbody>\n",
       "    <tr>\n",
       "      <th>002C</th>\n",
       "      <td>26</td>\n",
       "      <td>Masculino</td>\n",
       "      <td>0</td>\n",
       "      <td>Cego</td>\n",
       "      <td>Blind</td>\n",
       "    </tr>\n",
       "    <tr>\n",
       "      <th>001</th>\n",
       "      <td>22</td>\n",
       "      <td>Masculino</td>\n",
       "      <td>0</td>\n",
       "      <td>Não sou deficiente visual</td>\n",
       "      <td>Sight</td>\n",
       "    </tr>\n",
       "    <tr>\n",
       "      <th>001C</th>\n",
       "      <td>56</td>\n",
       "      <td>Masculino</td>\n",
       "      <td>0</td>\n",
       "      <td>Cego</td>\n",
       "      <td>Blind</td>\n",
       "    </tr>\n",
       "    <tr>\n",
       "      <th>003</th>\n",
       "      <td>28</td>\n",
       "      <td>Masculino</td>\n",
       "      <td>0</td>\n",
       "      <td>Não sou deficiente visual</td>\n",
       "      <td>Sight</td>\n",
       "    </tr>\n",
       "    <tr>\n",
       "      <th>003C</th>\n",
       "      <td>42</td>\n",
       "      <td>Masculino</td>\n",
       "      <td>0</td>\n",
       "      <td>Cego</td>\n",
       "      <td>Blind</td>\n",
       "    </tr>\n",
       "  </tbody>\n",
       "</table>\n",
       "</div>"
      ],
      "text/plain": [
       "               Idade:      Sexo:  Sexo 0/1  \\\n",
       "Participante:                                \n",
       "002C               26  Masculino         0   \n",
       "001                22  Masculino         0   \n",
       "001C               56  Masculino         0   \n",
       "003                28  Masculino         0   \n",
       "003C               42  Masculino         0   \n",
       "\n",
       "              Como deficiente visual você se identifica como:  \\\n",
       "Participante:                                                   \n",
       "002C                                                     Cego   \n",
       "001                                 Não sou deficiente visual   \n",
       "001C                                                     Cego   \n",
       "003                                 Não sou deficiente visual   \n",
       "003C                                                     Cego   \n",
       "\n",
       "              Deficiência visual  \n",
       "Participante:                     \n",
       "002C                       Blind  \n",
       "001                        Sight  \n",
       "001C                       Blind  \n",
       "003                        Sight  \n",
       "003C                       Blind  "
      ]
     },
     "execution_count": 136,
     "metadata": {},
     "output_type": "execute_result"
    }
   ],
   "source": [
    "sexo = []\n",
    "for s in participantes.iloc[:,1]:\n",
    "    if s == 'Masculino':\n",
    "        sexo.append(0)\n",
    "    else:\n",
    "        sexo.append(1)\n",
    "\n",
    "visual = []\n",
    "for v in participantes.iloc[:,2]:\n",
    "    if v == 'Não sou deficiente visual':\n",
    "        visual.append('Sight')\n",
    "    else:\n",
    "        visual.append('Blind')\n",
    "\n",
    "participantes.insert(2,'Sexo 0/1', sexo)\n",
    "participantes.insert(4,'Deficiência visual', visual)\n",
    "participantes"
   ]
  },
  {
   "cell_type": "markdown",
   "metadata": {},
   "source": [
    "### Nasa"
   ]
  },
  {
   "cell_type": "code",
   "execution_count": 137,
   "metadata": {},
   "outputs": [],
   "source": [
    "nasa = []\n",
    "for p in range(len(participantes)):\n",
    "    nasaPorCena = []\n",
    "    for c in range(len(cenas)):\n",
    "        nasaPorEtapa = []\n",
    "        for e in range(len(etapas)):\n",
    "            nasaEtapa = []\n",
    "            for d in range(len(dimensoesNasa)):\n",
    "                #print(dfNasa.iloc[d+e*6+c*12])\n",
    "                nasaEtapa.append(dfNasa.iloc[p,d+e*6+c*12])\n",
    "            nasaPorEtapa.append(nasaEtapa)\n",
    "        nasaPorCena.append(nasaPorEtapa)\n",
    "    nasa.append(nasaPorCena)\n",
    "#nasa"
   ]
  },
  {
   "cell_type": "markdown",
   "metadata": {},
   "source": [
    "### Sagat"
   ]
  },
  {
   "cell_type": "code",
   "execution_count": 138,
   "metadata": {},
   "outputs": [],
   "source": [
    "sagat = []\n",
    "for p in range(len(participantes)):\n",
    "    sagatPorCena = []\n",
    "    for c in range(len(cenas)):\n",
    "        sagatPorEtapa = []\n",
    "        for e in range(len(etapas)):\n",
    "            sagatEtapa = []\n",
    "            for d in range(len(perguntasSagat)):\n",
    "                #print(dfSagat.iloc[d+e*10+c*20])\n",
    "                sagatEtapa.append(dfSagat.iloc[p,d+e*10+c*20])\n",
    "            sagatPorEtapa.append(sagatEtapa)\n",
    "        sagatPorCena.append(sagatPorEtapa)\n",
    "    sagat.append(sagatPorCena)\n",
    "#sagat"
   ]
  },
  {
   "cell_type": "markdown",
   "metadata": {},
   "source": [
    "### Tempo"
   ]
  },
  {
   "cell_type": "code",
   "execution_count": 139,
   "metadata": {},
   "outputs": [
    {
     "data": {
      "text/plain": [
       "[[[316, 320], [367, 346], [380, 377], [333, 418], [376, 321]],\n",
       " [[356, 368], [347, 353], [305, 372], [392, 359], [348, 341]],\n",
       " [[356, 377], [345, 368], [382, 401], [324, 402], [368, 309]],\n",
       " [[311, 387], [311, 341], [328, 331], [320, 357], [394, 380]],\n",
       " [[337, 387], [354, 393], [333, 301], [354, 329], [381, 385]]]"
      ]
     },
     "execution_count": 139,
     "metadata": {},
     "output_type": "execute_result"
    }
   ],
   "source": [
    "tempo = []\n",
    "for p in range(len(participantes)):\n",
    "    tempoPorCena = []\n",
    "    for c in range(len(cenas)):\n",
    "        tempoPorEtapa = []\n",
    "        for e in range(len(etapas)):\n",
    "            #print(dftempo.iloc[d+e*6+c*12])\n",
    "            t = dfTempo.iloc[p,e+c*2]\n",
    "            if math.isnan(t):\n",
    "                t = random.randrange(5*60,7*60)\n",
    "            tempoPorEtapa.append(t)\n",
    "        tempoPorCena.append(tempoPorEtapa)\n",
    "    tempo.append(tempoPorCena)\n",
    "tempo"
   ]
  },
  {
   "cell_type": "markdown",
   "metadata": {},
   "source": [
    "### Questionários dos métodos de guiagem"
   ]
  },
  {
   "cell_type": "code",
   "execution_count": 140,
   "metadata": {},
   "outputs": [
    {
     "data": {
      "text/plain": [
       "[[[1, 1, 7, 4, 1, 1, 'Não'],\n",
       "  [7, 1, 1, 4, 1, 'Não, mas o vibrar do controle é um bom complemento'],\n",
       "  [5, 1, 7, 1, 3, 'Indicar o que esta na superficie da mesa', 'Não fez ainda'],\n",
       "  [1, 1, 7, 7, 7, 1, 7, 1, 1, 7, 1, 7, 4, 7, 4, 7, 1, 1, 'Não', 'Não']],\n",
       " [[3, 4, 7, 6, 7, 3, 'Não'],\n",
       "  [2, 2, 5, 5, 3, 'Não'],\n",
       "  [5, 0, 2, 4, 3, 'N]ao', 'Bengala. Achou ela mais precisa'],\n",
       "  [4, 5, 6, 5, 5, 3, 3, 2, 4, 2, 3, 7, 5, 6, 0, 3, 1, 2, 'Não', 'Cinto']],\n",
       " [[2, 1, 4, 6, 7, 3, 'Sim. Em qual sentido está o objeto'],\n",
       "  [5, 1, 5, 5, 3, 'Sim. Ele não informou onde estava as paredes'],\n",
       "  [5,\n",
       "   3,\n",
       "   6,\n",
       "   1,\n",
       "   1,\n",
       "   'Sim. Não informa o formato do objeto (quando comparado com a bengala)',\n",
       "   'Bengala, mais preciso (pode escolher onde aponta)'],\n",
       "  [2,\n",
       "   3,\n",
       "   0,\n",
       "   0,\n",
       "   0,\n",
       "   0,\n",
       "   6,\n",
       "   1,\n",
       "   1,\n",
       "   6,\n",
       "   1,\n",
       "   0,\n",
       "   3,\n",
       "   5,\n",
       "   3,\n",
       "   5,\n",
       "   1,\n",
       "   2,\n",
       "   'Sim. INformação sobre o formato do objeto',\n",
       "   'Audio foi desnecessário']],\n",
       " [[6,\n",
       "   1,\n",
       "   4,\n",
       "   4,\n",
       "   4,\n",
       "   4,\n",
       "   'O participante não usou comandos de voz, se orientou apenas pelos som ambiente.\\nA sensação de distância '],\n",
       "  [4, 1, 4, 3, 1, 'Algumas coisas não estava sendo informadas'],\n",
       "  [6,\n",
       "   0,\n",
       "   6,\n",
       "   1,\n",
       "   6,\n",
       "   'Sentiu falta da segurança do cinto em buscar em várias direções diferentes',\n",
       "   'Os dois, mas preferiria o cinto se ele tivesse uma intensidade de vibração maior'],\n",
       "  [3,\n",
       "   1,\n",
       "   0,\n",
       "   0,\n",
       "   0,\n",
       "   0,\n",
       "   3,\n",
       "   1,\n",
       "   5,\n",
       "   4,\n",
       "   1,\n",
       "   0,\n",
       "   7,\n",
       "   7,\n",
       "   0,\n",
       "   7,\n",
       "   1,\n",
       "   1,\n",
       "   'A distância não está tão clara com as vibrações',\n",
       "   'Áudio']],\n",
       " [[6, 2, 6, 4, 7, 1, 'Não'],\n",
       "  [4,\n",
       "   1,\n",
       "   3,\n",
       "   3,\n",
       "   1,\n",
       "   'Sim. Falto vibração em alguns pontos. Parece que a vibração da parede é mais intensa do que a dos objetos. Também está com dificuldade de perceber a cadeira'],\n",
       "  [3,\n",
       "   3,\n",
       "   5,\n",
       "   4,\n",
       "   4,\n",
       "   'Sim. Vibra demais em alguns mmomentos mas não vibra em outros. Avisa mto cedo para perceber a diferença. TAlvez ser mais amplo também. Fica dificil reconhecer o objeto',\n",
       "   'Bengala. Parece mais precisa. O Cinto confundi um pouco as vibrações dele.'],\n",
       "  [6,\n",
       "   1,\n",
       "   0,\n",
       "   0,\n",
       "   0,\n",
       "   0,\n",
       "   1,\n",
       "   1,\n",
       "   6,\n",
       "   1,\n",
       "   1,\n",
       "   6,\n",
       "   4,\n",
       "   7,\n",
       "   4,\n",
       "   4,\n",
       "   1,\n",
       "   1,\n",
       "   'Não',\n",
       "   'Comando de áudio.O cinto poderia ter menos pontos distribuídos']]]"
      ]
     },
     "execution_count": 140,
     "metadata": {},
     "output_type": "execute_result"
    }
   ],
   "source": [
    "perguntasQuestionario = [7,6,7,20]\n",
    "\n",
    "questionarios = []\n",
    "for p in range(len(participantes)):\n",
    "    questionariosPorCena = []\n",
    "    for c in range(len(cenas)-1):\n",
    "        questionarioCena = []\n",
    "        for d in range(perguntasQuestionario[c]):\n",
    "            #print(dfQuestionario.iloc[d+sum(perguntasQuestionario[:c])])\n",
    "            questionarioCena.append(dfQuestionario.iloc[p,d+sum(perguntasQuestionario[:c])])\n",
    "        questionariosPorCena.append(questionarioCena)\n",
    "    questionarios.append(questionariosPorCena)\n",
    "questionarios"
   ]
  },
  {
   "cell_type": "code",
   "execution_count": 141,
   "metadata": {},
   "outputs": [],
   "source": [
    "reducaoQ = [1,1,2,2]\n",
    "contMedia = []\n",
    "for p in range(len(participantes)):\n",
    "    #print('Participante')\n",
    "    #print(str(p+1) + ' de ' + str(len(questionarios)))\n",
    "    contMediaPart = []\n",
    "    for c in range(len(cenas)-1):\n",
    "        #print('Cena')\n",
    "        #print(str(c+1) + ' de ' + str(len(questionarios[p])))\n",
    "        #print(questionarios[p][c])\n",
    "        #teste = 0\n",
    "        contMediaCena = []\n",
    "        for n in range(len(questionarios[p][c])-reducaoQ[c]):\n",
    "            cont0 = 0\n",
    "            cont = []\n",
    "            #teste = teste + 1\n",
    "            #print('Pergunta')\n",
    "            #print(str(teste) + ' de ' + str(len(questionarios[p][c])))\n",
    "            if c == 0:\n",
    "                if n == 3:\n",
    "                    questionarios[p][c][n] = abs(questionarios[p][c][n]-8)/4\n",
    "                else:\n",
    "                    questionarios[p][c][n] = abs(questionarios[p][c][n]-8)/7\n",
    "                cont.append(len(questionarios[p][c])-reducaoQ[c] - cont0)\n",
    "                cont0 = 0\n",
    "            if c == 1:\n",
    "                if n != 0 and n != 3:\n",
    "                    questionarios[p][c][n] = abs(questionarios[p][c][n]-8)/7\n",
    "                else:\n",
    "                    questionarios[p][c][n] = questionarios[p][c][n]/7\n",
    "                cont.append(len(questionarios[p][c])-reducaoQ[c] - cont0)\n",
    "                cont0 = 0\n",
    "            if c == 2:\n",
    "                if questionarios[p][c][2] == 2:\n",
    "                    cont0 = cont0 + 1 \n",
    "                questionarios[p][c][n] = questionarios[p][c][n]/7\n",
    "                cont.append(len(questionarios[p][c])-reducaoQ[c] - cont0)\n",
    "                cont0\n",
    "            if c == 3:\n",
    "                if questionarios[p][c][n] == 0:\n",
    "                    cont0 = cont0 + 1 \n",
    "                if n in [0,1,2,4,5,7,8,10]:\n",
    "                    questionarios[p][c][n] = abs(questionarios[p][c][n]-8)/7\n",
    "                elif n == 3:\n",
    "                    questionarios[p][c][n] = abs(questionarios[p][c][n]-8)/4\n",
    "                else:\n",
    "                    questionarios[p][c][n] = questionarios[p][c][n]/7\n",
    "                cont.append(len(questionarios[p][c])-reducaoQ[c] - cont0)\n",
    "                cont0\n",
    "            contMediaCena.append(cont)\n",
    "        contMediaPart.append(contMediaCena)\n",
    "    contMedia.append(contMediaPart)\n"
   ]
  },
  {
   "cell_type": "markdown",
   "metadata": {},
   "source": [
    "# Separar e definir os valores para análise"
   ]
  },
  {
   "cell_type": "markdown",
   "metadata": {},
   "source": [
    "## Nasa"
   ]
  },
  {
   "cell_type": "markdown",
   "metadata": {},
   "source": [
    "### Demanda Mental"
   ]
  },
  {
   "cell_type": "code",
   "execution_count": 142,
   "metadata": {},
   "outputs": [],
   "source": [
    "mdNasa = []\n",
    "for p in range(len(participantes)):\n",
    "    mdNasaPorCena = []\n",
    "    for c in range(len(cenas)):\n",
    "        mdNasaPorEtapa = []\n",
    "        for e in range(len(etapas)):\n",
    "            #print(nasa[p][c][e][0])\n",
    "            mdNasaPorEtapa.append(nasa[p][c][e][0])\n",
    "            #print(mdNasaPorEtapa)\n",
    "        mdNasaPorCena.append(mdNasaPorEtapa)\n",
    "        #print(mdNasaPorCena)\n",
    "    mdNasa.append(mdNasaPorCena)\n",
    "#mdNasa"
   ]
  },
  {
   "cell_type": "markdown",
   "metadata": {},
   "source": [
    "### Variação percentual na Demanda Mental (por cenários, por participante)"
   ]
  },
  {
   "cell_type": "code",
   "execution_count": 143,
   "metadata": {},
   "outputs": [],
   "source": [
    "i1 = []\n",
    "for i in participantes.index:\n",
    "    i1.append(i)\n",
    "    i1.append(i)\n",
    "\n",
    "i2 = []\n",
    "for i in participantes.iloc[:,4]:\n",
    "    i2.append(i)\n",
    "    i2.append(i)\n",
    "\n",
    "indexDef = list(zip(i1,i2,['First','Return']*10))\n",
    "indexDef = pd.MultiIndex.from_tuples(indexDef, names=[\"Participant\", \"Visual Impairment\", 'Round'])\n",
    "\n",
    "dfMdVariation = pd.DataFrame([],columns = nomeCenas,index = indexDef)\n",
    "\n",
    "mdNasa_var_cen_par = []\n",
    "for p in range(len(participantes)):\n",
    "    mdNasaPorCena_var_cen_par = []\n",
    "    for c in range(len(cenas)):\n",
    "        #print(mdNasa[p][c][:])\n",
    "        #print(np.mean(mdNasa[p][c][:]))\n",
    "        mdFinal = mdNasa[p][c][1]\n",
    "        mdInicial = mdNasa[p][c][0]\n",
    "        dfMdVariation.iloc[p*2,c] = mdInicial\n",
    "        dfMdVariation.iloc[p*2+1,c] = mdFinal\n",
    "        mdNasaPorCena_var_cen_par.append((mdFinal-mdInicial)/mdInicial*100)\n",
    "    mdNasa_var_cen_par.append(mdNasaPorCena_var_cen_par)\n",
    "mdNasa_var_cen_par = pd.DataFrame(mdNasa_var_cen_par, columns=nomeCenas, index = participantes.index)\n",
    "mdNasa_var_cen_par = pd.concat([mdNasa_var_cen_par,participantes.loc[:,'Deficiência visual']],axis = 1)\n",
    "mdNasa_var_cen_par.rename(columns = {'Deficiência visual' : 'Visual Impairment'}, inplace=True) \n",
    "mdNasa_var_cen_par.index.names = ['Participant']\n",
    "mdNasa_var_cen_par\n",
    "dfMdVariation.set_index(indexDef, inplace = True)"
   ]
  },
  {
   "cell_type": "code",
   "execution_count": 144,
   "metadata": {},
   "outputs": [
    {
     "name": "stdout",
     "output_type": "stream",
     "text": [
      "\\begin{table}[!htb]\n",
      "\\centering\n",
      "\\caption{Mental demand felled by the participants.}\n",
      "\\label{tab:md_table}\n",
      "\\begin{tabular}{llllllll}\n",
      "\\toprule\n",
      "     &       &        & Base & Audio & Haptic Belt & Virtual Cane & Mixture \\\\\n",
      "Participant & Visual Impairment & Round &      &       &             &              &         \\\\\n",
      "\\midrule\n",
      "002C & Blind & First &    5 &     1 &           1 &           10 &      12 \\\\\n",
      "     &       & Return &    1 &     1 &           1 &           10 &       3 \\\\\n",
      "001 & Sight & First &    6 &    12 &          11 &            5 &       9 \\\\\n",
      "     &       & Return &    6 &    13 &          13 &            5 &      10 \\\\\n",
      "001C & Blind & First &    3 &     1 &          14 &            3 &       6 \\\\\n",
      "     &       & Return &    1 &     1 &          10 &            2 &       6 \\\\\n",
      "003 & Sight & First &    2 &    18 &          18 &           16 &      10 \\\\\n",
      "     &       & Return &    1 &    12 &          15 &           11 &       8 \\\\\n",
      "003C & Blind & First &    5 &     5 &           5 &            8 &       1 \\\\\n",
      "     &       & Return &    3 &     1 &           1 &            2 &       1 \\\\\n",
      "\\bottomrule\n",
      "\\end{tabular}\n",
      "\\end{table}\n",
      "\n"
     ]
    }
   ],
   "source": [
    "label = 'tab:md_table'\n",
    "caption = 'Mental demand felled by the participants.'\n",
    "\n",
    "tabela_latex(dfMdVariation,label,caption,'Nasa-TLX')\n",
    "\n",
    "tabela = 0\n",
    "label = 0\n",
    "caption = 0"
   ]
  },
  {
   "cell_type": "code",
   "execution_count": 145,
   "metadata": {},
   "outputs": [
    {
     "name": "stdout",
     "output_type": "stream",
     "text": [
      "\\begin{table}[!htb]\n",
      "\\centering\n",
      "\\caption{Mental demand variation by participant and method.}\n",
      "\\label{tab:md_variation}\n",
      "\\begin{tabular}{lrrrrrl}\n",
      "\\toprule\n",
      "{} &    Base &   Audio &  Haptic Belt &  Virtual Cane &  Mixture & Visual Impairment \\\\\n",
      "Participant &         &         &              &               &          &                   \\\\\n",
      "\\midrule\n",
      "002C        & -80.000 &   0.000 &        0.000 &         0.000 &  -75.000 &             Blind \\\\\n",
      "001         &   0.000 &   8.333 &       18.182 &         0.000 &   11.111 &             Sight \\\\\n",
      "001C        & -66.667 &   0.000 &      -28.571 &       -33.333 &    0.000 &             Blind \\\\\n",
      "003         & -50.000 & -33.333 &      -16.667 &       -31.250 &  -20.000 &             Sight \\\\\n",
      "003C        & -40.000 & -80.000 &      -80.000 &       -75.000 &    0.000 &             Blind \\\\\n",
      "\\bottomrule\n",
      "\\end{tabular}\n",
      "\\end{table}\n",
      "\n"
     ]
    }
   ],
   "source": [
    "label = 'tab:md_variation'\n",
    "caption = 'Mental demand variation by participant and method.'\n",
    "\n",
    "tabela_latex(mdNasa_var_cen_par,label,caption,'Nasa-TLX')\n",
    "\n",
    "tabela = 0\n",
    "label = 0\n",
    "caption = 0"
   ]
  },
  {
   "cell_type": "markdown",
   "metadata": {},
   "source": [
    "### Variação percentual Demanda Mental (por cenários, por deficiencia)"
   ]
  },
  {
   "cell_type": "code",
   "execution_count": 146,
   "metadata": {},
   "outputs": [
    {
     "data": {
      "text/html": [
       "<div>\n",
       "<style scoped>\n",
       "    .dataframe tbody tr th:only-of-type {\n",
       "        vertical-align: middle;\n",
       "    }\n",
       "\n",
       "    .dataframe tbody tr th {\n",
       "        vertical-align: top;\n",
       "    }\n",
       "\n",
       "    .dataframe thead th {\n",
       "        text-align: right;\n",
       "    }\n",
       "</style>\n",
       "<table border=\"1\" class=\"dataframe\">\n",
       "  <thead>\n",
       "    <tr style=\"text-align: right;\">\n",
       "      <th></th>\n",
       "      <th>Base</th>\n",
       "      <th>Audio</th>\n",
       "      <th>Haptic Belt</th>\n",
       "      <th>Virtual Cane</th>\n",
       "      <th>Mixture</th>\n",
       "    </tr>\n",
       "    <tr>\n",
       "      <th>Visual Impairment</th>\n",
       "      <th></th>\n",
       "      <th></th>\n",
       "      <th></th>\n",
       "      <th></th>\n",
       "      <th></th>\n",
       "    </tr>\n",
       "  </thead>\n",
       "  <tbody>\n",
       "    <tr>\n",
       "      <th>Blind</th>\n",
       "      <td>-62.222222</td>\n",
       "      <td>-26.666667</td>\n",
       "      <td>-36.190476</td>\n",
       "      <td>-36.111111</td>\n",
       "      <td>-25.000000</td>\n",
       "    </tr>\n",
       "    <tr>\n",
       "      <th>Sight</th>\n",
       "      <td>-25.000000</td>\n",
       "      <td>-12.500000</td>\n",
       "      <td>0.757576</td>\n",
       "      <td>-15.625000</td>\n",
       "      <td>-4.444444</td>\n",
       "    </tr>\n",
       "  </tbody>\n",
       "</table>\n",
       "</div>"
      ],
      "text/plain": [
       "                        Base      Audio  Haptic Belt  Virtual Cane    Mixture\n",
       "Visual Impairment                                                            \n",
       "Blind             -62.222222 -26.666667   -36.190476    -36.111111 -25.000000\n",
       "Sight             -25.000000 -12.500000     0.757576    -15.625000  -4.444444"
      ]
     },
     "execution_count": 146,
     "metadata": {},
     "output_type": "execute_result"
    }
   ],
   "source": [
    "mdNasa_var_cen_def = mdNasa_var_cen_par.groupby(by = 'Visual Impairment').mean()\n",
    "mdNasa_var_cen_def"
   ]
  },
  {
   "cell_type": "code",
   "execution_count": 147,
   "metadata": {},
   "outputs": [
    {
     "name": "stdout",
     "output_type": "stream",
     "text": [
      "\\begin{table}[!htb]\n",
      "\\centering\n",
      "\\caption{Mental demand variation grouped by participant and visual impairment.}\n",
      "\\label{tab:md_var_average_group}\n",
      "\\begin{tabular}{lrrrrr}\n",
      "\\toprule\n",
      "{} &    Base &   Audio &  Haptic Belt &  Virtual Cane &  Mixture \\\\\n",
      "Visual Impairment &         &         &              &               &          \\\\\n",
      "\\midrule\n",
      "Blind             & -62.222 & -26.667 &      -36.190 &       -36.111 &  -25.000 \\\\\n",
      "Sight             & -25.000 & -12.500 &        0.758 &       -15.625 &   -4.444 \\\\\n",
      "\\bottomrule\n",
      "\\end{tabular}\n",
      "\\end{table}\n",
      "\n"
     ]
    }
   ],
   "source": [
    "label = 'tab:md_var_average_group'\n",
    "caption = 'Mental demand variation grouped by participant and visual impairment.'\n",
    "\n",
    "tabela_latex(mdNasa_var_cen_def,label,caption,'Nasa-TLX')\n",
    "\n",
    "tabela = 0\n",
    "label = 0\n",
    "caption = 0"
   ]
  },
  {
   "cell_type": "markdown",
   "metadata": {},
   "source": [
    "### Média Demanda Mental (por cenários, por participante)"
   ]
  },
  {
   "cell_type": "code",
   "execution_count": 148,
   "metadata": {},
   "outputs": [
    {
     "data": {
      "text/html": [
       "<div>\n",
       "<style scoped>\n",
       "    .dataframe tbody tr th:only-of-type {\n",
       "        vertical-align: middle;\n",
       "    }\n",
       "\n",
       "    .dataframe tbody tr th {\n",
       "        vertical-align: top;\n",
       "    }\n",
       "\n",
       "    .dataframe thead th {\n",
       "        text-align: right;\n",
       "    }\n",
       "</style>\n",
       "<table border=\"1\" class=\"dataframe\">\n",
       "  <thead>\n",
       "    <tr style=\"text-align: right;\">\n",
       "      <th></th>\n",
       "      <th>Base</th>\n",
       "      <th>Audio</th>\n",
       "      <th>Haptic Belt</th>\n",
       "      <th>Virtual Cane</th>\n",
       "      <th>Mixture</th>\n",
       "      <th>Visual Impairment</th>\n",
       "    </tr>\n",
       "    <tr>\n",
       "      <th>Participant</th>\n",
       "      <th></th>\n",
       "      <th></th>\n",
       "      <th></th>\n",
       "      <th></th>\n",
       "      <th></th>\n",
       "      <th></th>\n",
       "    </tr>\n",
       "  </thead>\n",
       "  <tbody>\n",
       "    <tr>\n",
       "      <th>002C</th>\n",
       "      <td>3.0</td>\n",
       "      <td>1.0</td>\n",
       "      <td>1.0</td>\n",
       "      <td>10.0</td>\n",
       "      <td>7.5</td>\n",
       "      <td>Blind</td>\n",
       "    </tr>\n",
       "    <tr>\n",
       "      <th>001</th>\n",
       "      <td>6.0</td>\n",
       "      <td>12.5</td>\n",
       "      <td>12.0</td>\n",
       "      <td>5.0</td>\n",
       "      <td>9.5</td>\n",
       "      <td>Sight</td>\n",
       "    </tr>\n",
       "    <tr>\n",
       "      <th>001C</th>\n",
       "      <td>2.0</td>\n",
       "      <td>1.0</td>\n",
       "      <td>12.0</td>\n",
       "      <td>2.5</td>\n",
       "      <td>6.0</td>\n",
       "      <td>Blind</td>\n",
       "    </tr>\n",
       "    <tr>\n",
       "      <th>003</th>\n",
       "      <td>1.5</td>\n",
       "      <td>15.0</td>\n",
       "      <td>16.5</td>\n",
       "      <td>13.5</td>\n",
       "      <td>9.0</td>\n",
       "      <td>Sight</td>\n",
       "    </tr>\n",
       "    <tr>\n",
       "      <th>003C</th>\n",
       "      <td>4.0</td>\n",
       "      <td>3.0</td>\n",
       "      <td>3.0</td>\n",
       "      <td>5.0</td>\n",
       "      <td>1.0</td>\n",
       "      <td>Blind</td>\n",
       "    </tr>\n",
       "  </tbody>\n",
       "</table>\n",
       "</div>"
      ],
      "text/plain": [
       "             Base  Audio  Haptic Belt  Virtual Cane  Mixture Visual Impairment\n",
       "Participant                                                                   \n",
       "002C          3.0    1.0          1.0          10.0      7.5             Blind\n",
       "001           6.0   12.5         12.0           5.0      9.5             Sight\n",
       "001C          2.0    1.0         12.0           2.5      6.0             Blind\n",
       "003           1.5   15.0         16.5          13.5      9.0             Sight\n",
       "003C          4.0    3.0          3.0           5.0      1.0             Blind"
      ]
     },
     "execution_count": 148,
     "metadata": {},
     "output_type": "execute_result"
    }
   ],
   "source": [
    "mdNasa_media_cen_par = []\n",
    "for p in range(len(participantes)):\n",
    "    mdNasaPorCena_media_cen_par = []\n",
    "    for c in range(len(cenas)):\n",
    "        #print(mdNasa[p][c][:])\n",
    "        #print(np.mean(mdNasa[p][c][:]))\n",
    "        mdNasaPorCena_media_cen_par.append(np.mean(mdNasa[p][c][:]))\n",
    "    mdNasa_media_cen_par.append(mdNasaPorCena_media_cen_par)\n",
    "mdNasa_media_cen_par = pd.DataFrame(mdNasa_media_cen_par, columns=nomeCenas, index = participantes.index)\n",
    "mdNasa_media_cen_par = pd.concat([mdNasa_media_cen_par,participantes.loc[:,'Deficiência visual']],axis = 1)\n",
    "mdNasa_media_cen_par.rename(columns = {'Deficiência visual' : 'Visual Impairment'}, inplace=True) \n",
    "mdNasa_media_cen_par.index.names = ['Participant']\n",
    "mdNasa_media_cen_par"
   ]
  },
  {
   "cell_type": "code",
   "execution_count": 149,
   "metadata": {},
   "outputs": [
    {
     "name": "stdout",
     "output_type": "stream",
     "text": [
      "\\begin{table}[!htb]\n",
      "\\centering\n",
      "\\caption{Mental demand average by participant and method.}\n",
      "\\label{tab:md_average}\n",
      "\\begin{tabular}{lrrrrrl}\n",
      "\\toprule\n",
      "{} &  Base &  Audio &  Haptic Belt &  Virtual Cane &  Mixture & Visual Impairment \\\\\n",
      "Participant &       &        &              &               &          &                   \\\\\n",
      "\\midrule\n",
      "002C        & 3.000 &  1.000 &        1.000 &        10.000 &    7.500 &             Blind \\\\\n",
      "001         & 6.000 & 12.500 &       12.000 &         5.000 &    9.500 &             Sight \\\\\n",
      "001C        & 2.000 &  1.000 &       12.000 &         2.500 &    6.000 &             Blind \\\\\n",
      "003         & 1.500 & 15.000 &       16.500 &        13.500 &    9.000 &             Sight \\\\\n",
      "003C        & 4.000 &  3.000 &        3.000 &         5.000 &    1.000 &             Blind \\\\\n",
      "\\bottomrule\n",
      "\\end{tabular}\n",
      "\\end{table}\n",
      "\n"
     ]
    }
   ],
   "source": [
    "label = 'tab:md_average'\n",
    "caption = 'Mental demand average by participant and method.'\n",
    "\n",
    "tabela_latex(mdNasa_media_cen_par,label,caption,'Nasa-TLX')\n",
    "\n",
    "tabela = 0\n",
    "label = 0\n",
    "caption = 0"
   ]
  },
  {
   "cell_type": "markdown",
   "metadata": {},
   "source": [
    "### Média Demanda Mental (por cenários, por deficiencia)"
   ]
  },
  {
   "cell_type": "code",
   "execution_count": 150,
   "metadata": {},
   "outputs": [
    {
     "data": {
      "text/html": [
       "<div>\n",
       "<style scoped>\n",
       "    .dataframe tbody tr th:only-of-type {\n",
       "        vertical-align: middle;\n",
       "    }\n",
       "\n",
       "    .dataframe tbody tr th {\n",
       "        vertical-align: top;\n",
       "    }\n",
       "\n",
       "    .dataframe thead th {\n",
       "        text-align: right;\n",
       "    }\n",
       "</style>\n",
       "<table border=\"1\" class=\"dataframe\">\n",
       "  <thead>\n",
       "    <tr style=\"text-align: right;\">\n",
       "      <th></th>\n",
       "      <th>Base</th>\n",
       "      <th>Audio</th>\n",
       "      <th>Haptic Belt</th>\n",
       "      <th>Virtual Cane</th>\n",
       "      <th>Mixture</th>\n",
       "    </tr>\n",
       "    <tr>\n",
       "      <th>Visual Impairment</th>\n",
       "      <th></th>\n",
       "      <th></th>\n",
       "      <th></th>\n",
       "      <th></th>\n",
       "      <th></th>\n",
       "    </tr>\n",
       "  </thead>\n",
       "  <tbody>\n",
       "    <tr>\n",
       "      <th>Blind</th>\n",
       "      <td>3.00</td>\n",
       "      <td>1.666667</td>\n",
       "      <td>5.333333</td>\n",
       "      <td>5.833333</td>\n",
       "      <td>4.833333</td>\n",
       "    </tr>\n",
       "    <tr>\n",
       "      <th>Sight</th>\n",
       "      <td>3.75</td>\n",
       "      <td>13.750000</td>\n",
       "      <td>14.250000</td>\n",
       "      <td>9.250000</td>\n",
       "      <td>9.250000</td>\n",
       "    </tr>\n",
       "  </tbody>\n",
       "</table>\n",
       "</div>"
      ],
      "text/plain": [
       "                   Base      Audio  Haptic Belt  Virtual Cane   Mixture\n",
       "Visual Impairment                                                      \n",
       "Blind              3.00   1.666667     5.333333      5.833333  4.833333\n",
       "Sight              3.75  13.750000    14.250000      9.250000  9.250000"
      ]
     },
     "execution_count": 150,
     "metadata": {},
     "output_type": "execute_result"
    }
   ],
   "source": [
    "mdNasa_media_cen_def = mdNasa_media_cen_par.groupby(by = 'Visual Impairment').mean()\n",
    "mdNasa_media_cen_def"
   ]
  },
  {
   "cell_type": "code",
   "execution_count": 151,
   "metadata": {},
   "outputs": [
    {
     "name": "stdout",
     "output_type": "stream",
     "text": [
      "\\begin{table}[!htb]\n",
      "\\centering\n",
      "\\caption{Mental demand average grouped by participant and visual impairment.}\n",
      "\\label{tab:md_average_group}\n",
      "\\begin{tabular}{lrrrrr}\n",
      "\\toprule\n",
      "{} &  Base &  Audio &  Haptic Belt &  Virtual Cane &  Mixture \\\\\n",
      "Visual Impairment &       &        &              &               &          \\\\\n",
      "\\midrule\n",
      "Blind             & 3.000 &  1.667 &        5.333 &         5.833 &    4.833 \\\\\n",
      "Sight             & 3.750 & 13.750 &       14.250 &         9.250 &    9.250 \\\\\n",
      "\\bottomrule\n",
      "\\end{tabular}\n",
      "\\end{table}\n",
      "\n"
     ]
    }
   ],
   "source": [
    "label = 'tab:md_average_group'\n",
    "caption = 'Mental demand average grouped by participant and visual impairment.'\n",
    "\n",
    "tabela_latex(mdNasa_media_cen_def,label,caption,'Nasa-TLX')\n",
    "\n",
    "tabela = 0\n",
    "label = 0\n",
    "caption = 0"
   ]
  },
  {
   "cell_type": "markdown",
   "metadata": {},
   "source": [
    "### Carga Mental"
   ]
  },
  {
   "cell_type": "code",
   "execution_count": 152,
   "metadata": {},
   "outputs": [],
   "source": [
    "cmNasa = []\n",
    "for p in range(len(participantes)):\n",
    "    cmNasaPorCena = []\n",
    "    for c in range(len(cenas)):\n",
    "        cmNasaPorEtapa = []\n",
    "        for e in range(len(etapas)):\n",
    "            #print(nasa[p][c][e][:])\n",
    "            cmNasaPorEtapa.append(np.mean(nasa[p][c][e][:]))\n",
    "            #print(cmNasaPorEtapa)\n",
    "        cmNasaPorCena.append(cmNasaPorEtapa)\n",
    "        #print(cmNasaPorCena)\n",
    "    cmNasa.append(cmNasaPorCena)\n",
    "#cdNasa"
   ]
  },
  {
   "cell_type": "markdown",
   "metadata": {},
   "source": [
    "### Variação percentual Carga Mental (por cenários, por participante)"
   ]
  },
  {
   "cell_type": "code",
   "execution_count": 153,
   "metadata": {},
   "outputs": [
    {
     "data": {
      "text/html": [
       "<div>\n",
       "<style scoped>\n",
       "    .dataframe tbody tr th:only-of-type {\n",
       "        vertical-align: middle;\n",
       "    }\n",
       "\n",
       "    .dataframe tbody tr th {\n",
       "        vertical-align: top;\n",
       "    }\n",
       "\n",
       "    .dataframe thead th {\n",
       "        text-align: right;\n",
       "    }\n",
       "</style>\n",
       "<table border=\"1\" class=\"dataframe\">\n",
       "  <thead>\n",
       "    <tr style=\"text-align: right;\">\n",
       "      <th></th>\n",
       "      <th>Base</th>\n",
       "      <th>Audio</th>\n",
       "      <th>Haptic Belt</th>\n",
       "      <th>Virtual Cane</th>\n",
       "      <th>Mixture</th>\n",
       "      <th>Visual Impairment</th>\n",
       "    </tr>\n",
       "    <tr>\n",
       "      <th>Participant</th>\n",
       "      <th></th>\n",
       "      <th></th>\n",
       "      <th></th>\n",
       "      <th></th>\n",
       "      <th></th>\n",
       "      <th></th>\n",
       "    </tr>\n",
       "  </thead>\n",
       "  <tbody>\n",
       "    <tr>\n",
       "      <th>002C</th>\n",
       "      <td>-28.947368</td>\n",
       "      <td>0.000000</td>\n",
       "      <td>0.000000</td>\n",
       "      <td>-22.222222</td>\n",
       "      <td>-26.190476</td>\n",
       "      <td>Blind</td>\n",
       "    </tr>\n",
       "    <tr>\n",
       "      <th>001</th>\n",
       "      <td>2.127660</td>\n",
       "      <td>8.196721</td>\n",
       "      <td>10.169492</td>\n",
       "      <td>-11.904762</td>\n",
       "      <td>3.703704</td>\n",
       "      <td>Sight</td>\n",
       "    </tr>\n",
       "    <tr>\n",
       "      <th>001C</th>\n",
       "      <td>-13.793103</td>\n",
       "      <td>0.000000</td>\n",
       "      <td>-24.528302</td>\n",
       "      <td>-12.903226</td>\n",
       "      <td>-2.631579</td>\n",
       "      <td>Blind</td>\n",
       "    </tr>\n",
       "    <tr>\n",
       "      <th>003</th>\n",
       "      <td>-10.344828</td>\n",
       "      <td>-32.203390</td>\n",
       "      <td>-4.918033</td>\n",
       "      <td>-17.543860</td>\n",
       "      <td>-25.641026</td>\n",
       "      <td>Sight</td>\n",
       "    </tr>\n",
       "    <tr>\n",
       "      <th>003C</th>\n",
       "      <td>0.000000</td>\n",
       "      <td>-4.166667</td>\n",
       "      <td>-31.250000</td>\n",
       "      <td>-47.500000</td>\n",
       "      <td>0.000000</td>\n",
       "      <td>Blind</td>\n",
       "    </tr>\n",
       "  </tbody>\n",
       "</table>\n",
       "</div>"
      ],
      "text/plain": [
       "                  Base      Audio  Haptic Belt  Virtual Cane    Mixture  \\\n",
       "Participant                                                               \n",
       "002C        -28.947368   0.000000     0.000000    -22.222222 -26.190476   \n",
       "001           2.127660   8.196721    10.169492    -11.904762   3.703704   \n",
       "001C        -13.793103   0.000000   -24.528302    -12.903226  -2.631579   \n",
       "003         -10.344828 -32.203390    -4.918033    -17.543860 -25.641026   \n",
       "003C          0.000000  -4.166667   -31.250000    -47.500000   0.000000   \n",
       "\n",
       "            Visual Impairment  \n",
       "Participant                    \n",
       "002C                    Blind  \n",
       "001                     Sight  \n",
       "001C                    Blind  \n",
       "003                     Sight  \n",
       "003C                    Blind  "
      ]
     },
     "execution_count": 153,
     "metadata": {},
     "output_type": "execute_result"
    }
   ],
   "source": [
    "i1 = []\n",
    "for i in participantes.index:\n",
    "    i1.append(i)\n",
    "    i1.append(i)\n",
    "\n",
    "i2 = []\n",
    "for i in participantes.iloc[:,4]:\n",
    "    i2.append(i)\n",
    "    i2.append(i)\n",
    "\n",
    "indexDef = list(zip(i1,i2,['First','Return']*10))\n",
    "indexDef = pd.MultiIndex.from_tuples(indexDef, names=[\"Participant\", \"Visual Impairment\", 'Round'])\n",
    "\n",
    "dfCmVariation = pd.DataFrame([],columns = nomeCenas,index = indexDef)\n",
    "cmNasa_var_cen_par = []\n",
    "for p in range(len(participantes)):\n",
    "    cmNasaPorCena_var_cen_par = []\n",
    "    for c in range(len(cenas)):\n",
    "        #print(cdNasa[p][c][:])\n",
    "        #print(np.mean(cdNasa[p][c][:]))\n",
    "        cmFinal = cmNasa[p][c][1]\n",
    "        cmInicial = cmNasa[p][c][0]\n",
    "        dfCmVariation.iloc[p*2,c] = cmInicial\n",
    "        dfCmVariation.iloc[p*2+1,c] = cmFinal\n",
    "        cmNasaPorCena_var_cen_par.append((cmFinal - cmInicial)/cmInicial*100)\n",
    "    cmNasa_var_cen_par.append(cmNasaPorCena_var_cen_par)\n",
    "cmNasa_var_cen_par = pd.DataFrame(cmNasa_var_cen_par, columns=nomeCenas, index = participantes.index)\n",
    "cmNasa_var_cen_par = pd.concat([cmNasa_var_cen_par,participantes.loc[:,'Deficiência visual']],axis = 1)\n",
    "cmNasa_var_cen_par.rename(columns = {'Deficiência visual' : 'Visual Impairment'}, inplace=True) \n",
    "cmNasa_var_cen_par.index.names = ['Participant']\n",
    "cmNasa_var_cen_par"
   ]
  },
  {
   "cell_type": "code",
   "execution_count": 154,
   "metadata": {},
   "outputs": [
    {
     "name": "stdout",
     "output_type": "stream",
     "text": [
      "\\begin{table}[!htb]\n",
      "\\centering\n",
      "\\caption{NASA score felled by the participants.}\n",
      "\\label{tab:nasa_table}\n",
      "\\begin{tabular}{llllllll}\n",
      "\\toprule\n",
      "     &       &        &  Base &  Audio & Haptic Belt & Virtual Cane & Mixture \\\\\n",
      "Participant & Visual Impairment & Round &       &        &             &              &         \\\\\n",
      "\\midrule\n",
      "002C & Blind & First & 6.333 &  4.833 &       4.833 &        9.000 &   7.000 \\\\\n",
      "     &       & Return & 4.500 &  4.833 &       4.833 &        7.000 &   5.167 \\\\\n",
      "001 & Sight & First & 7.833 & 10.167 &       9.833 &        7.000 &   9.000 \\\\\n",
      "     &       & Return & 8.000 & 11.000 &      10.833 &        6.167 &   9.333 \\\\\n",
      "001C & Blind & First & 4.833 &  4.000 &       8.833 &        5.167 &   6.333 \\\\\n",
      "     &       & Return & 4.167 &  4.000 &       6.667 &        4.500 &   6.167 \\\\\n",
      "003 & Sight & First & 4.833 &  9.833 &      10.167 &        9.500 &   6.500 \\\\\n",
      "     &       & Return & 4.333 &  6.667 &       9.667 &        7.833 &   4.833 \\\\\n",
      "003C & Blind & First & 4.000 &  4.000 &       5.333 &        6.667 &   3.500 \\\\\n",
      "     &       & Return & 4.000 &  3.833 &       3.667 &        3.500 &   3.500 \\\\\n",
      "\\bottomrule\n",
      "\\end{tabular}\n",
      "\\end{table}\n",
      "\n"
     ]
    }
   ],
   "source": [
    "label = 'tab:nasa_table'\n",
    "caption = 'NASA score felled by the participants.'\n",
    "\n",
    "tabela_latex(dfCmVariation,label,caption,'Nasa-TLX')\n",
    "\n",
    "tabela = 0\n",
    "label = 0\n",
    "caption = 0"
   ]
  },
  {
   "cell_type": "code",
   "execution_count": 155,
   "metadata": {},
   "outputs": [
    {
     "name": "stdout",
     "output_type": "stream",
     "text": [
      "\\begin{table}[!htb]\n",
      "\\centering\n",
      "\\caption{NASA-TLX score variation grouped by participant and method.}\n",
      "\\label{tab:nasa_var}\n",
      "\\begin{tabular}{lrrrrrl}\n",
      "\\toprule\n",
      "{} &    Base &   Audio &  Haptic Belt &  Virtual Cane &  Mixture & Visual Impairment \\\\\n",
      "Participant &         &         &              &               &          &                   \\\\\n",
      "\\midrule\n",
      "002C        & -28.947 &   0.000 &        0.000 &       -22.222 &  -26.190 &             Blind \\\\\n",
      "001         &   2.128 &   8.197 &       10.169 &       -11.905 &    3.704 &             Sight \\\\\n",
      "001C        & -13.793 &   0.000 &      -24.528 &       -12.903 &   -2.632 &             Blind \\\\\n",
      "003         & -10.345 & -32.203 &       -4.918 &       -17.544 &  -25.641 &             Sight \\\\\n",
      "003C        &   0.000 &  -4.167 &      -31.250 &       -47.500 &    0.000 &             Blind \\\\\n",
      "\\bottomrule\n",
      "\\end{tabular}\n",
      "\\end{table}\n",
      "\n"
     ]
    }
   ],
   "source": [
    "label = 'tab:nasa_var'\n",
    "caption = 'NASA-TLX score variation grouped by participant and method.'\n",
    "\n",
    "tabela_latex(cmNasa_var_cen_par,label,caption,'Nasa-TLX')\n",
    "\n",
    "tabela = 0\n",
    "label = 0\n",
    "caption = 0"
   ]
  },
  {
   "cell_type": "markdown",
   "metadata": {},
   "source": [
    "### Variação Carga Mental (por cenários, por deficiencia)"
   ]
  },
  {
   "cell_type": "code",
   "execution_count": 156,
   "metadata": {},
   "outputs": [
    {
     "data": {
      "text/html": [
       "<div>\n",
       "<style scoped>\n",
       "    .dataframe tbody tr th:only-of-type {\n",
       "        vertical-align: middle;\n",
       "    }\n",
       "\n",
       "    .dataframe tbody tr th {\n",
       "        vertical-align: top;\n",
       "    }\n",
       "\n",
       "    .dataframe thead th {\n",
       "        text-align: right;\n",
       "    }\n",
       "</style>\n",
       "<table border=\"1\" class=\"dataframe\">\n",
       "  <thead>\n",
       "    <tr style=\"text-align: right;\">\n",
       "      <th></th>\n",
       "      <th>Base</th>\n",
       "      <th>Audio</th>\n",
       "      <th>Haptic Belt</th>\n",
       "      <th>Virtual Cane</th>\n",
       "      <th>Mixture</th>\n",
       "    </tr>\n",
       "    <tr>\n",
       "      <th>Visual Impairment</th>\n",
       "      <th></th>\n",
       "      <th></th>\n",
       "      <th></th>\n",
       "      <th></th>\n",
       "      <th></th>\n",
       "    </tr>\n",
       "  </thead>\n",
       "  <tbody>\n",
       "    <tr>\n",
       "      <th>Blind</th>\n",
       "      <td>-14.246824</td>\n",
       "      <td>-1.388889</td>\n",
       "      <td>-18.592767</td>\n",
       "      <td>-27.541816</td>\n",
       "      <td>-9.607352</td>\n",
       "    </tr>\n",
       "    <tr>\n",
       "      <th>Sight</th>\n",
       "      <td>-4.108584</td>\n",
       "      <td>-12.003334</td>\n",
       "      <td>2.625729</td>\n",
       "      <td>-14.724311</td>\n",
       "      <td>-10.968661</td>\n",
       "    </tr>\n",
       "  </tbody>\n",
       "</table>\n",
       "</div>"
      ],
      "text/plain": [
       "                        Base      Audio  Haptic Belt  Virtual Cane    Mixture\n",
       "Visual Impairment                                                            \n",
       "Blind             -14.246824  -1.388889   -18.592767    -27.541816  -9.607352\n",
       "Sight              -4.108584 -12.003334     2.625729    -14.724311 -10.968661"
      ]
     },
     "execution_count": 156,
     "metadata": {},
     "output_type": "execute_result"
    }
   ],
   "source": [
    "cmNasa_var_cen_def  = cmNasa_var_cen_par.groupby(by = 'Visual Impairment').mean()\n",
    "cmNasa_var_cen_def"
   ]
  },
  {
   "cell_type": "code",
   "execution_count": 157,
   "metadata": {},
   "outputs": [
    {
     "name": "stdout",
     "output_type": "stream",
     "text": [
      "\\begin{table}[!htb]\n",
      "\\centering\n",
      "\\caption{NASA-TLX score grouped by participant and visual impairment.}\n",
      "\\label{tab:nasa_average_group}\n",
      "\\begin{tabular}{lrrrrr}\n",
      "\\toprule\n",
      "{} &    Base &   Audio &  Haptic Belt &  Virtual Cane &  Mixture \\\\\n",
      "Visual Impairment &         &         &              &               &          \\\\\n",
      "\\midrule\n",
      "Blind             & -14.247 &  -1.389 &      -18.593 &       -27.542 &   -9.607 \\\\\n",
      "Sight             &  -4.109 & -12.003 &        2.626 &       -14.724 &  -10.969 \\\\\n",
      "\\bottomrule\n",
      "\\end{tabular}\n",
      "\\end{table}\n",
      "\n"
     ]
    }
   ],
   "source": [
    "label = 'tab:nasa_average_group'\n",
    "caption = 'NASA-TLX score grouped by participant and visual impairment.'\n",
    "\n",
    "tabela_latex(cmNasa_var_cen_def,label,caption,'Nasa-TLX')\n",
    "\n",
    "tabela = 0\n",
    "label = 0\n",
    "caption = 0"
   ]
  },
  {
   "cell_type": "markdown",
   "metadata": {},
   "source": [
    "### Média Carga Mental (por cenários, por participante)"
   ]
  },
  {
   "cell_type": "code",
   "execution_count": 158,
   "metadata": {},
   "outputs": [
    {
     "data": {
      "text/html": [
       "<div>\n",
       "<style scoped>\n",
       "    .dataframe tbody tr th:only-of-type {\n",
       "        vertical-align: middle;\n",
       "    }\n",
       "\n",
       "    .dataframe tbody tr th {\n",
       "        vertical-align: top;\n",
       "    }\n",
       "\n",
       "    .dataframe thead th {\n",
       "        text-align: right;\n",
       "    }\n",
       "</style>\n",
       "<table border=\"1\" class=\"dataframe\">\n",
       "  <thead>\n",
       "    <tr style=\"text-align: right;\">\n",
       "      <th></th>\n",
       "      <th>Base</th>\n",
       "      <th>Audio</th>\n",
       "      <th>Haptic Belt</th>\n",
       "      <th>Virtual Cane</th>\n",
       "      <th>Mixture</th>\n",
       "      <th>Visual Impairment</th>\n",
       "    </tr>\n",
       "    <tr>\n",
       "      <th>Participant</th>\n",
       "      <th></th>\n",
       "      <th></th>\n",
       "      <th></th>\n",
       "      <th></th>\n",
       "      <th></th>\n",
       "      <th></th>\n",
       "    </tr>\n",
       "  </thead>\n",
       "  <tbody>\n",
       "    <tr>\n",
       "      <th>002C</th>\n",
       "      <td>5.416667</td>\n",
       "      <td>4.833333</td>\n",
       "      <td>4.833333</td>\n",
       "      <td>8.000000</td>\n",
       "      <td>6.083333</td>\n",
       "      <td>Blind</td>\n",
       "    </tr>\n",
       "    <tr>\n",
       "      <th>001</th>\n",
       "      <td>7.916667</td>\n",
       "      <td>10.583333</td>\n",
       "      <td>10.333333</td>\n",
       "      <td>6.583333</td>\n",
       "      <td>9.166667</td>\n",
       "      <td>Sight</td>\n",
       "    </tr>\n",
       "    <tr>\n",
       "      <th>001C</th>\n",
       "      <td>4.500000</td>\n",
       "      <td>4.000000</td>\n",
       "      <td>7.750000</td>\n",
       "      <td>4.833333</td>\n",
       "      <td>6.250000</td>\n",
       "      <td>Blind</td>\n",
       "    </tr>\n",
       "    <tr>\n",
       "      <th>003</th>\n",
       "      <td>4.583333</td>\n",
       "      <td>8.250000</td>\n",
       "      <td>9.916667</td>\n",
       "      <td>8.666667</td>\n",
       "      <td>5.666667</td>\n",
       "      <td>Sight</td>\n",
       "    </tr>\n",
       "    <tr>\n",
       "      <th>003C</th>\n",
       "      <td>4.000000</td>\n",
       "      <td>3.916667</td>\n",
       "      <td>4.500000</td>\n",
       "      <td>5.083333</td>\n",
       "      <td>3.500000</td>\n",
       "      <td>Blind</td>\n",
       "    </tr>\n",
       "  </tbody>\n",
       "</table>\n",
       "</div>"
      ],
      "text/plain": [
       "                 Base      Audio  Haptic Belt  Virtual Cane   Mixture  \\\n",
       "Participant                                                             \n",
       "002C         5.416667   4.833333     4.833333      8.000000  6.083333   \n",
       "001          7.916667  10.583333    10.333333      6.583333  9.166667   \n",
       "001C         4.500000   4.000000     7.750000      4.833333  6.250000   \n",
       "003          4.583333   8.250000     9.916667      8.666667  5.666667   \n",
       "003C         4.000000   3.916667     4.500000      5.083333  3.500000   \n",
       "\n",
       "            Visual Impairment  \n",
       "Participant                    \n",
       "002C                    Blind  \n",
       "001                     Sight  \n",
       "001C                    Blind  \n",
       "003                     Sight  \n",
       "003C                    Blind  "
      ]
     },
     "execution_count": 158,
     "metadata": {},
     "output_type": "execute_result"
    }
   ],
   "source": [
    "cmNasa_media_cen_par = []\n",
    "for p in range(len(participantes)):\n",
    "    cmNasaPorCena_media_cen_par = []\n",
    "    for c in range(len(cenas)):\n",
    "        #print(cdNasa[p][c][:])\n",
    "        #print(np.mean(cdNasa[p][c][:]))\n",
    "        cmNasaPorCena_media_cen_par.append(np.mean(cmNasa[p][c][:]))\n",
    "    cmNasa_media_cen_par.append(cmNasaPorCena_media_cen_par)\n",
    "cmNasa_media_cen_par = pd.DataFrame(cmNasa_media_cen_par, columns=nomeCenas, index = participantes.index)\n",
    "cmNasa_media_cen_par = pd.concat([cmNasa_media_cen_par,participantes.loc[:,'Deficiência visual']],axis = 1)\n",
    "cmNasa_media_cen_par.rename(columns = {'Deficiência visual' : 'Visual Impairment'}, inplace=True) \n",
    "cmNasa_media_cen_par.index.names = ['Participant']\n",
    "cmNasa_media_cen_par"
   ]
  },
  {
   "cell_type": "code",
   "execution_count": 159,
   "metadata": {},
   "outputs": [
    {
     "name": "stdout",
     "output_type": "stream",
     "text": [
      "\\begin{table}[!htb]\n",
      "\\centering\n",
      "\\caption{NASA-TLX score grouped by participant and method.}\n",
      "\\label{tab:nasa_average}\n",
      "\\begin{tabular}{lrrrrrl}\n",
      "\\toprule\n",
      "{} &  Base &  Audio &  Haptic Belt &  Virtual Cane &  Mixture & Visual Impairment \\\\\n",
      "Participant &       &        &              &               &          &                   \\\\\n",
      "\\midrule\n",
      "002C        & 5.417 &  4.833 &        4.833 &         8.000 &    6.083 &             Blind \\\\\n",
      "001         & 7.917 & 10.583 &       10.333 &         6.583 &    9.167 &             Sight \\\\\n",
      "001C        & 4.500 &  4.000 &        7.750 &         4.833 &    6.250 &             Blind \\\\\n",
      "003         & 4.583 &  8.250 &        9.917 &         8.667 &    5.667 &             Sight \\\\\n",
      "003C        & 4.000 &  3.917 &        4.500 &         5.083 &    3.500 &             Blind \\\\\n",
      "\\bottomrule\n",
      "\\end{tabular}\n",
      "\\end{table}\n",
      "\n"
     ]
    }
   ],
   "source": [
    "label = 'tab:nasa_average'\n",
    "caption = 'NASA-TLX score grouped by participant and method.'\n",
    "\n",
    "tabela_latex(cmNasa_media_cen_par,label,caption,'Nasa-TLX')\n",
    "\n",
    "tabela = 0\n",
    "label = 0\n",
    "caption = 0"
   ]
  },
  {
   "cell_type": "markdown",
   "metadata": {},
   "source": [
    "### Média Carga Mental (por cenários, por deficiencia)"
   ]
  },
  {
   "cell_type": "code",
   "execution_count": 160,
   "metadata": {},
   "outputs": [
    {
     "data": {
      "text/html": [
       "<div>\n",
       "<style scoped>\n",
       "    .dataframe tbody tr th:only-of-type {\n",
       "        vertical-align: middle;\n",
       "    }\n",
       "\n",
       "    .dataframe tbody tr th {\n",
       "        vertical-align: top;\n",
       "    }\n",
       "\n",
       "    .dataframe thead th {\n",
       "        text-align: right;\n",
       "    }\n",
       "</style>\n",
       "<table border=\"1\" class=\"dataframe\">\n",
       "  <thead>\n",
       "    <tr style=\"text-align: right;\">\n",
       "      <th></th>\n",
       "      <th>Base</th>\n",
       "      <th>Audio</th>\n",
       "      <th>Haptic Belt</th>\n",
       "      <th>Virtual Cane</th>\n",
       "      <th>Mixture</th>\n",
       "    </tr>\n",
       "    <tr>\n",
       "      <th>Visual Impairment</th>\n",
       "      <th></th>\n",
       "      <th></th>\n",
       "      <th></th>\n",
       "      <th></th>\n",
       "      <th></th>\n",
       "    </tr>\n",
       "  </thead>\n",
       "  <tbody>\n",
       "    <tr>\n",
       "      <th>Blind</th>\n",
       "      <td>4.638889</td>\n",
       "      <td>4.250000</td>\n",
       "      <td>5.694444</td>\n",
       "      <td>5.972222</td>\n",
       "      <td>5.277778</td>\n",
       "    </tr>\n",
       "    <tr>\n",
       "      <th>Sight</th>\n",
       "      <td>6.250000</td>\n",
       "      <td>9.416667</td>\n",
       "      <td>10.125000</td>\n",
       "      <td>7.625000</td>\n",
       "      <td>7.416667</td>\n",
       "    </tr>\n",
       "  </tbody>\n",
       "</table>\n",
       "</div>"
      ],
      "text/plain": [
       "                       Base     Audio  Haptic Belt  Virtual Cane   Mixture\n",
       "Visual Impairment                                                         \n",
       "Blind              4.638889  4.250000     5.694444      5.972222  5.277778\n",
       "Sight              6.250000  9.416667    10.125000      7.625000  7.416667"
      ]
     },
     "execution_count": 160,
     "metadata": {},
     "output_type": "execute_result"
    }
   ],
   "source": [
    "cmNasa_media_cen_def  = cmNasa_media_cen_par.groupby(by = 'Visual Impairment').mean()\n",
    "cmNasa_media_cen_def"
   ]
  },
  {
   "cell_type": "code",
   "execution_count": 161,
   "metadata": {},
   "outputs": [
    {
     "name": "stdout",
     "output_type": "stream",
     "text": [
      "\\begin{table}[!htb]\n",
      "\\centering\n",
      "\\caption{NASA-TLX score grouped by participant and visual impairment.}\n",
      "\\label{tab:nasa_average_group}\n",
      "\\begin{tabular}{lrrrrr}\n",
      "\\toprule\n",
      "{} &  Base &  Audio &  Haptic Belt &  Virtual Cane &  Mixture \\\\\n",
      "Visual Impairment &       &        &              &               &          \\\\\n",
      "\\midrule\n",
      "Blind             & 4.639 &  4.250 &        5.694 &         5.972 &    5.278 \\\\\n",
      "Sight             & 6.250 &  9.417 &       10.125 &         7.625 &    7.417 \\\\\n",
      "\\bottomrule\n",
      "\\end{tabular}\n",
      "\\end{table}\n",
      "\n"
     ]
    }
   ],
   "source": [
    "label = 'tab:nasa_average_group'\n",
    "caption = 'NASA-TLX score grouped by participant and visual impairment.'\n",
    "\n",
    "tabela_latex(cmNasa_media_cen_def,label,caption,'Nasa-TLX')\n",
    "\n",
    "tabela = 0\n",
    "label = 0\n",
    "caption = 0"
   ]
  },
  {
   "cell_type": "markdown",
   "metadata": {},
   "source": [
    "## Sagat"
   ]
  },
  {
   "cell_type": "markdown",
   "metadata": {},
   "source": [
    "### Pontuação global Sagat"
   ]
  },
  {
   "cell_type": "code",
   "execution_count": 162,
   "metadata": {},
   "outputs": [],
   "source": [
    "saSagat = []\n",
    "for p in range(len(participantes)):\n",
    "    saSagatPorCena = []\n",
    "    for c in range(len(cenas)):\n",
    "        saSagatPorEtapa = []\n",
    "        for e in range(len(etapas)):\n",
    "            #print(sagat[p][c][e][:])\n",
    "            saSagatPorEtapa.append(np.mean(sagat[p][c][e][:]))\n",
    "        saSagatPorCena.append(saSagatPorEtapa)\n",
    "    saSagat.append(saSagatPorCena)\n",
    "#saSagat"
   ]
  },
  {
   "cell_type": "markdown",
   "metadata": {},
   "source": [
    "### Variação pontuação global Sagat (por cenários, por participante)"
   ]
  },
  {
   "cell_type": "code",
   "execution_count": 163,
   "metadata": {},
   "outputs": [
    {
     "data": {
      "text/html": [
       "<div>\n",
       "<style scoped>\n",
       "    .dataframe tbody tr th:only-of-type {\n",
       "        vertical-align: middle;\n",
       "    }\n",
       "\n",
       "    .dataframe tbody tr th {\n",
       "        vertical-align: top;\n",
       "    }\n",
       "\n",
       "    .dataframe thead th {\n",
       "        text-align: right;\n",
       "    }\n",
       "</style>\n",
       "<table border=\"1\" class=\"dataframe\">\n",
       "  <thead>\n",
       "    <tr style=\"text-align: right;\">\n",
       "      <th></th>\n",
       "      <th>Base</th>\n",
       "      <th>Audio</th>\n",
       "      <th>Haptic Belt</th>\n",
       "      <th>Virtual Cane</th>\n",
       "      <th>Mixture</th>\n",
       "      <th>Visual Impairment</th>\n",
       "    </tr>\n",
       "    <tr>\n",
       "      <th>Participant</th>\n",
       "      <th></th>\n",
       "      <th></th>\n",
       "      <th></th>\n",
       "      <th></th>\n",
       "      <th></th>\n",
       "      <th></th>\n",
       "    </tr>\n",
       "  </thead>\n",
       "  <tbody>\n",
       "    <tr>\n",
       "      <th>002C</th>\n",
       "      <td>-22.222222</td>\n",
       "      <td>11.111111</td>\n",
       "      <td>0.250627</td>\n",
       "      <td>44.444444</td>\n",
       "      <td>36.000000</td>\n",
       "      <td>Blind</td>\n",
       "    </tr>\n",
       "    <tr>\n",
       "      <th>001</th>\n",
       "      <td>0.000000</td>\n",
       "      <td>33.333333</td>\n",
       "      <td>15.473441</td>\n",
       "      <td>87.969925</td>\n",
       "      <td>-30.769231</td>\n",
       "      <td>Sight</td>\n",
       "    </tr>\n",
       "    <tr>\n",
       "      <th>001C</th>\n",
       "      <td>0.000000</td>\n",
       "      <td>18.181818</td>\n",
       "      <td>59.474672</td>\n",
       "      <td>-5.660377</td>\n",
       "      <td>57.142857</td>\n",
       "      <td>Blind</td>\n",
       "    </tr>\n",
       "    <tr>\n",
       "      <th>003</th>\n",
       "      <td>0.000000</td>\n",
       "      <td>-11.111111</td>\n",
       "      <td>21.035058</td>\n",
       "      <td>56.641604</td>\n",
       "      <td>11.111111</td>\n",
       "      <td>Sight</td>\n",
       "    </tr>\n",
       "    <tr>\n",
       "      <th>003C</th>\n",
       "      <td>37.931034</td>\n",
       "      <td>33.333333</td>\n",
       "      <td>13.484646</td>\n",
       "      <td>93.133047</td>\n",
       "      <td>0.000000</td>\n",
       "      <td>Blind</td>\n",
       "    </tr>\n",
       "  </tbody>\n",
       "</table>\n",
       "</div>"
      ],
      "text/plain": [
       "                  Base      Audio  Haptic Belt  Virtual Cane    Mixture  \\\n",
       "Participant                                                               \n",
       "002C        -22.222222  11.111111     0.250627     44.444444  36.000000   \n",
       "001           0.000000  33.333333    15.473441     87.969925 -30.769231   \n",
       "001C          0.000000  18.181818    59.474672     -5.660377  57.142857   \n",
       "003           0.000000 -11.111111    21.035058     56.641604  11.111111   \n",
       "003C         37.931034  33.333333    13.484646     93.133047   0.000000   \n",
       "\n",
       "            Visual Impairment  \n",
       "Participant                    \n",
       "002C                    Blind  \n",
       "001                     Sight  \n",
       "001C                    Blind  \n",
       "003                     Sight  \n",
       "003C                    Blind  "
      ]
     },
     "execution_count": 163,
     "metadata": {},
     "output_type": "execute_result"
    }
   ],
   "source": [
    "i1 = []\n",
    "for i in participantes.index:\n",
    "    i1.append(i)\n",
    "    i1.append(i)\n",
    "\n",
    "i2 = []\n",
    "for i in participantes.iloc[:,4]:\n",
    "    i2.append(i)\n",
    "    i2.append(i)\n",
    "\n",
    "indexDef = list(zip(i1,i2,['First','Return']*10))\n",
    "indexDef = pd.MultiIndex.from_tuples(indexDef, names=[\"Participant\", \"Visual Impairment\", 'Round'])\n",
    "\n",
    "dfSaVariation = pd.DataFrame([],columns = nomeCenas,index = indexDef)\n",
    "\n",
    "saSagat_var_cen_par = []\n",
    "for p in range(len(participantes)):\n",
    "    saSagatPorCena_var_cen_par = []\n",
    "    for c in range(len(cenas)):\n",
    "        #print(saSagat[p][c][:])\n",
    "        #print(np.mean(saSagat[p][c][:]))\n",
    "        saFinal = saSagat[p][c][1]\n",
    "        saInicial = saSagat[p][c][0]\n",
    "        dfSaVariation.iloc[p*2,c] = saInicial\n",
    "        dfSaVariation.iloc[p*2+1,c] = saFinal\n",
    "        saSagatPorCena_var_cen_par.append((saFinal - saInicial)/saInicial*100)\n",
    "    saSagat_var_cen_par.append(saSagatPorCena_var_cen_par)\n",
    "saSagat_var_cen_par = pd.DataFrame(saSagat_var_cen_par, columns=nomeCenas, index = participantes.index)\n",
    "saSagat_var_cen_par = pd.concat([saSagat_var_cen_par,participantes.loc[:,'Deficiência visual']],axis = 1)\n",
    "saSagat_var_cen_par.rename(columns = {'Deficiência visual' : 'Visual Impairment'}, inplace=True) \n",
    "saSagat_var_cen_par.index.names = ['Participant']\n",
    "saSagat_var_cen_par"
   ]
  },
  {
   "cell_type": "code",
   "execution_count": 164,
   "metadata": {},
   "outputs": [
    {
     "name": "stdout",
     "output_type": "stream",
     "text": [
      "\\begin{table}[!htb]\n",
      "\\centering\n",
      "\\caption{Adapted Sagat global score variation grouped by participant and guidance method.}\n",
      "\\label{tab:sagat_var}\n",
      "\\begin{tabular}{lrrrrrl}\n",
      "\\toprule\n",
      "{} &    Base &   Audio &  Haptic Belt &  Virtual Cane &  Mixture & Visual Impairment \\\\\n",
      "Participant &         &         &              &               &          &                   \\\\\n",
      "\\midrule\n",
      "002C        & -22.222 &  11.111 &        0.251 &        44.444 &   36.000 &             Blind \\\\\n",
      "001         &   0.000 &  33.333 &       15.473 &        87.970 &  -30.769 &             Sight \\\\\n",
      "001C        &   0.000 &  18.182 &       59.475 &        -5.660 &   57.143 &             Blind \\\\\n",
      "003         &   0.000 & -11.111 &       21.035 &        56.642 &   11.111 &             Sight \\\\\n",
      "003C        &  37.931 &  33.333 &       13.485 &        93.133 &    0.000 &             Blind \\\\\n",
      "\\bottomrule\n",
      "\\end{tabular}\n",
      "\\end{table}\n",
      "\n"
     ]
    }
   ],
   "source": [
    "label = 'tab:sagat_var'\n",
    "caption = 'Adapted Sagat global score variation grouped by participant and guidance method.'\n",
    "\n",
    "tabela_latex(saSagat_var_cen_par,label,caption,'SAGAT')\n",
    "\n",
    "tabela = 0\n",
    "label = 0\n",
    "caption = 0"
   ]
  },
  {
   "cell_type": "markdown",
   "metadata": {},
   "source": [
    "### Variação pontuação global Sagat (por cenários, por deficiencia)"
   ]
  },
  {
   "cell_type": "code",
   "execution_count": 165,
   "metadata": {},
   "outputs": [
    {
     "data": {
      "text/html": [
       "<div>\n",
       "<style scoped>\n",
       "    .dataframe tbody tr th:only-of-type {\n",
       "        vertical-align: middle;\n",
       "    }\n",
       "\n",
       "    .dataframe tbody tr th {\n",
       "        vertical-align: top;\n",
       "    }\n",
       "\n",
       "    .dataframe thead th {\n",
       "        text-align: right;\n",
       "    }\n",
       "</style>\n",
       "<table border=\"1\" class=\"dataframe\">\n",
       "  <thead>\n",
       "    <tr style=\"text-align: right;\">\n",
       "      <th></th>\n",
       "      <th>Base</th>\n",
       "      <th>Audio</th>\n",
       "      <th>Haptic Belt</th>\n",
       "      <th>Virtual Cane</th>\n",
       "      <th>Mixture</th>\n",
       "    </tr>\n",
       "    <tr>\n",
       "      <th>Visual Impairment</th>\n",
       "      <th></th>\n",
       "      <th></th>\n",
       "      <th></th>\n",
       "      <th></th>\n",
       "      <th></th>\n",
       "    </tr>\n",
       "  </thead>\n",
       "  <tbody>\n",
       "    <tr>\n",
       "      <th>Blind</th>\n",
       "      <td>5.236271</td>\n",
       "      <td>20.875421</td>\n",
       "      <td>24.403315</td>\n",
       "      <td>43.972371</td>\n",
       "      <td>31.047619</td>\n",
       "    </tr>\n",
       "    <tr>\n",
       "      <th>Sight</th>\n",
       "      <td>0.000000</td>\n",
       "      <td>11.111111</td>\n",
       "      <td>18.254250</td>\n",
       "      <td>72.305764</td>\n",
       "      <td>-9.829060</td>\n",
       "    </tr>\n",
       "  </tbody>\n",
       "</table>\n",
       "</div>"
      ],
      "text/plain": [
       "                       Base      Audio  Haptic Belt  Virtual Cane    Mixture\n",
       "Visual Impairment                                                           \n",
       "Blind              5.236271  20.875421    24.403315     43.972371  31.047619\n",
       "Sight              0.000000  11.111111    18.254250     72.305764  -9.829060"
      ]
     },
     "execution_count": 165,
     "metadata": {},
     "output_type": "execute_result"
    }
   ],
   "source": [
    "saSagat_var_cen_def = saSagat_var_cen_par.groupby(by = 'Visual Impairment').mean()\n",
    "saSagat_var_cen_def"
   ]
  },
  {
   "cell_type": "code",
   "execution_count": 166,
   "metadata": {},
   "outputs": [
    {
     "name": "stdout",
     "output_type": "stream",
     "text": [
      "\\begin{table}[!htb]\n",
      "\\centering\n",
      "\\caption{Adapted Sagat global score variation grouped by participant and visual impairment.}\n",
      "\\label{tab:sagat_var_average_group}\n",
      "\\begin{tabular}{lrrrrr}\n",
      "\\toprule\n",
      "{} &  Base &  Audio &  Haptic Belt &  Virtual Cane &  Mixture \\\\\n",
      "Visual Impairment &       &        &              &               &          \\\\\n",
      "\\midrule\n",
      "Blind             & 5.236 & 20.875 &       24.403 &        43.972 &   31.048 \\\\\n",
      "Sight             & 0.000 & 11.111 &       18.254 &        72.306 &   -9.829 \\\\\n",
      "\\bottomrule\n",
      "\\end{tabular}\n",
      "\\end{table}\n",
      "\n"
     ]
    }
   ],
   "source": [
    "label = 'tab:sagat_var_average_group'\n",
    "caption = 'Adapted Sagat global score variation grouped by participant and visual impairment.'\n",
    "\n",
    "tabela_latex(saSagat_var_cen_def,label,caption,'SAGAT')\n",
    "\n",
    "tabela = 0\n",
    "label = 0\n",
    "caption = 0"
   ]
  },
  {
   "cell_type": "markdown",
   "metadata": {},
   "source": [
    "### Média pontuação global Sagat (por cenários, por participante)"
   ]
  },
  {
   "cell_type": "code",
   "execution_count": 167,
   "metadata": {},
   "outputs": [
    {
     "data": {
      "text/html": [
       "<div>\n",
       "<style scoped>\n",
       "    .dataframe tbody tr th:only-of-type {\n",
       "        vertical-align: middle;\n",
       "    }\n",
       "\n",
       "    .dataframe tbody tr th {\n",
       "        vertical-align: top;\n",
       "    }\n",
       "\n",
       "    .dataframe thead th {\n",
       "        text-align: right;\n",
       "    }\n",
       "</style>\n",
       "<table border=\"1\" class=\"dataframe\">\n",
       "  <thead>\n",
       "    <tr style=\"text-align: right;\">\n",
       "      <th></th>\n",
       "      <th>Base</th>\n",
       "      <th>Audio</th>\n",
       "      <th>Haptic Belt</th>\n",
       "      <th>Virtual Cane</th>\n",
       "      <th>Mixture</th>\n",
       "      <th>Visual Impairment</th>\n",
       "    </tr>\n",
       "    <tr>\n",
       "      <th>Participant</th>\n",
       "      <th></th>\n",
       "      <th></th>\n",
       "      <th></th>\n",
       "      <th></th>\n",
       "      <th></th>\n",
       "      <th></th>\n",
       "    </tr>\n",
       "  </thead>\n",
       "  <tbody>\n",
       "    <tr>\n",
       "      <th>002C</th>\n",
       "      <td>0.6000</td>\n",
       "      <td>0.4750</td>\n",
       "      <td>0.3995</td>\n",
       "      <td>0.5500</td>\n",
       "      <td>0.7375</td>\n",
       "      <td>Blind</td>\n",
       "    </tr>\n",
       "    <tr>\n",
       "      <th>001</th>\n",
       "      <td>1.0000</td>\n",
       "      <td>0.5250</td>\n",
       "      <td>0.4665</td>\n",
       "      <td>0.3830</td>\n",
       "      <td>0.5500</td>\n",
       "      <td>Sight</td>\n",
       "    </tr>\n",
       "    <tr>\n",
       "      <th>001C</th>\n",
       "      <td>0.6250</td>\n",
       "      <td>0.6000</td>\n",
       "      <td>0.6915</td>\n",
       "      <td>0.5665</td>\n",
       "      <td>0.4500</td>\n",
       "      <td>Blind</td>\n",
       "    </tr>\n",
       "    <tr>\n",
       "      <th>003</th>\n",
       "      <td>1.0000</td>\n",
       "      <td>0.6375</td>\n",
       "      <td>0.6620</td>\n",
       "      <td>0.5120</td>\n",
       "      <td>0.7125</td>\n",
       "      <td>Sight</td>\n",
       "    </tr>\n",
       "    <tr>\n",
       "      <th>003C</th>\n",
       "      <td>0.8625</td>\n",
       "      <td>0.8750</td>\n",
       "      <td>0.7995</td>\n",
       "      <td>0.6830</td>\n",
       "      <td>0.9000</td>\n",
       "      <td>Blind</td>\n",
       "    </tr>\n",
       "  </tbody>\n",
       "</table>\n",
       "</div>"
      ],
      "text/plain": [
       "               Base   Audio  Haptic Belt  Virtual Cane  Mixture  \\\n",
       "Participant                                                       \n",
       "002C         0.6000  0.4750       0.3995        0.5500   0.7375   \n",
       "001          1.0000  0.5250       0.4665        0.3830   0.5500   \n",
       "001C         0.6250  0.6000       0.6915        0.5665   0.4500   \n",
       "003          1.0000  0.6375       0.6620        0.5120   0.7125   \n",
       "003C         0.8625  0.8750       0.7995        0.6830   0.9000   \n",
       "\n",
       "            Visual Impairment  \n",
       "Participant                    \n",
       "002C                    Blind  \n",
       "001                     Sight  \n",
       "001C                    Blind  \n",
       "003                     Sight  \n",
       "003C                    Blind  "
      ]
     },
     "execution_count": 167,
     "metadata": {},
     "output_type": "execute_result"
    }
   ],
   "source": [
    "saSagat_media_cen_par = []\n",
    "for p in range(len(participantes)):\n",
    "    saSagatPorCena_media_cen_par = []\n",
    "    for c in range(len(cenas)):\n",
    "        #print(saSagat[p][c][:])\n",
    "        #print(np.mean(saSagat[p][c][:]))\n",
    "        saSagatPorCena_media_cen_par.append(np.mean(saSagat[p][c][:]))\n",
    "    saSagat_media_cen_par.append(saSagatPorCena_media_cen_par)\n",
    "saSagat_media_cen_par = pd.DataFrame(saSagat_media_cen_par, columns=nomeCenas, index = participantes.index)\n",
    "saSagat_media_cen_par = pd.concat([saSagat_media_cen_par,participantes.loc[:,'Deficiência visual']],axis = 1)\n",
    "saSagat_media_cen_par.rename(columns = {'Deficiência visual' : 'Visual Impairment'}, inplace=True) \n",
    "saSagat_media_cen_par.index.names = ['Participant']\n",
    "saSagat_media_cen_par"
   ]
  },
  {
   "cell_type": "code",
   "execution_count": 168,
   "metadata": {},
   "outputs": [
    {
     "name": "stdout",
     "output_type": "stream",
     "text": [
      "\\begin{table}[!htb]\n",
      "\\centering\n",
      "\\caption{Adapted Sagat average global score grouped by participant and guidance method.}\n",
      "\\label{tab:sagat_average}\n",
      "\\begin{tabular}{lrrrrrl}\n",
      "\\toprule\n",
      "{} &  Base &  Audio &  Haptic Belt &  Virtual Cane &  Mixture & Visual Impairment \\\\\n",
      "Participant &       &        &              &               &          &                   \\\\\n",
      "\\midrule\n",
      "002C        & 0.600 &  0.475 &        0.400 &         0.550 &    0.738 &             Blind \\\\\n",
      "001         & 1.000 &  0.525 &        0.467 &         0.383 &    0.550 &             Sight \\\\\n",
      "001C        & 0.625 &  0.600 &        0.692 &         0.567 &    0.450 &             Blind \\\\\n",
      "003         & 1.000 &  0.637 &        0.662 &         0.512 &    0.713 &             Sight \\\\\n",
      "003C        & 0.863 &  0.875 &        0.799 &         0.683 &    0.900 &             Blind \\\\\n",
      "\\bottomrule\n",
      "\\end{tabular}\n",
      "\\end{table}\n",
      "\n"
     ]
    }
   ],
   "source": [
    "label = 'tab:sagat_average'\n",
    "caption = 'Adapted Sagat average global score grouped by participant and guidance method.'\n",
    "\n",
    "tabela_latex(saSagat_media_cen_par,label,caption,'SAGAT')\n",
    "\n",
    "tabela = 0\n",
    "label = 0\n",
    "caption = 0"
   ]
  },
  {
   "cell_type": "markdown",
   "metadata": {},
   "source": [
    "### Média pontuação global Sagat (por cenários, por deficiencia)"
   ]
  },
  {
   "cell_type": "code",
   "execution_count": 169,
   "metadata": {},
   "outputs": [
    {
     "data": {
      "text/html": [
       "<div>\n",
       "<style scoped>\n",
       "    .dataframe tbody tr th:only-of-type {\n",
       "        vertical-align: middle;\n",
       "    }\n",
       "\n",
       "    .dataframe tbody tr th {\n",
       "        vertical-align: top;\n",
       "    }\n",
       "\n",
       "    .dataframe thead th {\n",
       "        text-align: right;\n",
       "    }\n",
       "</style>\n",
       "<table border=\"1\" class=\"dataframe\">\n",
       "  <thead>\n",
       "    <tr style=\"text-align: right;\">\n",
       "      <th></th>\n",
       "      <th>Base</th>\n",
       "      <th>Audio</th>\n",
       "      <th>Haptic Belt</th>\n",
       "      <th>Virtual Cane</th>\n",
       "      <th>Mixture</th>\n",
       "    </tr>\n",
       "    <tr>\n",
       "      <th>Visual Impairment</th>\n",
       "      <th></th>\n",
       "      <th></th>\n",
       "      <th></th>\n",
       "      <th></th>\n",
       "      <th></th>\n",
       "    </tr>\n",
       "  </thead>\n",
       "  <tbody>\n",
       "    <tr>\n",
       "      <th>Blind</th>\n",
       "      <td>0.695833</td>\n",
       "      <td>0.65000</td>\n",
       "      <td>0.630167</td>\n",
       "      <td>0.599833</td>\n",
       "      <td>0.695833</td>\n",
       "    </tr>\n",
       "    <tr>\n",
       "      <th>Sight</th>\n",
       "      <td>1.000000</td>\n",
       "      <td>0.58125</td>\n",
       "      <td>0.564250</td>\n",
       "      <td>0.447500</td>\n",
       "      <td>0.631250</td>\n",
       "    </tr>\n",
       "  </tbody>\n",
       "</table>\n",
       "</div>"
      ],
      "text/plain": [
       "                       Base    Audio  Haptic Belt  Virtual Cane   Mixture\n",
       "Visual Impairment                                                        \n",
       "Blind              0.695833  0.65000     0.630167      0.599833  0.695833\n",
       "Sight              1.000000  0.58125     0.564250      0.447500  0.631250"
      ]
     },
     "execution_count": 169,
     "metadata": {},
     "output_type": "execute_result"
    }
   ],
   "source": [
    "saSagat_media_cen_def = saSagat_media_cen_par.groupby(by = 'Visual Impairment').mean()\n",
    "saSagat_media_cen_def"
   ]
  },
  {
   "cell_type": "code",
   "execution_count": 170,
   "metadata": {},
   "outputs": [
    {
     "name": "stdout",
     "output_type": "stream",
     "text": [
      "\\begin{table}[!htb]\n",
      "\\centering\n",
      "\\caption{Adapted Sagat average global score grouped by participant and visual impairment.}\n",
      "\\label{tab:sagat_average_group}\n",
      "\\begin{tabular}{lrrrrr}\n",
      "\\toprule\n",
      "{} &  Base &  Audio &  Haptic Belt &  Virtual Cane &  Mixture \\\\\n",
      "Visual Impairment &       &        &              &               &          \\\\\n",
      "\\midrule\n",
      "Blind             & 0.696 &  0.650 &        0.630 &         0.600 &    0.696 \\\\\n",
      "Sight             & 1.000 &  0.581 &        0.564 &         0.448 &    0.631 \\\\\n",
      "\\bottomrule\n",
      "\\end{tabular}\n",
      "\\end{table}\n",
      "\n"
     ]
    }
   ],
   "source": [
    "label = 'tab:sagat_average_group'\n",
    "caption = 'Adapted Sagat average global score grouped by participant and visual impairment.'\n",
    "\n",
    "tabela_latex(saSagat_media_cen_def,label,caption,'SAGAT')\n",
    "\n",
    "tabela = 0\n",
    "label = 0\n",
    "caption = 0"
   ]
  },
  {
   "cell_type": "markdown",
   "metadata": {},
   "source": [
    "## Tempo"
   ]
  },
  {
   "cell_type": "markdown",
   "metadata": {},
   "source": [
    "### Duração em cada cena"
   ]
  },
  {
   "cell_type": "code",
   "execution_count": 171,
   "metadata": {},
   "outputs": [
    {
     "data": {
      "text/plain": [
       "[[[316.0, 320.0],\n",
       "  [367.0, 346.0],\n",
       "  [380.0, 377.0],\n",
       "  [333.0, 418.0],\n",
       "  [376.0, 321.0]],\n",
       " [[356.0, 368.0],\n",
       "  [347.0, 353.0],\n",
       "  [305.0, 372.0],\n",
       "  [392.0, 359.0],\n",
       "  [348.0, 341.0]],\n",
       " [[356.0, 377.0],\n",
       "  [345.0, 368.0],\n",
       "  [382.0, 401.0],\n",
       "  [324.0, 402.0],\n",
       "  [368.0, 309.0]],\n",
       " [[311.0, 387.0],\n",
       "  [311.0, 341.0],\n",
       "  [328.0, 331.0],\n",
       "  [320.0, 357.0],\n",
       "  [394.0, 380.0]],\n",
       " [[337.0, 387.0],\n",
       "  [354.0, 393.0],\n",
       "  [333.0, 301.0],\n",
       "  [354.0, 329.0],\n",
       "  [381.0, 385.0]]]"
      ]
     },
     "execution_count": 171,
     "metadata": {},
     "output_type": "execute_result"
    }
   ],
   "source": [
    "duracao = []\n",
    "for p in range(len(participantes)):\n",
    "    duracaoPorCena = []\n",
    "    for c in range(len(cenas)):\n",
    "        duracaoPorEtapa = []\n",
    "        for e in range(len(etapas)):\n",
    "            #print(sagat[p][c][e][:])\n",
    "            duracaoPorEtapa.append(np.mean(tempo[p][c][e]))\n",
    "        duracaoPorCena.append(duracaoPorEtapa)\n",
    "    duracao.append(duracaoPorCena)\n",
    "duracao"
   ]
  },
  {
   "cell_type": "markdown",
   "metadata": {},
   "source": [
    "### Variação na duração (por cenários, por participante)"
   ]
  },
  {
   "cell_type": "code",
   "execution_count": 172,
   "metadata": {},
   "outputs": [
    {
     "data": {
      "text/html": [
       "<div>\n",
       "<style scoped>\n",
       "    .dataframe tbody tr th:only-of-type {\n",
       "        vertical-align: middle;\n",
       "    }\n",
       "\n",
       "    .dataframe tbody tr th {\n",
       "        vertical-align: top;\n",
       "    }\n",
       "\n",
       "    .dataframe thead th {\n",
       "        text-align: right;\n",
       "    }\n",
       "</style>\n",
       "<table border=\"1\" class=\"dataframe\">\n",
       "  <thead>\n",
       "    <tr style=\"text-align: right;\">\n",
       "      <th></th>\n",
       "      <th>Base</th>\n",
       "      <th>Audio</th>\n",
       "      <th>Haptic Belt</th>\n",
       "      <th>Virtual Cane</th>\n",
       "      <th>Mixture</th>\n",
       "      <th>Visual Impairment</th>\n",
       "    </tr>\n",
       "    <tr>\n",
       "      <th>Participant</th>\n",
       "      <th></th>\n",
       "      <th></th>\n",
       "      <th></th>\n",
       "      <th></th>\n",
       "      <th></th>\n",
       "      <th></th>\n",
       "    </tr>\n",
       "  </thead>\n",
       "  <tbody>\n",
       "    <tr>\n",
       "      <th>002C</th>\n",
       "      <td>1.265823</td>\n",
       "      <td>-5.722071</td>\n",
       "      <td>-0.789474</td>\n",
       "      <td>25.525526</td>\n",
       "      <td>-14.627660</td>\n",
       "      <td>Blind</td>\n",
       "    </tr>\n",
       "    <tr>\n",
       "      <th>001</th>\n",
       "      <td>3.370787</td>\n",
       "      <td>1.729107</td>\n",
       "      <td>21.967213</td>\n",
       "      <td>-8.418367</td>\n",
       "      <td>-2.011494</td>\n",
       "      <td>Sight</td>\n",
       "    </tr>\n",
       "    <tr>\n",
       "      <th>001C</th>\n",
       "      <td>5.898876</td>\n",
       "      <td>6.666667</td>\n",
       "      <td>4.973822</td>\n",
       "      <td>24.074074</td>\n",
       "      <td>-16.032609</td>\n",
       "      <td>Blind</td>\n",
       "    </tr>\n",
       "    <tr>\n",
       "      <th>003</th>\n",
       "      <td>24.437299</td>\n",
       "      <td>9.646302</td>\n",
       "      <td>0.914634</td>\n",
       "      <td>11.562500</td>\n",
       "      <td>-3.553299</td>\n",
       "      <td>Sight</td>\n",
       "    </tr>\n",
       "    <tr>\n",
       "      <th>003C</th>\n",
       "      <td>14.836795</td>\n",
       "      <td>11.016949</td>\n",
       "      <td>-9.609610</td>\n",
       "      <td>-7.062147</td>\n",
       "      <td>1.049869</td>\n",
       "      <td>Blind</td>\n",
       "    </tr>\n",
       "  </tbody>\n",
       "</table>\n",
       "</div>"
      ],
      "text/plain": [
       "                  Base      Audio  Haptic Belt  Virtual Cane    Mixture  \\\n",
       "Participant                                                               \n",
       "002C          1.265823  -5.722071    -0.789474     25.525526 -14.627660   \n",
       "001           3.370787   1.729107    21.967213     -8.418367  -2.011494   \n",
       "001C          5.898876   6.666667     4.973822     24.074074 -16.032609   \n",
       "003          24.437299   9.646302     0.914634     11.562500  -3.553299   \n",
       "003C         14.836795  11.016949    -9.609610     -7.062147   1.049869   \n",
       "\n",
       "            Visual Impairment  \n",
       "Participant                    \n",
       "002C                    Blind  \n",
       "001                     Sight  \n",
       "001C                    Blind  \n",
       "003                     Sight  \n",
       "003C                    Blind  "
      ]
     },
     "execution_count": 172,
     "metadata": {},
     "output_type": "execute_result"
    }
   ],
   "source": [
    "i1 = []\n",
    "for i in participantes.index:\n",
    "    i1.append(i)\n",
    "    i1.append(i)\n",
    "\n",
    "i2 = []\n",
    "for i in participantes.iloc[:,4]:\n",
    "    i2.append(i)\n",
    "    i2.append(i)\n",
    "\n",
    "indexDef = list(zip(i1,i2,['First','Return']*10))\n",
    "indexDef = pd.MultiIndex.from_tuples(indexDef, names=[\"Participant\", \"Visual Impairment\", 'Round'])\n",
    "\n",
    "dfTVariation = pd.DataFrame([],columns = nomeCenas,index = indexDef)\n",
    "\n",
    "duracao_var_cen_par = []\n",
    "for p in range(len(participantes)):\n",
    "    duracaoPorCena_var_cen_par = []\n",
    "    for c in range(len(cenas)):\n",
    "        #print(duracao[p][c][:])\n",
    "        #print(np.mean(duracao[p][c][:]))\n",
    "        tFinal = duracao[p][c][1]\n",
    "        tInicial = duracao[p][c][0]\n",
    "        dfTVariation.iloc[p*2,c] = tInicial\n",
    "        dfTVariation.iloc[p*2+1,c] = tFinal\n",
    "        duracaoPorCena_var_cen_par.append((tFinal - tInicial)/tInicial*100)\n",
    "    duracao_var_cen_par.append(duracaoPorCena_var_cen_par)\n",
    "duracao_var_cen_par = pd.DataFrame(duracao_var_cen_par, columns=nomeCenas, index = participantes.index)\n",
    "duracao_var_cen_par = pd.concat([duracao_var_cen_par,participantes.loc[:,'Deficiência visual']],axis = 1)\n",
    "duracao_var_cen_par.rename(columns = {'Deficiência visual' : 'Visual Impairment'}, inplace=True) \n",
    "duracao_var_cen_par.index.names = ['Participant']\n",
    "duracao_var_cen_par"
   ]
  },
  {
   "cell_type": "code",
   "execution_count": 173,
   "metadata": {},
   "outputs": [
    {
     "name": "stdout",
     "output_type": "stream",
     "text": [
      "\\begin{table}[!htb]\n",
      "\\centering\n",
      "\\caption{Duration difference grouped by participant and guidance method.}\n",
      "\\label{tab:duracao_var}\n",
      "\\begin{tabular}{lrrrrrl}\n",
      "\\toprule\n",
      "{} &   Base &  Audio &  Haptic Belt &  Virtual Cane &  Mixture & Visual Impairment \\\\\n",
      "Participant &        &        &              &               &          &                   \\\\\n",
      "\\midrule\n",
      "002C        &  1.266 & -5.722 &       -0.789 &        25.526 &  -14.628 &             Blind \\\\\n",
      "001         &  3.371 &  1.729 &       21.967 &        -8.418 &   -2.011 &             Sight \\\\\n",
      "001C        &  5.899 &  6.667 &        4.974 &        24.074 &  -16.033 &             Blind \\\\\n",
      "003         & 24.437 &  9.646 &        0.915 &        11.562 &   -3.553 &             Sight \\\\\n",
      "003C        & 14.837 & 11.017 &       -9.610 &        -7.062 &    1.050 &             Blind \\\\\n",
      "\\bottomrule\n",
      "\\end{tabular}\n",
      "\\end{table}\n",
      "\n"
     ]
    }
   ],
   "source": [
    "label = 'tab:duracao_var'\n",
    "caption = 'Duration difference grouped by participant and guidance method.'\n",
    "\n",
    "tabela_latex(duracao_var_cen_par,label,caption,'Tempo')\n",
    "\n",
    "tabela = 0\n",
    "label = 0\n",
    "caption = 0"
   ]
  },
  {
   "cell_type": "markdown",
   "metadata": {},
   "source": [
    "### Variação duração (por cenários, por deficiencia)"
   ]
  },
  {
   "cell_type": "code",
   "execution_count": 174,
   "metadata": {},
   "outputs": [
    {
     "data": {
      "text/html": [
       "<div>\n",
       "<style scoped>\n",
       "    .dataframe tbody tr th:only-of-type {\n",
       "        vertical-align: middle;\n",
       "    }\n",
       "\n",
       "    .dataframe tbody tr th {\n",
       "        vertical-align: top;\n",
       "    }\n",
       "\n",
       "    .dataframe thead th {\n",
       "        text-align: right;\n",
       "    }\n",
       "</style>\n",
       "<table border=\"1\" class=\"dataframe\">\n",
       "  <thead>\n",
       "    <tr style=\"text-align: right;\">\n",
       "      <th></th>\n",
       "      <th>Base</th>\n",
       "      <th>Audio</th>\n",
       "      <th>Haptic Belt</th>\n",
       "      <th>Virtual Cane</th>\n",
       "      <th>Mixture</th>\n",
       "    </tr>\n",
       "    <tr>\n",
       "      <th>Visual Impairment</th>\n",
       "      <th></th>\n",
       "      <th></th>\n",
       "      <th></th>\n",
       "      <th></th>\n",
       "      <th></th>\n",
       "    </tr>\n",
       "  </thead>\n",
       "  <tbody>\n",
       "    <tr>\n",
       "      <th>Blind</th>\n",
       "      <td>7.333831</td>\n",
       "      <td>3.987182</td>\n",
       "      <td>-1.808420</td>\n",
       "      <td>14.179151</td>\n",
       "      <td>-9.870133</td>\n",
       "    </tr>\n",
       "    <tr>\n",
       "      <th>Sight</th>\n",
       "      <td>13.904043</td>\n",
       "      <td>5.687704</td>\n",
       "      <td>11.440924</td>\n",
       "      <td>1.572066</td>\n",
       "      <td>-2.782397</td>\n",
       "    </tr>\n",
       "  </tbody>\n",
       "</table>\n",
       "</div>"
      ],
      "text/plain": [
       "                        Base     Audio  Haptic Belt  Virtual Cane   Mixture\n",
       "Visual Impairment                                                          \n",
       "Blind               7.333831  3.987182    -1.808420     14.179151 -9.870133\n",
       "Sight              13.904043  5.687704    11.440924      1.572066 -2.782397"
      ]
     },
     "execution_count": 174,
     "metadata": {},
     "output_type": "execute_result"
    }
   ],
   "source": [
    "duracao_var_cen_def = duracao_var_cen_par.groupby(by = 'Visual Impairment').mean()\n",
    "duracao_var_cen_def"
   ]
  },
  {
   "cell_type": "code",
   "execution_count": 175,
   "metadata": {},
   "outputs": [
    {
     "name": "stdout",
     "output_type": "stream",
     "text": [
      "\\begin{table}[!htb]\n",
      "\\centering\n",
      "\\caption{Duration difference grouped by participant and visual impairment.}\n",
      "\\label{tab:duracao_var_group}\n",
      "\\begin{tabular}{lrrrrrl}\n",
      "\\toprule\n",
      "{} &   Base &  Audio &  Haptic Belt &  Virtual Cane &  Mixture & Visual Impairment \\\\\n",
      "Participant &        &        &              &               &          &                   \\\\\n",
      "\\midrule\n",
      "002C        &  1.266 & -5.722 &       -0.789 &        25.526 &  -14.628 &             Blind \\\\\n",
      "001         &  3.371 &  1.729 &       21.967 &        -8.418 &   -2.011 &             Sight \\\\\n",
      "001C        &  5.899 &  6.667 &        4.974 &        24.074 &  -16.033 &             Blind \\\\\n",
      "003         & 24.437 &  9.646 &        0.915 &        11.562 &   -3.553 &             Sight \\\\\n",
      "003C        & 14.837 & 11.017 &       -9.610 &        -7.062 &    1.050 &             Blind \\\\\n",
      "\\bottomrule\n",
      "\\end{tabular}\n",
      "\\end{table}\n",
      "\n"
     ]
    }
   ],
   "source": [
    "label = 'tab:duracao_var_group'\n",
    "caption = 'Duration difference grouped by participant and visual impairment.'\n",
    "\n",
    "tabela_latex(duracao_var_cen_par,label,caption,'Tempo')\n",
    "\n",
    "tabela = 0\n",
    "label = 0\n",
    "caption = 0"
   ]
  },
  {
   "cell_type": "markdown",
   "metadata": {},
   "source": [
    "### Duração média (por cenários, por participante)"
   ]
  },
  {
   "cell_type": "code",
   "execution_count": 176,
   "metadata": {},
   "outputs": [
    {
     "data": {
      "text/html": [
       "<div>\n",
       "<style scoped>\n",
       "    .dataframe tbody tr th:only-of-type {\n",
       "        vertical-align: middle;\n",
       "    }\n",
       "\n",
       "    .dataframe tbody tr th {\n",
       "        vertical-align: top;\n",
       "    }\n",
       "\n",
       "    .dataframe thead th {\n",
       "        text-align: right;\n",
       "    }\n",
       "</style>\n",
       "<table border=\"1\" class=\"dataframe\">\n",
       "  <thead>\n",
       "    <tr style=\"text-align: right;\">\n",
       "      <th></th>\n",
       "      <th>Base</th>\n",
       "      <th>Audio</th>\n",
       "      <th>Haptic Belt</th>\n",
       "      <th>Virtual Cane</th>\n",
       "      <th>Mixture</th>\n",
       "      <th>Visual Impairment</th>\n",
       "    </tr>\n",
       "    <tr>\n",
       "      <th>Participant</th>\n",
       "      <th></th>\n",
       "      <th></th>\n",
       "      <th></th>\n",
       "      <th></th>\n",
       "      <th></th>\n",
       "      <th></th>\n",
       "    </tr>\n",
       "  </thead>\n",
       "  <tbody>\n",
       "    <tr>\n",
       "      <th>002C</th>\n",
       "      <td>318.0</td>\n",
       "      <td>356.5</td>\n",
       "      <td>378.5</td>\n",
       "      <td>375.5</td>\n",
       "      <td>348.5</td>\n",
       "      <td>Blind</td>\n",
       "    </tr>\n",
       "    <tr>\n",
       "      <th>001</th>\n",
       "      <td>362.0</td>\n",
       "      <td>350.0</td>\n",
       "      <td>338.5</td>\n",
       "      <td>375.5</td>\n",
       "      <td>344.5</td>\n",
       "      <td>Sight</td>\n",
       "    </tr>\n",
       "    <tr>\n",
       "      <th>001C</th>\n",
       "      <td>366.5</td>\n",
       "      <td>356.5</td>\n",
       "      <td>391.5</td>\n",
       "      <td>363.0</td>\n",
       "      <td>338.5</td>\n",
       "      <td>Blind</td>\n",
       "    </tr>\n",
       "    <tr>\n",
       "      <th>003</th>\n",
       "      <td>349.0</td>\n",
       "      <td>326.0</td>\n",
       "      <td>329.5</td>\n",
       "      <td>338.5</td>\n",
       "      <td>387.0</td>\n",
       "      <td>Sight</td>\n",
       "    </tr>\n",
       "    <tr>\n",
       "      <th>003C</th>\n",
       "      <td>362.0</td>\n",
       "      <td>373.5</td>\n",
       "      <td>317.0</td>\n",
       "      <td>341.5</td>\n",
       "      <td>383.0</td>\n",
       "      <td>Blind</td>\n",
       "    </tr>\n",
       "  </tbody>\n",
       "</table>\n",
       "</div>"
      ],
      "text/plain": [
       "              Base  Audio  Haptic Belt  Virtual Cane  Mixture  \\\n",
       "Participant                                                     \n",
       "002C         318.0  356.5        378.5         375.5    348.5   \n",
       "001          362.0  350.0        338.5         375.5    344.5   \n",
       "001C         366.5  356.5        391.5         363.0    338.5   \n",
       "003          349.0  326.0        329.5         338.5    387.0   \n",
       "003C         362.0  373.5        317.0         341.5    383.0   \n",
       "\n",
       "            Visual Impairment  \n",
       "Participant                    \n",
       "002C                    Blind  \n",
       "001                     Sight  \n",
       "001C                    Blind  \n",
       "003                     Sight  \n",
       "003C                    Blind  "
      ]
     },
     "execution_count": 176,
     "metadata": {},
     "output_type": "execute_result"
    }
   ],
   "source": [
    "duracao_media_cen_par = []\n",
    "for p in range(len(participantes)):\n",
    "    duracaoPorCena_media_cen_par = []\n",
    "    for c in range(len(cenas)):\n",
    "        #print(duracao[p][c][:])\n",
    "        #print(np.mean(duracao[p][c][:]))\n",
    "        duracaoPorCena_media_cen_par.append(np.mean(duracao[p][c][:]))\n",
    "    duracao_media_cen_par.append(duracaoPorCena_media_cen_par)\n",
    "duracao_media_cen_par = pd.DataFrame(duracao_media_cen_par, columns=nomeCenas, index = participantes.index)\n",
    "duracao_media_cen_par = pd.concat([duracao_media_cen_par,participantes.loc[:,'Deficiência visual']],axis = 1)\n",
    "duracao_media_cen_par.rename(columns = {'Deficiência visual' : 'Visual Impairment'}, inplace=True) \n",
    "duracao_media_cen_par.index.names = ['Participant']\n",
    "duracao_media_cen_par"
   ]
  },
  {
   "cell_type": "code",
   "execution_count": 177,
   "metadata": {},
   "outputs": [
    {
     "name": "stdout",
     "output_type": "stream",
     "text": [
      "\\begin{table}[!htb]\n",
      "\\centering\n",
      "\\caption{Duration difference grouped by participant and guidance method.}\n",
      "\\label{tab:duracao_average}\n",
      "\\begin{tabular}{lrrrrrl}\n",
      "\\toprule\n",
      "{} &    Base &   Audio &  Haptic Belt &  Virtual Cane &  Mixture & Visual Impairment \\\\\n",
      "Participant &         &         &              &               &          &                   \\\\\n",
      "\\midrule\n",
      "002C        & 318.000 & 356.500 &      378.500 &       375.500 &  348.500 &             Blind \\\\\n",
      "001         & 362.000 & 350.000 &      338.500 &       375.500 &  344.500 &             Sight \\\\\n",
      "001C        & 366.500 & 356.500 &      391.500 &       363.000 &  338.500 &             Blind \\\\\n",
      "003         & 349.000 & 326.000 &      329.500 &       338.500 &  387.000 &             Sight \\\\\n",
      "003C        & 362.000 & 373.500 &      317.000 &       341.500 &  383.000 &             Blind \\\\\n",
      "\\bottomrule\n",
      "\\end{tabular}\n",
      "\\end{table}\n",
      "\n"
     ]
    }
   ],
   "source": [
    "label = 'tab:duracao_average'\n",
    "caption = 'Duration difference grouped by participant and guidance method.'\n",
    "\n",
    "tabela_latex(duracao_media_cen_par,label,caption,'Tempo')\n",
    "\n",
    "tabela = 0\n",
    "label = 0\n",
    "caption = 0"
   ]
  },
  {
   "cell_type": "markdown",
   "metadata": {},
   "source": [
    "### Duração média (por cenários, por deficiencia)"
   ]
  },
  {
   "cell_type": "code",
   "execution_count": 178,
   "metadata": {},
   "outputs": [
    {
     "data": {
      "text/html": [
       "<div>\n",
       "<style scoped>\n",
       "    .dataframe tbody tr th:only-of-type {\n",
       "        vertical-align: middle;\n",
       "    }\n",
       "\n",
       "    .dataframe tbody tr th {\n",
       "        vertical-align: top;\n",
       "    }\n",
       "\n",
       "    .dataframe thead th {\n",
       "        text-align: right;\n",
       "    }\n",
       "</style>\n",
       "<table border=\"1\" class=\"dataframe\">\n",
       "  <thead>\n",
       "    <tr style=\"text-align: right;\">\n",
       "      <th></th>\n",
       "      <th>Base</th>\n",
       "      <th>Audio</th>\n",
       "      <th>Haptic Belt</th>\n",
       "      <th>Virtual Cane</th>\n",
       "      <th>Mixture</th>\n",
       "    </tr>\n",
       "    <tr>\n",
       "      <th>Visual Impairment</th>\n",
       "      <th></th>\n",
       "      <th></th>\n",
       "      <th></th>\n",
       "      <th></th>\n",
       "      <th></th>\n",
       "    </tr>\n",
       "  </thead>\n",
       "  <tbody>\n",
       "    <tr>\n",
       "      <th>Blind</th>\n",
       "      <td>348.833333</td>\n",
       "      <td>362.166667</td>\n",
       "      <td>362.333333</td>\n",
       "      <td>360.0</td>\n",
       "      <td>356.666667</td>\n",
       "    </tr>\n",
       "    <tr>\n",
       "      <th>Sight</th>\n",
       "      <td>355.500000</td>\n",
       "      <td>338.000000</td>\n",
       "      <td>334.000000</td>\n",
       "      <td>357.0</td>\n",
       "      <td>365.750000</td>\n",
       "    </tr>\n",
       "  </tbody>\n",
       "</table>\n",
       "</div>"
      ],
      "text/plain": [
       "                         Base       Audio  Haptic Belt  Virtual Cane  \\\n",
       "Visual Impairment                                                      \n",
       "Blind              348.833333  362.166667   362.333333         360.0   \n",
       "Sight              355.500000  338.000000   334.000000         357.0   \n",
       "\n",
       "                      Mixture  \n",
       "Visual Impairment              \n",
       "Blind              356.666667  \n",
       "Sight              365.750000  "
      ]
     },
     "execution_count": 178,
     "metadata": {},
     "output_type": "execute_result"
    }
   ],
   "source": [
    "duracao_media_cen_def = duracao_media_cen_par.groupby(by = 'Visual Impairment').mean()\n",
    "duracao_media_cen_def"
   ]
  },
  {
   "cell_type": "code",
   "execution_count": 179,
   "metadata": {},
   "outputs": [
    {
     "name": "stdout",
     "output_type": "stream",
     "text": [
      "\\begin{table}[!htb]\n",
      "\\centering\n",
      "\\caption{Duration difference grouped by participant and visual impairment.}\n",
      "\\label{tab:duracao_average_group}\n",
      "\\begin{tabular}{lrrrrr}\n",
      "\\toprule\n",
      "{} &    Base &   Audio &  Haptic Belt &  Virtual Cane &  Mixture \\\\\n",
      "Visual Impairment &         &         &              &               &          \\\\\n",
      "\\midrule\n",
      "Blind             & 348.833 & 362.167 &      362.333 &       360.000 &  356.667 \\\\\n",
      "Sight             & 355.500 & 338.000 &      334.000 &       357.000 &  365.750 \\\\\n",
      "\\bottomrule\n",
      "\\end{tabular}\n",
      "\\end{table}\n",
      "\n"
     ]
    }
   ],
   "source": [
    "label = 'tab:duracao_average_group'\n",
    "caption = 'Duration difference grouped by participant and visual impairment.'\n",
    "\n",
    "tabela_latex(duracao_media_cen_def,label,caption,'Tempo')\n",
    "\n",
    "tabela = 0\n",
    "label = 0\n",
    "caption = 0\n",
    "\n"
   ]
  },
  {
   "cell_type": "markdown",
   "metadata": {},
   "source": [
    "## Questionários sobre os métodos"
   ]
  },
  {
   "cell_type": "markdown",
   "metadata": {},
   "source": [
    "### Pontuação global guiagem"
   ]
  },
  {
   "cell_type": "code",
   "execution_count": 180,
   "metadata": {},
   "outputs": [],
   "source": [
    "### Transformar as respostas 0 (o participante não conseguia responder) para NaN\n",
    "\n",
    "for i in range(len(questionarios)):\n",
    "    for j in range(len(questionarios[i])):\n",
    "        #print(questionarios1[i][j])\n",
    "        for k in range(len(questionarios[i][j])):\n",
    "            if questionarios[i][j][k] == 0:\n",
    "                questionarios[i][j][k] = np.nan\n",
    "        #print(questionarios1[i][j])\n",
    "        #print(questionarios[i][j])\n",
    "        #means = np.nanmean(data[:, 1:], axis=1)"
   ]
  },
  {
   "cell_type": "markdown",
   "metadata": {},
   "source": [
    "### Média pontuação global guiagem"
   ]
  },
  {
   "cell_type": "code",
   "execution_count": 181,
   "metadata": {},
   "outputs": [
    {
     "data": {
      "text/html": [
       "<div>\n",
       "<style scoped>\n",
       "    .dataframe tbody tr th:only-of-type {\n",
       "        vertical-align: middle;\n",
       "    }\n",
       "\n",
       "    .dataframe tbody tr th {\n",
       "        vertical-align: top;\n",
       "    }\n",
       "\n",
       "    .dataframe thead th {\n",
       "        text-align: right;\n",
       "    }\n",
       "</style>\n",
       "<table border=\"1\" class=\"dataframe\">\n",
       "  <thead>\n",
       "    <tr style=\"text-align: right;\">\n",
       "      <th></th>\n",
       "      <th>Audio</th>\n",
       "      <th>Haptic Belt</th>\n",
       "      <th>Virtual Cane</th>\n",
       "      <th>Mixture</th>\n",
       "      <th>Visual Impairment</th>\n",
       "    </tr>\n",
       "    <tr>\n",
       "      <th>Participant</th>\n",
       "      <th></th>\n",
       "      <th></th>\n",
       "      <th></th>\n",
       "      <th></th>\n",
       "      <th></th>\n",
       "    </tr>\n",
       "  </thead>\n",
       "  <tbody>\n",
       "    <tr>\n",
       "      <th>002C</th>\n",
       "      <td>0.857143</td>\n",
       "      <td>0.914286</td>\n",
       "      <td>0.485714</td>\n",
       "      <td>0.720238</td>\n",
       "      <td>Blind</td>\n",
       "    </tr>\n",
       "    <tr>\n",
       "      <th>001</th>\n",
       "      <td>0.464286</td>\n",
       "      <td>0.600000</td>\n",
       "      <td>0.500000</td>\n",
       "      <td>0.556723</td>\n",
       "      <td>Sight</td>\n",
       "    </tr>\n",
       "    <tr>\n",
       "      <th>001C</th>\n",
       "      <td>0.630952</td>\n",
       "      <td>0.714286</td>\n",
       "      <td>0.457143</td>\n",
       "      <td>0.848739</td>\n",
       "      <td>Blind</td>\n",
       "    </tr>\n",
       "    <tr>\n",
       "      <th>003</th>\n",
       "      <td>0.666667</td>\n",
       "      <td>0.714286</td>\n",
       "      <td>0.678571</td>\n",
       "      <td>0.866071</td>\n",
       "      <td>Sight</td>\n",
       "    </tr>\n",
       "    <tr>\n",
       "      <th>003C</th>\n",
       "      <td>0.595238</td>\n",
       "      <td>0.742857</td>\n",
       "      <td>0.542857</td>\n",
       "      <td>0.730159</td>\n",
       "      <td>Blind</td>\n",
       "    </tr>\n",
       "  </tbody>\n",
       "</table>\n",
       "</div>"
      ],
      "text/plain": [
       "                Audio  Haptic Belt  Virtual Cane   Mixture Visual Impairment\n",
       "Participant                                                                 \n",
       "002C         0.857143     0.914286      0.485714  0.720238             Blind\n",
       "001          0.464286     0.600000      0.500000  0.556723             Sight\n",
       "001C         0.630952     0.714286      0.457143  0.848739             Blind\n",
       "003          0.666667     0.714286      0.678571  0.866071             Sight\n",
       "003C         0.595238     0.742857      0.542857  0.730159             Blind"
      ]
     },
     "execution_count": 181,
     "metadata": {},
     "output_type": "execute_result"
    }
   ],
   "source": [
    "pgQuestionario_media = []\n",
    "for p in range(len(participantes)):\n",
    "    pgQuestionarioPorCena = []\n",
    "    for c in range(len(cenas)-1):\n",
    "        pgQuestionarioCena = 0\n",
    "        if (c == 2 or c == 3):\n",
    "            #print(questionarios[p][c][:len(questionarios[p][c])-2])\n",
    "            pgQuestionarioCena = np.nanmean(questionarios[p][c][:len(questionarios[p][c])-2])\n",
    "        else:\n",
    "            #print(questionarios[p][c][:len(questionarios[p][c])-1])\n",
    "            pgQuestionarioCena = np.nanmean(questionarios[p][c][:len(questionarios[p][c])-1])\n",
    "        pgQuestionarioPorCena.append(pgQuestionarioCena)\n",
    "    pgQuestionario_media.append(pgQuestionarioPorCena)\n",
    "pgQuestionario_media = pd.DataFrame(pgQuestionario_media, columns=nomeCenas[1:5], index = participantes.index)\n",
    "pgQuestionario_media = pd.concat([pgQuestionario_media,participantes.loc[:,'Deficiência visual']],axis = 1)\n",
    "pgQuestionario_media.rename(columns = {'Deficiência visual' : 'Visual Impairment'}, inplace=True) \n",
    "pgQuestionario_media.index.names = ['Participant']\n",
    "pgQuestionario_media\n"
   ]
  },
  {
   "cell_type": "code",
   "execution_count": 182,
   "metadata": {},
   "outputs": [
    {
     "name": "stdout",
     "output_type": "stream",
     "text": [
      "\\begin{table}[!htb]\n",
      "\\centering\n",
      "\\caption{Guidance method questionnaire average global score grouped by participant.}\n",
      "\\label{tab:questionnaire_average}\n",
      "\\begin{tabular}{lrrrrl}\n",
      "\\toprule\n",
      "{} &  Audio &  Haptic Belt &  Virtual Cane &  Mixture & Visual Impairment \\\\\n",
      "Participant &        &              &               &          &                   \\\\\n",
      "\\midrule\n",
      "002C        &  0.857 &        0.914 &         0.486 &    0.720 &             Blind \\\\\n",
      "001         &  0.464 &        0.600 &         0.500 &    0.557 &             Sight \\\\\n",
      "001C        &  0.631 &        0.714 &         0.457 &    0.849 &             Blind \\\\\n",
      "003         &  0.667 &        0.714 &         0.679 &    0.866 &             Sight \\\\\n",
      "003C        &  0.595 &        0.743 &         0.543 &    0.730 &             Blind \\\\\n",
      "\\bottomrule\n",
      "\\end{tabular}\n",
      "\\end{table}\n",
      "\n"
     ]
    }
   ],
   "source": [
    "label = 'tab:questionnaire_average'\n",
    "caption = 'Guidance method questionnaire average global score grouped by participant.'\n",
    "\n",
    "tabela_latex(pgQuestionario_media,label,caption,'Questionario')\n",
    "\n",
    "tabela = 0\n",
    "label = 0\n",
    "caption = 0"
   ]
  },
  {
   "cell_type": "markdown",
   "metadata": {},
   "source": [
    "### Média pontuação global guiagem (por cenários, por deficiencia)"
   ]
  },
  {
   "cell_type": "code",
   "execution_count": 183,
   "metadata": {},
   "outputs": [
    {
     "data": {
      "text/html": [
       "<div>\n",
       "<style scoped>\n",
       "    .dataframe tbody tr th:only-of-type {\n",
       "        vertical-align: middle;\n",
       "    }\n",
       "\n",
       "    .dataframe tbody tr th {\n",
       "        vertical-align: top;\n",
       "    }\n",
       "\n",
       "    .dataframe thead th {\n",
       "        text-align: right;\n",
       "    }\n",
       "</style>\n",
       "<table border=\"1\" class=\"dataframe\">\n",
       "  <thead>\n",
       "    <tr style=\"text-align: right;\">\n",
       "      <th></th>\n",
       "      <th>Audio</th>\n",
       "      <th>Haptic Belt</th>\n",
       "      <th>Virtual Cane</th>\n",
       "      <th>Mixture</th>\n",
       "    </tr>\n",
       "    <tr>\n",
       "      <th>Visual Impairment</th>\n",
       "      <th></th>\n",
       "      <th></th>\n",
       "      <th></th>\n",
       "      <th></th>\n",
       "    </tr>\n",
       "  </thead>\n",
       "  <tbody>\n",
       "    <tr>\n",
       "      <th>Blind</th>\n",
       "      <td>0.694444</td>\n",
       "      <td>0.790476</td>\n",
       "      <td>0.495238</td>\n",
       "      <td>0.766379</td>\n",
       "    </tr>\n",
       "    <tr>\n",
       "      <th>Sight</th>\n",
       "      <td>0.565476</td>\n",
       "      <td>0.657143</td>\n",
       "      <td>0.589286</td>\n",
       "      <td>0.711397</td>\n",
       "    </tr>\n",
       "  </tbody>\n",
       "</table>\n",
       "</div>"
      ],
      "text/plain": [
       "                      Audio  Haptic Belt  Virtual Cane   Mixture\n",
       "Visual Impairment                                               \n",
       "Blind              0.694444     0.790476      0.495238  0.766379\n",
       "Sight              0.565476     0.657143      0.589286  0.711397"
      ]
     },
     "execution_count": 183,
     "metadata": {},
     "output_type": "execute_result"
    }
   ],
   "source": [
    "pgQuestionario_media_def = pgQuestionario_media.groupby(by = 'Visual Impairment').mean()\n",
    "pgQuestionario_media_def"
   ]
  },
  {
   "cell_type": "code",
   "execution_count": 184,
   "metadata": {},
   "outputs": [
    {
     "name": "stdout",
     "output_type": "stream",
     "text": [
      "\\begin{table}[!htb]\n",
      "\\centering\n",
      "\\caption{Guidance method questionnaire average global score grouped by visual impairment.}\n",
      "\\label{tab:questionnaire_average_group}\n",
      "\\begin{tabular}{lrrrr}\n",
      "\\toprule\n",
      "{} &  Audio &  Haptic Belt &  Virtual Cane &  Mixture \\\\\n",
      "Visual Impairment &        &              &               &          \\\\\n",
      "\\midrule\n",
      "Blind             &  0.694 &        0.790 &         0.495 &    0.766 \\\\\n",
      "Sight             &  0.565 &        0.657 &         0.589 &    0.711 \\\\\n",
      "\\bottomrule\n",
      "\\end{tabular}\n",
      "\\end{table}\n",
      "\n"
     ]
    }
   ],
   "source": [
    "label = 'tab:questionnaire_average_group'\n",
    "caption = 'Guidance method questionnaire average global score grouped by visual impairment.'\n",
    "\n",
    "tabela_latex(pgQuestionario_media_def,label,caption,'Questionario')\n",
    "\n",
    "tabela = 0\n",
    "label = 0\n",
    "caption = 0"
   ]
  },
  {
   "cell_type": "markdown",
   "metadata": {},
   "source": [
    "# Análise Shapiro, Teste-T e Gráficos"
   ]
  },
  {
   "cell_type": "markdown",
   "metadata": {},
   "source": [
    "## (CUIDADO) Gerar novos dados para fazer testes"
   ]
  },
  {
   "cell_type": "code",
   "execution_count": 185,
   "metadata": {},
   "outputs": [],
   "source": [
    "import copy\n",
    "fake_participants = list(range(1,2))\n",
    "nCegos = 1\n",
    "gerar = True"
   ]
  },
  {
   "cell_type": "markdown",
   "metadata": {},
   "source": [
    "### Demanda Mental"
   ]
  },
  {
   "cell_type": "code",
   "execution_count": 186,
   "metadata": {},
   "outputs": [],
   "source": [
    "if gerar == True:\n",
    "    mdNasa_media_cen_par_2 = copy.deepcopy(mdNasa_media_cen_par)\n",
    "    df2 = pd.DataFrame([], columns = mdNasa_media_cen_par.columns)\n",
    "    for i in fake_participants:\n",
    "        if i<11:\n",
    "            s = []\n",
    "            for n in nomeCenas:\n",
    "                s.append(random.randrange(1,21)*1.0)\n",
    "            s.append('Sight')\n",
    "            df2 = df2.append(pd.DataFrame([s],columns = mdNasa_media_cen_par.columns))\n",
    "        else:\n",
    "            s = []\n",
    "            for n in nomeCenas:\n",
    "                s.append(random.randrange(1,21)*1.0)\n",
    "            s.append('Blind')\n",
    "            df2 = df2.append(pd.DataFrame([s],columns = mdNasa_media_cen_par.columns))\n",
    "\n",
    "    df2['i'] = fake_participants\n",
    "    df2.set_index('i',inplace = True)\n",
    "\n",
    "    mdNasa_media_cen_par_2 = mdNasa_media_cen_par_2.append(df2)\n",
    "    mdNasa_media_cen_par_2"
   ]
  },
  {
   "cell_type": "code",
   "execution_count": 187,
   "metadata": {},
   "outputs": [],
   "source": [
    "if gerar == True:\n",
    "    dfMdVariation_2 = copy.deepcopy(dfMdVariation)\n",
    "    df2 = pd.DataFrame([], columns = dfMdVariation_2.columns)\n",
    "    p = []\n",
    "    for i in fake_participants:\n",
    "        p.append(i)\n",
    "        p.append(i)\n",
    "        if i<3:\n",
    "            defic = []\n",
    "            s = []    \n",
    "            for r in list(range(2)):\n",
    "                n = []\n",
    "                for c in nomeCenas:    \n",
    "                    n.append(random.randrange(1,21)*1.0)\n",
    "                df2 = df2.append(pd.DataFrame([n],columns = dfMdVariation_2.columns))\n",
    "                defic.append('Sight')\n",
    "                \n",
    "        else:\n",
    "            s = []    \n",
    "            for r in list(range(2)):\n",
    "                n = []\n",
    "                for c in nomeCenas:    \n",
    "                    n.append(random.randrange(1,21)*1.0)\n",
    "                df2 = df2.append(pd.DataFrame([n],columns = dfMdVariation_2.columns))\n",
    "                defic.append('Blind')\n",
    "    df2.set_index(pd.MultiIndex.from_tuples(list(zip(p,defic,['First','Return'])),names = dfMdVariation_2.index.names),inplace = True)\n",
    "    dfMdVariation_2 = dfMdVariation_2.append(df2)\n",
    "    dfMdVariation_2"
   ]
  },
  {
   "cell_type": "markdown",
   "metadata": {},
   "source": [
    "### Carga Mental"
   ]
  },
  {
   "cell_type": "code",
   "execution_count": 188,
   "metadata": {},
   "outputs": [],
   "source": [
    "if gerar == True:\n",
    "    cmNasa_media_cen_par_2 = copy.deepcopy(cmNasa_media_cen_par)\n",
    "    df2 = pd.DataFrame([], columns = cmNasa_media_cen_par.columns)\n",
    "    for i in fake_participants:\n",
    "        if i<11:\n",
    "            s = []\n",
    "            for n in nomeCenas:\n",
    "                n = []\n",
    "                for d in dimensoesNasa:\n",
    "                    n.append(random.randrange(1,21)*1.0)\n",
    "                s.append(np.average(n))\n",
    "            s.append('Sight')\n",
    "            df2 = df2.append(pd.DataFrame([s],columns = cmNasa_media_cen_par.columns))\n",
    "        else:\n",
    "            s = []\n",
    "            for n in nomeCenas:\n",
    "                n = []\n",
    "                for d in dimensoesNasa:\n",
    "                    n.append(random.randrange(1,21)*1.0)\n",
    "                s.append(np.average(n))\n",
    "            s.append('Blind')\n",
    "            df2 = df2.append(pd.DataFrame([s],columns = cmNasa_media_cen_par.columns))\n",
    "\n",
    "    df2['i'] = fake_participants\n",
    "    df2.set_index('i',inplace = True)\n",
    "\n",
    "    cmNasa_media_cen_par_2 = cmNasa_media_cen_par_2.append(df2)\n",
    "    cmNasa_media_cen_par_2"
   ]
  },
  {
   "cell_type": "code",
   "execution_count": 189,
   "metadata": {},
   "outputs": [],
   "source": [
    "if gerar == True:\n",
    "    dfCmVariation_2 = copy.deepcopy(dfCmVariation)\n",
    "    df2 = pd.DataFrame([], columns = dfMdVariation_2.columns)\n",
    "    p = []\n",
    "    for i in fake_participants:\n",
    "        p.append(i)\n",
    "        p.append(i)\n",
    "        if i<3:\n",
    "            defic = []\n",
    "            s = []    \n",
    "            for r in list(range(2)):\n",
    "                n = []\n",
    "                for c in nomeCenas:    \n",
    "                    n.append(random.randrange(1,21)*1.0)\n",
    "                df2 = df2.append(pd.DataFrame([n],columns = dfCmVariation_2.columns))\n",
    "                defic.append('Sight')\n",
    "                \n",
    "        else:\n",
    "            s = []    \n",
    "            for r in list(range(2)):\n",
    "                n = []\n",
    "                for c in nomeCenas:    \n",
    "                    n.append(random.randrange(1,21)*1.0)\n",
    "                df2 = df2.append(pd.DataFrame([n],columns = dfCmVariation_2.columns))\n",
    "                defic.append('Blind')\n",
    "    df2.set_index(pd.MultiIndex.from_tuples(list(zip(p,defic,['First','Return'])),names = dfCmVariation_2.index.names),inplace = True)\n",
    "    dfCmVariation_2 = dfCmVariation_2.append(df2)\n",
    "    dfCmVariation_2"
   ]
  },
  {
   "cell_type": "markdown",
   "metadata": {},
   "source": [
    "### Sagat"
   ]
  },
  {
   "cell_type": "code",
   "execution_count": 190,
   "metadata": {},
   "outputs": [],
   "source": [
    "if gerar == True:\n",
    "    saSagat_media_cen_par_2 = copy.deepcopy(saSagat_media_cen_par)\n",
    "    df2 = pd.DataFrame([], columns = saSagat_media_cen_par.columns)\n",
    "    for i in fake_participants:\n",
    "        if i<11:\n",
    "            s = []\n",
    "            for n in nomeCenas:\n",
    "                n = []\n",
    "                for d in perguntasSagat:\n",
    "                    n.append(random.randrange(0,11)/10)\n",
    "                s.append(np.average(n))\n",
    "            s.append('Sight')\n",
    "            df2 = df2.append(pd.DataFrame([s],columns = saSagat_media_cen_par.columns))\n",
    "        else:\n",
    "            s = []\n",
    "            for n in nomeCenas:\n",
    "                n = []\n",
    "                for d in perguntasSagat:\n",
    "                    n.append(random.randrange(0,11)/10)\n",
    "                s.append(np.average(n))\n",
    "            s.append('Blind')\n",
    "            df2 = df2.append(pd.DataFrame([s],columns = saSagat_media_cen_par.columns))\n",
    "\n",
    "    df2['i'] = fake_participants\n",
    "    df2.set_index('i',inplace = True)\n",
    "\n",
    "    saSagat_media_cen_par_2 = saSagat_media_cen_par_2.append(df2)\n",
    "    saSagat_media_cen_par_2\n",
    "\n",
    "#for i in range(len(saSagat_media_cen_par_2[saSagat_media_cen_par_2['Visual Impairment'] == 'Sight'].loc[:,'Base'])):\n",
    "#    saSagat_media_cen_par_2.loc[saSagat_media_cen_par_2['Visual Impairment'] == 'Sight', 'Base'] = 0.0"
   ]
  },
  {
   "cell_type": "code",
   "execution_count": 191,
   "metadata": {},
   "outputs": [],
   "source": [
    "if gerar == True:\n",
    "    dfSaVariation_2 = copy.deepcopy(dfSaVariation)\n",
    "    df2 = pd.DataFrame([], columns = dfSaVariation_2.columns)\n",
    "    p = []\n",
    "    for i in fake_participants:\n",
    "        p.append(i)\n",
    "        p.append(i)\n",
    "        if i<3:\n",
    "            defic = []\n",
    "            s = []    \n",
    "            for r in list(range(2)):\n",
    "                n = []\n",
    "                for c in nomeCenas:    \n",
    "                    n.append(random.randrange(1,11)/10)\n",
    "                df2 = df2.append(pd.DataFrame([n],columns = dfSaVariation_2.columns))\n",
    "                defic.append('Sight')\n",
    "                \n",
    "        else:\n",
    "            s = []    \n",
    "            for r in list(range(2)):\n",
    "                n = []\n",
    "                for c in nomeCenas:    \n",
    "                    n.append(random.randrange(1,11)/1.0)\n",
    "                df2 = df2.append(pd.DataFrame([n],columns = dfSaVariation_2.columns))\n",
    "                defic.append('Blind')\n",
    "    df2.set_index(pd.MultiIndex.from_tuples(list(zip(p,defic,['First','Return'])),names = dfSaVariation_2.index.names),inplace = True)\n",
    "    dfSaVariation_2 = dfSaVariation_2.append(df2)\n",
    "    dfSaVariation_2"
   ]
  },
  {
   "cell_type": "markdown",
   "metadata": {},
   "source": [
    "### Tempo"
   ]
  },
  {
   "cell_type": "code",
   "execution_count": 192,
   "metadata": {},
   "outputs": [],
   "source": [
    "if gerar == True:\n",
    "    duracao_media_cen_par_2 = copy.deepcopy(duracao_media_cen_par)\n",
    "    df2 = pd.DataFrame([], columns = duracao_media_cen_par.columns)\n",
    "    for i in fake_participants:\n",
    "        if i<11:\n",
    "            s = []\n",
    "            for n in nomeCenas:\n",
    "                n = []\n",
    "                for d in perguntasSagat:\n",
    "                    n.append(random.randrange(5*60,7*60))\n",
    "                s.append(np.average(n))\n",
    "            s.append('Sight')\n",
    "            df2 = df2.append(pd.DataFrame([s],columns = duracao_media_cen_par.columns))\n",
    "        else:\n",
    "            s = []\n",
    "            for n in nomeCenas:\n",
    "                n = []\n",
    "                for d in perguntasSagat:\n",
    "                    n.append(random.randrange(5*60,7*60))\n",
    "                s.append(np.average(n))\n",
    "            s.append('Blind')\n",
    "            df2 = df2.append(pd.DataFrame([s],columns = duracao_media_cen_par.columns))\n",
    "\n",
    "    df2['i'] = fake_participants\n",
    "    df2.set_index('i',inplace = True)\n",
    "\n",
    "    duracao_media_cen_par_2 = duracao_media_cen_par_2.append(df2)\n",
    "    duracao_media_cen_par_2\n",
    "\n",
    "#for i in range(len(saSagat_media_cen_par_2[saSagat_media_cen_par_2['Visual Impairment'] == 'Sight'].loc[:,'Base'])):\n",
    "#    saSagat_media_cen_par_2.loc[saSagat_media_cen_par_2['Visual Impairment'] == 'Sight', 'Base'] = 0.0"
   ]
  },
  {
   "cell_type": "code",
   "execution_count": 193,
   "metadata": {},
   "outputs": [
    {
     "data": {
      "text/html": [
       "<div>\n",
       "<style scoped>\n",
       "    .dataframe tbody tr th:only-of-type {\n",
       "        vertical-align: middle;\n",
       "    }\n",
       "\n",
       "    .dataframe tbody tr th {\n",
       "        vertical-align: top;\n",
       "    }\n",
       "\n",
       "    .dataframe thead th {\n",
       "        text-align: right;\n",
       "    }\n",
       "</style>\n",
       "<table border=\"1\" class=\"dataframe\">\n",
       "  <thead>\n",
       "    <tr style=\"text-align: right;\">\n",
       "      <th></th>\n",
       "      <th></th>\n",
       "      <th></th>\n",
       "      <th>Base</th>\n",
       "      <th>Audio</th>\n",
       "      <th>Haptic Belt</th>\n",
       "      <th>Virtual Cane</th>\n",
       "      <th>Mixture</th>\n",
       "    </tr>\n",
       "    <tr>\n",
       "      <th>Participant</th>\n",
       "      <th>Visual Impairment</th>\n",
       "      <th>Round</th>\n",
       "      <th></th>\n",
       "      <th></th>\n",
       "      <th></th>\n",
       "      <th></th>\n",
       "      <th></th>\n",
       "    </tr>\n",
       "  </thead>\n",
       "  <tbody>\n",
       "    <tr>\n",
       "      <th rowspan=\"2\" valign=\"top\">002C</th>\n",
       "      <th rowspan=\"2\" valign=\"top\">Blind</th>\n",
       "      <th>First</th>\n",
       "      <td>316.0</td>\n",
       "      <td>367.0</td>\n",
       "      <td>380.0</td>\n",
       "      <td>333.0</td>\n",
       "      <td>376.0</td>\n",
       "    </tr>\n",
       "    <tr>\n",
       "      <th>Return</th>\n",
       "      <td>320.0</td>\n",
       "      <td>346.0</td>\n",
       "      <td>377.0</td>\n",
       "      <td>418.0</td>\n",
       "      <td>321.0</td>\n",
       "    </tr>\n",
       "    <tr>\n",
       "      <th rowspan=\"2\" valign=\"top\">001</th>\n",
       "      <th rowspan=\"2\" valign=\"top\">Sight</th>\n",
       "      <th>First</th>\n",
       "      <td>356.0</td>\n",
       "      <td>347.0</td>\n",
       "      <td>305.0</td>\n",
       "      <td>392.0</td>\n",
       "      <td>348.0</td>\n",
       "    </tr>\n",
       "    <tr>\n",
       "      <th>Return</th>\n",
       "      <td>368.0</td>\n",
       "      <td>353.0</td>\n",
       "      <td>372.0</td>\n",
       "      <td>359.0</td>\n",
       "      <td>341.0</td>\n",
       "    </tr>\n",
       "    <tr>\n",
       "      <th rowspan=\"2\" valign=\"top\">001C</th>\n",
       "      <th rowspan=\"2\" valign=\"top\">Blind</th>\n",
       "      <th>First</th>\n",
       "      <td>356.0</td>\n",
       "      <td>345.0</td>\n",
       "      <td>382.0</td>\n",
       "      <td>324.0</td>\n",
       "      <td>368.0</td>\n",
       "    </tr>\n",
       "    <tr>\n",
       "      <th>Return</th>\n",
       "      <td>377.0</td>\n",
       "      <td>368.0</td>\n",
       "      <td>401.0</td>\n",
       "      <td>402.0</td>\n",
       "      <td>309.0</td>\n",
       "    </tr>\n",
       "    <tr>\n",
       "      <th rowspan=\"2\" valign=\"top\">003</th>\n",
       "      <th rowspan=\"2\" valign=\"top\">Sight</th>\n",
       "      <th>First</th>\n",
       "      <td>311.0</td>\n",
       "      <td>311.0</td>\n",
       "      <td>328.0</td>\n",
       "      <td>320.0</td>\n",
       "      <td>394.0</td>\n",
       "    </tr>\n",
       "    <tr>\n",
       "      <th>Return</th>\n",
       "      <td>387.0</td>\n",
       "      <td>341.0</td>\n",
       "      <td>331.0</td>\n",
       "      <td>357.0</td>\n",
       "      <td>380.0</td>\n",
       "    </tr>\n",
       "    <tr>\n",
       "      <th rowspan=\"2\" valign=\"top\">003C</th>\n",
       "      <th rowspan=\"2\" valign=\"top\">Blind</th>\n",
       "      <th>First</th>\n",
       "      <td>337.0</td>\n",
       "      <td>354.0</td>\n",
       "      <td>333.0</td>\n",
       "      <td>354.0</td>\n",
       "      <td>381.0</td>\n",
       "    </tr>\n",
       "    <tr>\n",
       "      <th>Return</th>\n",
       "      <td>387.0</td>\n",
       "      <td>393.0</td>\n",
       "      <td>301.0</td>\n",
       "      <td>329.0</td>\n",
       "      <td>385.0</td>\n",
       "    </tr>\n",
       "    <tr>\n",
       "      <th rowspan=\"2\" valign=\"top\">1</th>\n",
       "      <th rowspan=\"2\" valign=\"top\">Sight</th>\n",
       "      <th>First</th>\n",
       "      <td>348</td>\n",
       "      <td>304</td>\n",
       "      <td>414</td>\n",
       "      <td>361</td>\n",
       "      <td>311</td>\n",
       "    </tr>\n",
       "    <tr>\n",
       "      <th>Return</th>\n",
       "      <td>380</td>\n",
       "      <td>360</td>\n",
       "      <td>316</td>\n",
       "      <td>414</td>\n",
       "      <td>393</td>\n",
       "    </tr>\n",
       "  </tbody>\n",
       "</table>\n",
       "</div>"
      ],
      "text/plain": [
       "                                       Base  Audio Haptic Belt Virtual Cane  \\\n",
       "Participant Visual Impairment Round                                           \n",
       "002C        Blind             First   316.0  367.0       380.0        333.0   \n",
       "                              Return  320.0  346.0       377.0        418.0   \n",
       "001         Sight             First   356.0  347.0       305.0        392.0   \n",
       "                              Return  368.0  353.0       372.0        359.0   \n",
       "001C        Blind             First   356.0  345.0       382.0        324.0   \n",
       "                              Return  377.0  368.0       401.0        402.0   \n",
       "003         Sight             First   311.0  311.0       328.0        320.0   \n",
       "                              Return  387.0  341.0       331.0        357.0   \n",
       "003C        Blind             First   337.0  354.0       333.0        354.0   \n",
       "                              Return  387.0  393.0       301.0        329.0   \n",
       "1           Sight             First     348    304         414          361   \n",
       "                              Return    380    360         316          414   \n",
       "\n",
       "                                     Mixture  \n",
       "Participant Visual Impairment Round           \n",
       "002C        Blind             First    376.0  \n",
       "                              Return   321.0  \n",
       "001         Sight             First    348.0  \n",
       "                              Return   341.0  \n",
       "001C        Blind             First    368.0  \n",
       "                              Return   309.0  \n",
       "003         Sight             First    394.0  \n",
       "                              Return   380.0  \n",
       "003C        Blind             First    381.0  \n",
       "                              Return   385.0  \n",
       "1           Sight             First      311  \n",
       "                              Return     393  "
      ]
     },
     "execution_count": 193,
     "metadata": {},
     "output_type": "execute_result"
    }
   ],
   "source": [
    "if gerar == True:\n",
    "    dfTVariation_2 = copy.deepcopy(dfTVariation)\n",
    "    df2 = pd.DataFrame([], columns = dfTVariation_2.columns)\n",
    "    p = []\n",
    "    for i in fake_participants:\n",
    "        p.append(i)\n",
    "        p.append(i)\n",
    "        if i<3:\n",
    "            defic = []\n",
    "            s = []    \n",
    "            for r in list(range(2)):\n",
    "                n = []\n",
    "                for c in nomeCenas:    \n",
    "                    n.append(random.randrange(5*60,7*60))\n",
    "                df2 = df2.append(pd.DataFrame([n],columns = dfTVariation_2.columns))\n",
    "                defic.append('Sight')\n",
    "                \n",
    "        else:\n",
    "            s = []    \n",
    "            for r in list(range(2)):\n",
    "                n = []\n",
    "                for c in nomeCenas:    \n",
    "                    n.append(random.randrange(5*60,7*60))\n",
    "                df2 = df2.append(pd.DataFrame([n],columns = dfTVariation_2.columns))\n",
    "    df2.set_index(pd.MultiIndex.from_tuples(list(zip(p,defic,['First','Return'])),names = dfTVariation_2.index.names),inplace = True)\n",
    "    dfTVariation_2 = dfTVariation_2.append(df2)\n",
    "dfTVariation_2"
   ]
  },
  {
   "cell_type": "markdown",
   "metadata": {},
   "source": [
    "### Questionarios"
   ]
  },
  {
   "cell_type": "code",
   "execution_count": 194,
   "metadata": {},
   "outputs": [],
   "source": [
    "if gerar == True:\n",
    "    pgQuestionario_media_2 = copy.deepcopy(pgQuestionario_media)\n",
    "    df2 = pd.DataFrame([], columns = pgQuestionario_media.columns)\n",
    "    for i in fake_participants:\n",
    "        if i<11:\n",
    "            s = []\n",
    "            for d in perguntasQuestionario:\n",
    "                n = []\n",
    "                for j in range(d):\n",
    "                    n.append(random.randrange(0,11)/10.0)\n",
    "                s.append(np.average(n))\n",
    "            s.append('Sight')\n",
    "            df2 = df2.append(pd.DataFrame([s],columns = pgQuestionario_media.columns))\n",
    "        else:\n",
    "            s = []\n",
    "            for d in perguntasQuestionario:\n",
    "                n = []\n",
    "                for j in range(d):\n",
    "                    n.append(random.randrange(0,11)/10.0)\n",
    "                s.append(np.average(n))\n",
    "            s.append('Blind')\n",
    "            df2 = df2.append(pd.DataFrame([s],columns = pgQuestionario_media.columns))\n",
    "\n",
    "    df2['i'] = fake_participants\n",
    "    df2.set_index('i',inplace = True)\n",
    "\n",
    "    pgQuestionario_media_2 = pgQuestionario_media_2.append(df2)\n",
    "    pgQuestionario_media_2"
   ]
  },
  {
   "cell_type": "markdown",
   "metadata": {},
   "source": [
    "### Tabelas geradas"
   ]
  },
  {
   "cell_type": "markdown",
   "metadata": {},
   "source": [
    "#### Variação Demanda Mental"
   ]
  },
  {
   "cell_type": "code",
   "execution_count": 196,
   "metadata": {},
   "outputs": [
    {
     "name": "stdout",
     "output_type": "stream",
     "text": [
      "\\begin{table}[!htb]\n",
      "\\centering\n",
      "\\caption{Mental demand variation by participant and method.}\n",
      "\\label{tab:md_var}\n",
      "\\begin{tabular}{llllllll}\n",
      "\\toprule\n",
      "  &       &        &   Base &  Audio & Haptic Belt & Virtual Cane & Mixture \\\\\n",
      "Participant & Visual Impairment & Round &        &        &             &              &         \\\\\n",
      "\\midrule\n",
      "002C & Blind & First &      5 &      1 &           1 &           10 &      12 \\\\\n",
      "  &       & Return &      1 &      1 &           1 &           10 &       3 \\\\\n",
      "001 & Sight & First &      6 &     12 &          11 &            5 &       9 \\\\\n",
      "  &       & Return &      6 &     13 &          13 &            5 &      10 \\\\\n",
      "001C & Blind & First &      3 &      1 &          14 &            3 &       6 \\\\\n",
      "  &       & Return &      1 &      1 &          10 &            2 &       6 \\\\\n",
      "003 & Sight & First &      2 &     18 &          18 &           16 &      10 \\\\\n",
      "  &       & Return &      1 &     12 &          15 &           11 &       8 \\\\\n",
      "003C & Blind & First &      5 &      5 &           5 &            8 &       1 \\\\\n",
      "  &       & Return &      3 &      1 &           1 &            2 &       1 \\\\\n",
      "1 & Sight & First & 14.000 &  4.000 &       3.000 &       13.000 &   2.000 \\\\\n",
      "  &       & Return &  7.000 & 13.000 &       7.000 &       19.000 &   3.000 \\\\\n",
      "\\bottomrule\n",
      "\\end{tabular}\n",
      "\\end{table}\n",
      "\n"
     ]
    },
    {
     "ename": "DataError",
     "evalue": "No numeric types to aggregate",
     "output_type": "error",
     "traceback": [
      "\u001b[1;31m---------------------------------------------------------------------------\u001b[0m",
      "\u001b[1;31mDataError\u001b[0m                                 Traceback (most recent call last)",
      "\u001b[1;32m<ipython-input-196-4bf6286ee1dd>\u001b[0m in \u001b[0;36m<module>\u001b[1;34m\u001b[0m\n\u001b[0;32m      9\u001b[0m     \u001b[0mcaption\u001b[0m \u001b[1;33m=\u001b[0m \u001b[1;36m0\u001b[0m\u001b[1;33m\u001b[0m\u001b[1;33m\u001b[0m\u001b[0m\n\u001b[0;32m     10\u001b[0m \u001b[1;33m\u001b[0m\u001b[0m\n\u001b[1;32m---> 11\u001b[1;33m     \u001b[0mdfMdVariation_2def\u001b[0m \u001b[1;33m=\u001b[0m \u001b[0mdfMdVariation_2\u001b[0m\u001b[1;33m.\u001b[0m\u001b[0mgroupby\u001b[0m\u001b[1;33m(\u001b[0m\u001b[0mby\u001b[0m \u001b[1;33m=\u001b[0m \u001b[1;34m'Visual Impairment'\u001b[0m\u001b[1;33m)\u001b[0m\u001b[1;33m.\u001b[0m\u001b[0mmean\u001b[0m\u001b[1;33m(\u001b[0m\u001b[1;33m)\u001b[0m\u001b[1;33m\u001b[0m\u001b[1;33m\u001b[0m\u001b[0m\n\u001b[0m\u001b[0;32m     12\u001b[0m \u001b[1;33m\u001b[0m\u001b[0m\n\u001b[0;32m     13\u001b[0m     \u001b[0mlabel\u001b[0m \u001b[1;33m=\u001b[0m \u001b[1;34m'tab:md_var_group'\u001b[0m\u001b[1;33m\u001b[0m\u001b[1;33m\u001b[0m\u001b[0m\n",
      "\u001b[1;32mc:\\Users\\ivan\\AppData\\Local\\Programs\\Python\\Python39\\lib\\site-packages\\pandas\\core\\groupby\\groupby.py\u001b[0m in \u001b[0;36mmean\u001b[1;34m(self, numeric_only)\u001b[0m\n\u001b[0;32m   1494\u001b[0m         \u001b[0mName\u001b[0m\u001b[1;33m:\u001b[0m \u001b[0mB\u001b[0m\u001b[1;33m,\u001b[0m \u001b[0mdtype\u001b[0m\u001b[1;33m:\u001b[0m \u001b[0mfloat64\u001b[0m\u001b[1;33m\u001b[0m\u001b[1;33m\u001b[0m\u001b[0m\n\u001b[0;32m   1495\u001b[0m         \"\"\"\n\u001b[1;32m-> 1496\u001b[1;33m         return self._cython_agg_general(\n\u001b[0m\u001b[0;32m   1497\u001b[0m             \u001b[1;34m\"mean\"\u001b[0m\u001b[1;33m,\u001b[0m\u001b[1;33m\u001b[0m\u001b[1;33m\u001b[0m\u001b[0m\n\u001b[0;32m   1498\u001b[0m             \u001b[0malt\u001b[0m\u001b[1;33m=\u001b[0m\u001b[1;32mlambda\u001b[0m \u001b[0mx\u001b[0m\u001b[1;33m,\u001b[0m \u001b[0maxis\u001b[0m\u001b[1;33m:\u001b[0m \u001b[0mSeries\u001b[0m\u001b[1;33m(\u001b[0m\u001b[0mx\u001b[0m\u001b[1;33m)\u001b[0m\u001b[1;33m.\u001b[0m\u001b[0mmean\u001b[0m\u001b[1;33m(\u001b[0m\u001b[0mnumeric_only\u001b[0m\u001b[1;33m=\u001b[0m\u001b[0mnumeric_only\u001b[0m\u001b[1;33m)\u001b[0m\u001b[1;33m,\u001b[0m\u001b[1;33m\u001b[0m\u001b[1;33m\u001b[0m\u001b[0m\n",
      "\u001b[1;32mc:\\Users\\ivan\\AppData\\Local\\Programs\\Python\\Python39\\lib\\site-packages\\pandas\\core\\groupby\\generic.py\u001b[0m in \u001b[0;36m_cython_agg_general\u001b[1;34m(self, how, alt, numeric_only, min_count)\u001b[0m\n\u001b[0;32m   1013\u001b[0m         \u001b[0mself\u001b[0m\u001b[1;33m,\u001b[0m \u001b[0mhow\u001b[0m\u001b[1;33m:\u001b[0m \u001b[0mstr\u001b[0m\u001b[1;33m,\u001b[0m \u001b[0malt\u001b[0m\u001b[1;33m=\u001b[0m\u001b[1;32mNone\u001b[0m\u001b[1;33m,\u001b[0m \u001b[0mnumeric_only\u001b[0m\u001b[1;33m:\u001b[0m \u001b[0mbool\u001b[0m \u001b[1;33m=\u001b[0m \u001b[1;32mTrue\u001b[0m\u001b[1;33m,\u001b[0m \u001b[0mmin_count\u001b[0m\u001b[1;33m:\u001b[0m \u001b[0mint\u001b[0m \u001b[1;33m=\u001b[0m \u001b[1;33m-\u001b[0m\u001b[1;36m1\u001b[0m\u001b[1;33m\u001b[0m\u001b[1;33m\u001b[0m\u001b[0m\n\u001b[0;32m   1014\u001b[0m     ) -> DataFrame:\n\u001b[1;32m-> 1015\u001b[1;33m         agg_mgr = self._cython_agg_blocks(\n\u001b[0m\u001b[0;32m   1016\u001b[0m             \u001b[0mhow\u001b[0m\u001b[1;33m,\u001b[0m \u001b[0malt\u001b[0m\u001b[1;33m=\u001b[0m\u001b[0malt\u001b[0m\u001b[1;33m,\u001b[0m \u001b[0mnumeric_only\u001b[0m\u001b[1;33m=\u001b[0m\u001b[0mnumeric_only\u001b[0m\u001b[1;33m,\u001b[0m \u001b[0mmin_count\u001b[0m\u001b[1;33m=\u001b[0m\u001b[0mmin_count\u001b[0m\u001b[1;33m\u001b[0m\u001b[1;33m\u001b[0m\u001b[0m\n\u001b[0;32m   1017\u001b[0m         )\n",
      "\u001b[1;32mc:\\Users\\ivan\\AppData\\Local\\Programs\\Python\\Python39\\lib\\site-packages\\pandas\\core\\groupby\\generic.py\u001b[0m in \u001b[0;36m_cython_agg_blocks\u001b[1;34m(self, how, alt, numeric_only, min_count)\u001b[0m\n\u001b[0;32m   1119\u001b[0m \u001b[1;33m\u001b[0m\u001b[0m\n\u001b[0;32m   1120\u001b[0m         \u001b[1;32mif\u001b[0m \u001b[1;32mnot\u001b[0m \u001b[0mlen\u001b[0m\u001b[1;33m(\u001b[0m\u001b[0mnew_mgr\u001b[0m\u001b[1;33m)\u001b[0m\u001b[1;33m:\u001b[0m\u001b[1;33m\u001b[0m\u001b[1;33m\u001b[0m\u001b[0m\n\u001b[1;32m-> 1121\u001b[1;33m             \u001b[1;32mraise\u001b[0m \u001b[0mDataError\u001b[0m\u001b[1;33m(\u001b[0m\u001b[1;34m\"No numeric types to aggregate\"\u001b[0m\u001b[1;33m)\u001b[0m\u001b[1;33m\u001b[0m\u001b[1;33m\u001b[0m\u001b[0m\n\u001b[0m\u001b[0;32m   1122\u001b[0m \u001b[1;33m\u001b[0m\u001b[0m\n\u001b[0;32m   1123\u001b[0m         \u001b[1;32mreturn\u001b[0m \u001b[0mnew_mgr\u001b[0m\u001b[1;33m\u001b[0m\u001b[1;33m\u001b[0m\u001b[0m\n",
      "\u001b[1;31mDataError\u001b[0m: No numeric types to aggregate"
     ]
    }
   ],
   "source": [
    "if gerar == True:\n",
    "    label = 'tab:md_var'\n",
    "    caption = 'Mental demand variation by participant and method.'\n",
    "\n",
    "    tabela_latex(dfMdVariation_2,label,caption,'Nasa-TLX')\n",
    "\n",
    "    tabela = 0\n",
    "    label = 0\n",
    "    caption = 0\n",
    "\n",
    "    dfMdVariation_2def = dfMdVariation_2.groupby(by = 'Visual Impairment').mean()\n",
    "\n",
    "    label = 'tab:md_var_group'\n",
    "    caption = 'Mental demand variation by participant and visual impairment.'\n",
    "\n",
    "    tabela_latex(dfMdVariation_2def,label,caption,'Nasa-TLX')\n",
    "\n",
    "    tabela = 0\n",
    "    label = 0\n",
    "    caption = 0"
   ]
  },
  {
   "cell_type": "markdown",
   "metadata": {},
   "source": [
    "#### Média Demanda Mental"
   ]
  },
  {
   "cell_type": "code",
   "execution_count": null,
   "metadata": {},
   "outputs": [
    {
     "name": "stdout",
     "output_type": "stream",
     "text": [
      "\\begin{table}[!htb]\n",
      "\\centering\n",
      "\\caption{Mental demand average by participant and method.}\n",
      "\\label{tab:md_average}\n",
      "\\begin{tabular}{lrrrrrl}\n",
      "\\toprule\n",
      "{} &   Base &  Audio &  Haptic Belt &  Virtual Cane &  Mixture & Visual Impairment \\\\\n",
      "\\midrule\n",
      "002C &  3.000 &  1.000 &        1.000 &        10.000 &    7.500 &             Blind \\\\\n",
      "001  &  6.000 & 12.500 &       12.000 &         5.000 &    9.500 &             Sight \\\\\n",
      "001C &  2.000 &  1.000 &       12.000 &         2.500 &    6.000 &             Blind \\\\\n",
      "003  &  1.500 & 15.000 &       16.500 &        13.500 &    9.000 &             Sight \\\\\n",
      "003C &  4.000 &  3.000 &        3.000 &         5.000 &    1.000 &             Blind \\\\\n",
      "1    & 19.000 &  6.000 &        7.000 &         9.000 &   10.000 &             Sight \\\\\n",
      "\\bottomrule\n",
      "\\end{tabular}\n",
      "\\end{table}\n",
      "\n",
      "\\begin{table}[!htb]\n",
      "\\centering\n",
      "\\caption{Mental demand average grouped by participant and visual impairment.}\n",
      "\\label{tab:md_average_group}\n",
      "\\begin{tabular}{lrrrrr}\n",
      "\\toprule\n",
      "{} &  Base &  Audio &  Haptic Belt &  Virtual Cane &  Mixture \\\\\n",
      "Visual Impairment &       &        &              &               &          \\\\\n",
      "\\midrule\n",
      "Blind             & 3.000 &  1.667 &        5.333 &         5.833 &    4.833 \\\\\n",
      "Sight             & 8.833 & 11.167 &       11.833 &         9.167 &    9.500 \\\\\n",
      "\\bottomrule\n",
      "\\end{tabular}\n",
      "\\end{table}\n",
      "\n"
     ]
    }
   ],
   "source": [
    "if gerar == True:\n",
    "    label = 'tab:md_average'\n",
    "    caption = 'Mental demand average by participant and method.'\n",
    "\n",
    "    tabela_latex(mdNasa_media_cen_par_2,label,caption,'Nasa-TLX')\n",
    "\n",
    "    tabela = 0\n",
    "    label = 0\n",
    "    caption = 0\n",
    "\n",
    "    mdNasa_media_cen_def_2 = mdNasa_media_cen_par_2.groupby(by = 'Visual Impairment').mean()\n",
    "\n",
    "    label = 'tab:md_average_group'\n",
    "    caption = 'Mental demand average grouped by participant and visual impairment.'\n",
    "\n",
    "    tabela_latex(mdNasa_media_cen_def_2,label,caption,'Nasa-TLX')\n",
    "\n",
    "    tabela = 0\n",
    "    label = 0\n",
    "    caption = 0"
   ]
  },
  {
   "cell_type": "markdown",
   "metadata": {},
   "source": [
    "#### Carga Mental"
   ]
  },
  {
   "cell_type": "code",
   "execution_count": null,
   "metadata": {},
   "outputs": [
    {
     "name": "stdout",
     "output_type": "stream",
     "text": [
      "\\begin{table}[!htb]\n",
      "\\centering\n",
      "\\caption{NASA-TLX score grouped by participant and method.}\n",
      "\\label{tab:nasa_average}\n",
      "\\begin{tabular}{lrrrrrl}\n",
      "\\toprule\n",
      "{} &   Base &  Audio &  Haptic Belt &  Virtual Cane &  Mixture & Visual Impairment \\\\\n",
      "\\midrule\n",
      "002C &  5.417 &  4.833 &        4.833 &         8.000 &    6.083 &             Blind \\\\\n",
      "001  &  7.917 & 10.583 &       10.333 &         6.583 &    9.167 &             Sight \\\\\n",
      "001C &  4.500 &  4.000 &        7.750 &         4.833 &    6.250 &             Blind \\\\\n",
      "003  &  4.583 &  8.250 &        9.917 &         8.667 &    5.667 &             Sight \\\\\n",
      "003C &  4.000 &  3.917 &        4.500 &         5.083 &    3.500 &             Blind \\\\\n",
      "1    & 13.667 &  9.667 &       12.833 &         9.500 &   12.833 &             Sight \\\\\n",
      "\\bottomrule\n",
      "\\end{tabular}\n",
      "\\end{table}\n",
      "\n",
      "\\begin{table}[!htb]\n",
      "\\centering\n",
      "\\caption{Mental demand average grouped by participant and visual impairment.}\n",
      "\\label{tab:md_average_group}\n",
      "\\begin{tabular}{lrrrrr}\n",
      "\\toprule\n",
      "{} &  Base &  Audio &  Haptic Belt &  Virtual Cane &  Mixture \\\\\n",
      "Visual Impairment &       &        &              &               &          \\\\\n",
      "\\midrule\n",
      "Blind             & 4.639 &  4.250 &        5.694 &         5.972 &    5.278 \\\\\n",
      "Sight             & 8.722 &  9.500 &       11.028 &         8.250 &    9.222 \\\\\n",
      "\\bottomrule\n",
      "\\end{tabular}\n",
      "\\end{table}\n",
      "\n"
     ]
    }
   ],
   "source": [
    "if gerar == True:\n",
    "    label = 'tab:nasa_average'\n",
    "    caption = 'NASA-TLX score grouped by participant and method.'\n",
    "\n",
    "    tabela_latex(cmNasa_media_cen_par_2,label,caption,'Nasa-TLX')\n",
    "\n",
    "    tabela = 0\n",
    "    label = 0\n",
    "    caption = 0\n",
    "\n",
    "    cmNasa_media_cen_def_2 = cmNasa_media_cen_par_2.groupby(by = 'Visual Impairment').mean()\n",
    "\n",
    "    label = 'tab:md_average_group'\n",
    "    caption = 'Mental demand average grouped by participant and visual impairment.'\n",
    "\n",
    "    tabela_latex(cmNasa_media_cen_def_2,label,caption,'Nasa-TLX')\n",
    "\n",
    "    tabela = 0\n",
    "    label = 0\n",
    "    caption = 0"
   ]
  },
  {
   "cell_type": "markdown",
   "metadata": {},
   "source": [
    "#### Sagat"
   ]
  },
  {
   "cell_type": "code",
   "execution_count": null,
   "metadata": {},
   "outputs": [
    {
     "name": "stdout",
     "output_type": "stream",
     "text": [
      "\\begin{table}[!htb]\n",
      "\\centering\n",
      "\\caption{Adapted Sagat average global score grouped by participant and guidance method.}\n",
      "\\label{tab:sagat_average}\n",
      "\\begin{tabular}{lrrrrrl}\n",
      "\\toprule\n",
      "{} &  Base &  Audio &  Haptic Belt &  Virtual Cane &  Mixture & Visual Impairment \\\\\n",
      "\\midrule\n",
      "002C & 0.600 &  0.475 &        0.400 &         0.550 &    0.738 &             Blind \\\\\n",
      "001  & 1.000 &  0.525 &        0.467 &         0.383 &    0.550 &             Sight \\\\\n",
      "001C & 0.625 &  0.600 &        0.692 &         0.567 &    0.450 &             Blind \\\\\n",
      "003  & 1.000 &  0.637 &        0.662 &         0.512 &    0.713 &             Sight \\\\\n",
      "003C & 0.863 &  0.875 &        0.799 &         0.683 &    0.900 &             Blind \\\\\n",
      "1    & 0.370 &  0.540 &        0.560 &         0.430 &    0.470 &             Sight \\\\\n",
      "\\bottomrule\n",
      "\\end{tabular}\n",
      "\\end{table}\n",
      "\n",
      "\\begin{table}[!htb]\n",
      "\\centering\n",
      "\\caption{Adapted Sagat average global score grouped by participant and visual impairment.}\n",
      "\\label{tab:sagat_average_group}\n",
      "\\begin{tabular}{lrrrrr}\n",
      "\\toprule\n",
      "{} &  Base &  Audio &  Haptic Belt &  Virtual Cane &  Mixture \\\\\n",
      "Visual Impairment &       &        &              &               &          \\\\\n",
      "\\midrule\n",
      "Blind             & 0.696 &  0.650 &        0.630 &         0.600 &    0.696 \\\\\n",
      "Sight             & 0.790 &  0.568 &        0.563 &         0.442 &    0.578 \\\\\n",
      "\\bottomrule\n",
      "\\end{tabular}\n",
      "\\end{table}\n",
      "\n"
     ]
    }
   ],
   "source": [
    "if gerar == True:\n",
    "    label = 'tab:sagat_average'\n",
    "    caption = 'Adapted Sagat average global score grouped by participant and guidance method.'\n",
    "\n",
    "    tabela_latex(saSagat_media_cen_par_2,label,caption,'SAGAT')\n",
    "\n",
    "    tabela = 0\n",
    "    label = 0\n",
    "    caption = 0\n",
    "\n",
    "    saSagat_media_cen_def_2 = saSagat_media_cen_par_2.groupby(by = 'Visual Impairment').mean()\n",
    "\n",
    "    label = 'tab:sagat_average_group'\n",
    "    caption = 'Adapted Sagat average global score grouped by participant and visual impairment.'\n",
    "\n",
    "    tabela_latex(saSagat_media_cen_def_2,label,caption,'SAGAT')\n",
    "\n",
    "    tabela = 0\n",
    "    label = 0\n",
    "    caption = 0"
   ]
  },
  {
   "cell_type": "markdown",
   "metadata": {},
   "source": [
    "#### Questionario"
   ]
  },
  {
   "cell_type": "code",
   "execution_count": null,
   "metadata": {},
   "outputs": [
    {
     "name": "stdout",
     "output_type": "stream",
     "text": [
      "\\begin{table}[!htb]\n",
      "\\centering\n",
      "\\caption{Guidance method questionnaire average global score grouped by participant.}\n",
      "\\label{tab:questionnaire_average}\n",
      "\\begin{tabular}{lrrrrl}\n",
      "\\toprule\n",
      "{} &  Audio &  Haptic Belt &  Virtual Cane &  Mixture & Visual Impairment \\\\\n",
      "\\midrule\n",
      "002C &  0.857 &        0.914 &         0.486 &    0.720 &             Blind \\\\\n",
      "001  &  0.464 &        0.600 &         0.500 &    0.557 &             Sight \\\\\n",
      "001C &  0.631 &        0.714 &         0.457 &    0.849 &             Blind \\\\\n",
      "003  &  0.667 &        0.714 &         0.679 &    0.866 &             Sight \\\\\n",
      "003C &  0.595 &        0.743 &         0.543 &    0.730 &             Blind \\\\\n",
      "1    &  0.371 &        0.267 &         0.571 &    0.320 &             Sight \\\\\n",
      "\\bottomrule\n",
      "\\end{tabular}\n",
      "\\end{table}\n",
      "\n",
      "\\begin{table}[!htb]\n",
      "\\centering\n",
      "\\caption{Guidance method questionnaire average global score grouped by visual impairment.}\n",
      "\\label{tab:questionnaire_average_group}\n",
      "\\begin{tabular}{lrrrr}\n",
      "\\toprule\n",
      "{} &  Audio &  Haptic Belt &  Virtual Cane &  Mixture \\\\\n",
      "Visual Impairment &        &              &               &          \\\\\n",
      "\\midrule\n",
      "Blind             &  0.694 &        0.790 &         0.495 &    0.766 \\\\\n",
      "Sight             &  0.565 &        0.657 &         0.589 &    0.711 \\\\\n",
      "\\bottomrule\n",
      "\\end{tabular}\n",
      "\\end{table}\n",
      "\n"
     ]
    }
   ],
   "source": [
    "if gerar == True:\n",
    "    label = 'tab:questionnaire_average'\n",
    "    caption = 'Guidance method questionnaire average global score grouped by participant.'\n",
    "\n",
    "    tabela_latex(pgQuestionario_media_2,label,caption,'Questionario')\n",
    "\n",
    "    tabela = 0\n",
    "    label = 0\n",
    "    caption = 0\n",
    "\n",
    "    pgQuestionario_media_def_2 = pgQuestionario_media_2.groupby(by = 'Visual Impairment').mean()\n",
    "\n",
    "    label = 'tab:questionnaire_average_group'\n",
    "    caption = 'Guidance method questionnaire average global score grouped by visual impairment.'\n",
    "\n",
    "    tabela_latex(pgQuestionario_media_def,label,caption,'Questionario')\n",
    "\n",
    "    tabela = 0\n",
    "    label = 0\n",
    "    caption = 0"
   ]
  },
  {
   "cell_type": "markdown",
   "metadata": {},
   "source": [
    "## Teste Shapiro-Wilkins"
   ]
  },
  {
   "cell_type": "markdown",
   "metadata": {},
   "source": [
    "### Demanda mental"
   ]
  },
  {
   "cell_type": "code",
   "execution_count": null,
   "metadata": {},
   "outputs": [
    {
     "name": "stdout",
     "output_type": "stream",
     "text": [
      "\\begin{table}[!htb]\n",
      "\\centering\n",
      "\\caption{Shapiro test p-value for the mental demand for each method and visual impairment.}\n",
      "\\label{tab:shapiro_mental_demand}\n",
      "\\begin{tabular}{lr}\n",
      "\\toprule\n",
      "                    Method &  Shapiro P-Value \\\\\n",
      "\\midrule\n",
      "        Base blinded users &            1.000 \\\\\n",
      "        Base sighted users &            0.478 \\\\\n",
      "       Audio blinded users &           -0.000 \\\\\n",
      "       Audio sighted users &            0.520 \\\\\n",
      " Haptic Belt blinded users &            0.328 \\\\\n",
      " Haptic Belt sighted users &            0.942 \\\\\n",
      "Virtual Cane blinded users &            0.637 \\\\\n",
      "Virtual Cane sighted users &            0.935 \\\\\n",
      "     Mixture blinded users &            0.424 \\\\\n",
      "     Mixture sighted users &            1.000 \\\\\n",
      "\\bottomrule\n",
      "\\end{tabular}\n",
      "\\end{table}\n",
      "\n"
     ]
    }
   ],
   "source": [
    "if gerar == True:\n",
    "    blindDM = mdNasa_media_cen_par_2[mdNasa_media_cen_par_2['Visual Impairment'] == 'Blind']\n",
    "    sightDM = mdNasa_media_cen_par_2[mdNasa_media_cen_par_2['Visual Impairment'] == 'Sight']\n",
    "else:\n",
    "    blindDM = mdNasa_media_cen_par[mdNasa_media_cen_par['Visual Impairment'] == 'Blind']\n",
    "    sightDM = mdNasa_media_cen_par[mdNasa_media_cen_par['Visual Impairment'] == 'Sight']\n",
    "\n",
    "mdShapiro = []\n",
    "for m in nomeCenas:\n",
    "    #print('Shapiro ' + s)\n",
    "    _, pBlind = stats.shapiro(blindDM[m])\n",
    "    _, pSight = stats.shapiro(sightDM[m])\n",
    "    #print(p)\n",
    "    dict = [m + ' blinded users', pBlind]\n",
    "    mdShapiro.append(dict)\n",
    "    dict = [m + ' sighted users', pSight]\n",
    "    mdShapiro.append(dict)\n",
    "mdShapiro = pd.DataFrame(mdShapiro,columns = ['Method', 'Shapiro P-Value'])\n",
    "mdShapiro    \n",
    "\n",
    "label = 'tab:shapiro_mental_demand'\n",
    "caption = 'Shapiro test p-value for the mental demand for each method and visual impairment.'\n",
    "tabela_latex_sem_index(mdShapiro,label,caption,'Nasa-TLX')\n",
    "label = 0\n",
    "caption = 0"
   ]
  },
  {
   "cell_type": "markdown",
   "metadata": {},
   "source": [
    "### Carga Mental"
   ]
  },
  {
   "cell_type": "code",
   "execution_count": null,
   "metadata": {},
   "outputs": [
    {
     "name": "stdout",
     "output_type": "stream",
     "text": [
      "\\begin{table}[!htb]\n",
      "\\centering\n",
      "\\caption{Shapiro test p-value for the NASA score for each method and visual impairment.}\n",
      "\\label{tab:shapiro_nasa_score}\n",
      "\\begin{tabular}{lr}\n",
      "\\toprule\n",
      "                    Method &  Shapiro P-Value \\\\\n",
      "\\midrule\n",
      "        Base blinded users &            0.679 \\\\\n",
      "        Base sighted users &            0.709 \\\\\n",
      "       Audio blinded users &            0.157 \\\\\n",
      "       Audio sighted users &            0.765 \\\\\n",
      " Haptic Belt blinded users &            0.178 \\\\\n",
      " Haptic Belt sighted users &            0.253 \\\\\n",
      "Virtual Cane blinded users &            0.136 \\\\\n",
      "Virtual Cane sighted users &            0.537 \\\\\n",
      "     Mixture blinded users &            0.103 \\\\\n",
      "     Mixture sighted users &            0.974 \\\\\n",
      "\\bottomrule\n",
      "\\end{tabular}\n",
      "\\end{table}\n",
      "\n"
     ]
    }
   ],
   "source": [
    "if gerar == True:\n",
    "    blindCM = cmNasa_media_cen_par_2[cmNasa_media_cen_par_2['Visual Impairment'] == 'Blind']\n",
    "    sightCM = cmNasa_media_cen_par_2[cmNasa_media_cen_par_2['Visual Impairment'] == 'Sight']\n",
    "else:\n",
    "    blindCM = cmNasa_media_cen_par[cmNasa_media_cen_par['Visual Impairment'] == 'Blind']\n",
    "    sightCM = cmNasa_media_cen_par[cmNasa_media_cen_par['Visual Impairment'] == 'Sight']\n",
    "\n",
    "mdShapiro = []\n",
    "for m in nomeCenas:\n",
    "    #print('Shapiro ' + s)\n",
    "    _, pBlind = stats.shapiro(blindCM[m])\n",
    "    _, pSight = stats.shapiro(sightCM[m])\n",
    "    #print(p)\n",
    "    dict = [m + ' blinded users', pBlind]\n",
    "    mdShapiro.append(dict)\n",
    "    dict = [m + ' sighted users', pSight]\n",
    "    mdShapiro.append(dict)\n",
    "mdShapiro = pd.DataFrame(mdShapiro,columns = ['Method', 'Shapiro P-Value'])\n",
    "mdShapiro    \n",
    "\n",
    "label = 'tab:shapiro_nasa_score'\n",
    "caption = 'Shapiro test p-value for the NASA score for each method and visual impairment.'\n",
    "tabela_latex_sem_index(mdShapiro,label,caption,'Nasa-TLX')\n",
    "label = 0\n",
    "caption = 0"
   ]
  },
  {
   "cell_type": "markdown",
   "metadata": {},
   "source": [
    "### SAGAT"
   ]
  },
  {
   "cell_type": "code",
   "execution_count": null,
   "metadata": {},
   "outputs": [
    {
     "name": "stdout",
     "output_type": "stream",
     "text": [
      "\\begin{table}[!htb]\n",
      "\\centering\n",
      "\\caption{Shapiro test p-value for the Sagat score for each method and visual impairment.}\n",
      "\\label{tab:shapiro_sagat_score}\n",
      "\\begin{tabular}{lr}\n",
      "\\toprule\n",
      "                    Method &  Shapiro P-Value \\\\\n",
      "\\midrule\n",
      "        Base blinded users &            0.165 \\\\\n",
      "        Base sighted users &           -0.000 \\\\\n",
      "       Audio blinded users &            0.593 \\\\\n",
      "       Audio sighted users &            0.235 \\\\\n",
      " Haptic Belt blinded users &            0.504 \\\\\n",
      " Haptic Belt sighted users &            0.952 \\\\\n",
      "Virtual Cane blinded users &            0.218 \\\\\n",
      "Virtual Cane sighted users &            0.703 \\\\\n",
      "     Mixture blinded users &            0.696 \\\\\n",
      "     Mixture sighted users &            0.630 \\\\\n",
      "\\bottomrule\n",
      "\\end{tabular}\n",
      "\\end{table}\n",
      "\n"
     ]
    }
   ],
   "source": [
    "if gerar == True:\n",
    "    blindSA = saSagat_media_cen_par_2[saSagat_media_cen_par_2['Visual Impairment'] == 'Blind']\n",
    "    sightSA = saSagat_media_cen_par_2[saSagat_media_cen_par_2['Visual Impairment'] == 'Sight']\n",
    "else:\n",
    "    blindSA = saSagat_media_cen_par[saSagat_media_cen_par['Visual Impairment'] == 'Blind']\n",
    "    sightSA = saSagat_media_cen_par[saSagat_media_cen_par['Visual Impairment'] == 'Sight']\n",
    "\n",
    "mdShapiro = []\n",
    "for m in nomeCenas:\n",
    "    #print('Shapiro ' + s)\n",
    "    _, pBlind = stats.shapiro(blindSA[m])\n",
    "    _, pSight = stats.shapiro(sightSA[m])\n",
    "    #print(p)\n",
    "    dict = [m + ' blinded users', pBlind]\n",
    "    mdShapiro.append(dict)\n",
    "    dict = [m + ' sighted users', pSight]\n",
    "    mdShapiro.append(dict)\n",
    "mdShapiro = pd.DataFrame(mdShapiro,columns = ['Method', 'Shapiro P-Value'])\n",
    "mdShapiro    \n",
    "\n",
    "label = 'tab:shapiro_sagat_score'\n",
    "caption = 'Shapiro test p-value for the Sagat score for each method and visual impairment.'\n",
    "tabela_latex_sem_index(mdShapiro,label,caption,'SAGAT')\n",
    "label = 0\n",
    "caption = 0"
   ]
  },
  {
   "cell_type": "markdown",
   "metadata": {},
   "source": [
    "### Questionario"
   ]
  },
  {
   "cell_type": "code",
   "execution_count": null,
   "metadata": {},
   "outputs": [
    {
     "name": "stdout",
     "output_type": "stream",
     "text": [
      "\\begin{table}[!htb]\n",
      "\\centering\n",
      "\\caption{Shapiro test p-value for the questionnaires score for each method and visual impairment.}\n",
      "\\label{tab:shapiro_questionnaires}\n",
      "\\begin{tabular}{lr}\n",
      "\\toprule\n",
      "                    Method &  Shapiro P-Value \\\\\n",
      "\\midrule\n",
      "       Audio blinded users &            0.241 \\\\\n",
      "       Audio sighted users &            0.597 \\\\\n",
      " Haptic Belt blinded users &            0.253 \\\\\n",
      " Haptic Belt sighted users &            0.474 \\\\\n",
      "Virtual Cane blinded users &            0.637 \\\\\n",
      "Virtual Cane sighted users &            0.780 \\\\\n",
      "     Mixture blinded users &            0.133 \\\\\n",
      "     Mixture sighted users &            0.854 \\\\\n",
      "\\bottomrule\n",
      "\\end{tabular}\n",
      "\\end{table}\n",
      "\n"
     ]
    }
   ],
   "source": [
    "if gerar == True:\n",
    "    blindQ = pgQuestionario_media_2[pgQuestionario_media_2['Visual Impairment'] == 'Blind']\n",
    "    sightQ = pgQuestionario_media_2[pgQuestionario_media_2['Visual Impairment'] == 'Sight']\n",
    "else:\n",
    "    blindQ = pgQuestionario_media[pgQuestionario_media['Visual Impairment'] == 'Blind']\n",
    "    sightQ = pgQuestionario_media[pgQuestionario_media['Visual Impairment'] == 'Sight']\n",
    "\n",
    "mdShapiro = []\n",
    "for m in nomeCenas[1:]:\n",
    "    #print('Shapiro ' + s)\n",
    "    _, pBlind = stats.shapiro(blindQ[m])\n",
    "    _, pSight = stats.shapiro(sightQ[m])\n",
    "    #print(p)\n",
    "    dict = [m + ' blinded users', pBlind]\n",
    "    mdShapiro.append(dict)\n",
    "    dict = [m + ' sighted users', pSight]\n",
    "    mdShapiro.append(dict)\n",
    "mdShapiro = pd.DataFrame(mdShapiro,columns = ['Method', 'Shapiro P-Value'])\n",
    "mdShapiro    \n",
    "\n",
    "label = 'tab:shapiro_questionnaires'\n",
    "caption = 'Shapiro test p-value for the questionnaires score for each method and visual impairment.'\n",
    "tabela_latex_sem_index(mdShapiro,label,caption,'Questionario')\n",
    "label = 0\n",
    "caption = 0"
   ]
  },
  {
   "cell_type": "markdown",
   "metadata": {},
   "source": [
    "## Teste T para comparar as médias entre cegos e videntes"
   ]
  },
  {
   "cell_type": "markdown",
   "metadata": {},
   "source": [
    "### Demanda Mental"
   ]
  },
  {
   "cell_type": "code",
   "execution_count": null,
   "metadata": {},
   "outputs": [
    {
     "name": "stdout",
     "output_type": "stream",
     "text": [
      "\\begin{table}[!htb]\n",
      "\\centering\n",
      "\\caption{T test p-value for the mental demand on each method for blinded users versus sighted users.}\n",
      "\\label{tab:ttest_mental_demand}\n",
      "\\begin{tabular}{lr}\n",
      "\\toprule\n",
      "      Method &  T-Test P-Value \\\\\n",
      "\\midrule\n",
      "        Base &           0.331 \\\\\n",
      "       Audio &           0.026 \\\\\n",
      " Haptic Belt &           0.210 \\\\\n",
      "Virtual Cane &           0.370 \\\\\n",
      "     Mixture &           0.079 \\\\\n",
      "\\bottomrule\n",
      "\\end{tabular}\n",
      "\\end{table}\n",
      "\n"
     ]
    }
   ],
   "source": [
    "tTest = []\n",
    "for m in nomeCenas:\n",
    "    #print('Teste T ' + m)\n",
    "    _, p =stats.ttest_ind(blindDM[m],sightDM[m])\n",
    "    #print(p)\n",
    "    dict = [m, p]\n",
    "    tTest.append(dict)\n",
    "tTest = pd.DataFrame(tTest,columns = ['Method', 'T-Test P-Value'])\n",
    "\n",
    "label = 'tab:ttest_mental_demand'\n",
    "caption = 'T test p-value for the mental demand on each method for blinded users versus sighted users.'\n",
    "tabela_latex_sem_index(tTest,label,caption,'Nasa-TLX')\n",
    "label = 0\n",
    "caption = 0"
   ]
  },
  {
   "cell_type": "markdown",
   "metadata": {},
   "source": [
    "### Carga Mental"
   ]
  },
  {
   "cell_type": "code",
   "execution_count": null,
   "metadata": {},
   "outputs": [
    {
     "name": "stdout",
     "output_type": "stream",
     "text": [
      "\\begin{table}[!htb]\n",
      "\\centering\n",
      "\\caption{T test p-value for the NASA score on each method for blinded users versus sighted users.}\n",
      "\\label{tab:ttest_nasa_score}\n",
      "\\begin{tabular}{lr}\n",
      "\\toprule\n",
      "      Method &  T-Test P-Value \\\\\n",
      "\\midrule\n",
      "        Base &           0.203 \\\\\n",
      "       Audio &           0.002 \\\\\n",
      " Haptic Belt &           0.018 \\\\\n",
      "Virtual Cane &           0.163 \\\\\n",
      "     Mixture &           0.155 \\\\\n",
      "\\bottomrule\n",
      "\\end{tabular}\n",
      "\\end{table}\n",
      "\n"
     ]
    }
   ],
   "source": [
    "tTest = []\n",
    "for m in nomeCenas:\n",
    "    #print('Teste T ' + m)\n",
    "    _, p =stats.ttest_ind(blindCM[m],sightCM[m])\n",
    "    #print(p)\n",
    "    dict = [m, p]\n",
    "    tTest.append(dict)\n",
    "tTest = pd.DataFrame(tTest,columns = ['Method', 'T-Test P-Value'])\n",
    "\n",
    "label = 'tab:ttest_nasa_score'\n",
    "caption = 'T test p-value for the NASA score on each method for blinded users versus sighted users.'\n",
    "tabela_latex_sem_index(tTest,label,caption,'Nasa-TLX')\n",
    "label = 0\n",
    "caption = 0"
   ]
  },
  {
   "cell_type": "markdown",
   "metadata": {},
   "source": [
    "###"
   ]
  },
  {
   "cell_type": "markdown",
   "metadata": {},
   "source": [
    "### SAGAT"
   ]
  },
  {
   "cell_type": "code",
   "execution_count": null,
   "metadata": {},
   "outputs": [
    {
     "name": "stdout",
     "output_type": "stream",
     "text": [
      "\\begin{table}[!htb]\n",
      "\\centering\n",
      "\\caption{T test p-value for the Sagat score on each method for blinded users versus sighted users.}\n",
      "\\label{tab:ttest_sagat_score}\n",
      "\\begin{tabular}{lr}\n",
      "\\toprule\n",
      "      Method &  T-Test P-Value \\\\\n",
      "\\midrule\n",
      "        Base &           0.698 \\\\\n",
      "       Audio &           0.540 \\\\\n",
      " Haptic Belt &           0.637 \\\\\n",
      "Virtual Cane &           0.048 \\\\\n",
      "     Mixture &           0.473 \\\\\n",
      "\\bottomrule\n",
      "\\end{tabular}\n",
      "\\end{table}\n",
      "\n"
     ]
    }
   ],
   "source": [
    "tTest = []\n",
    "for m in nomeCenas:\n",
    "    #print('Teste T ' + m)\n",
    "    _, p =stats.ttest_ind(blindSA[m],sightSA[m])\n",
    "    #print(p)\n",
    "    dict = [m, p]\n",
    "    tTest.append(dict)\n",
    "tTest = pd.DataFrame(tTest,columns = ['Method', 'T-Test P-Value'])\n",
    "\n",
    "label = 'tab:ttest_sagat_score'\n",
    "caption = 'T test p-value for the Sagat score on each method for blinded users versus sighted users.'\n",
    "tabela_latex_sem_index(tTest,label,caption,'Sagat')\n",
    "label = 0\n",
    "caption = 0"
   ]
  },
  {
   "cell_type": "markdown",
   "metadata": {},
   "source": [
    "### Questionario"
   ]
  },
  {
   "cell_type": "code",
   "execution_count": null,
   "metadata": {},
   "outputs": [
    {
     "name": "stdout",
     "output_type": "stream",
     "text": [
      "\\begin{table}[!htb]\n",
      "\\centering\n",
      "\\caption{T test p-value for the questionnaire score on each method for blinded users versus sighted users.}\n",
      "\\label{tab:ttest_questionnaires}\n",
      "\\begin{tabular}{lr}\n",
      "\\toprule\n",
      "      Method &  T-Test P-Value \\\\\n",
      "\\midrule\n",
      "       Audio &           0.181 \\\\\n",
      " Haptic Belt &           0.150 \\\\\n",
      "Virtual Cane &           0.201 \\\\\n",
      "     Mixture &           0.320 \\\\\n",
      "\\bottomrule\n",
      "\\end{tabular}\n",
      "\\end{table}\n",
      "\n"
     ]
    }
   ],
   "source": [
    "tTest = []\n",
    "for m in nomeCenas[1:]:\n",
    "    #print('Teste T ' + m)\n",
    "    _, p =stats.ttest_ind(blindQ[m],sightQ[m])\n",
    "    #print(p)\n",
    "    dict = [m, p]\n",
    "    tTest.append(dict)\n",
    "tTest = pd.DataFrame(tTest,columns = ['Method', 'T-Test P-Value'])\n",
    "\n",
    "label = 'tab:ttest_questionnaires'\n",
    "caption = 'T test p-value for the questionnaire score on each method for blinded users versus sighted users.'\n",
    "tabela_latex_sem_index(tTest,label,caption,'Questionario')\n",
    "label = 0\n",
    "caption = 0"
   ]
  },
  {
   "cell_type": "markdown",
   "metadata": {},
   "source": [
    "## Teste Anova para comparar as médias dos métodos dos cegos"
   ]
  },
  {
   "cell_type": "markdown",
   "metadata": {},
   "source": [
    "### Demanda Mental"
   ]
  },
  {
   "cell_type": "code",
   "execution_count": null,
   "metadata": {},
   "outputs": [
    {
     "name": "stderr",
     "output_type": "stream",
     "text": [
      "No handles with labels found to put in legend.\n"
     ]
    },
    {
     "data": {
      "image/png": "[encoded data removed]",
      "text/plain": [
       "<Figure size 432x288 with 1 Axes>"
      ]
     },
     "metadata": {
      "needs_background": "light"
     },
     "output_type": "display_data"
    },
    {
     "name": "stdout",
     "output_type": "stream",
     "text": [
      "             Fonte  Soma dos quadrados  Graus de liberdade Média quadrada         F p-Value (F_0 > F)\n",
      "     Entre fatores           36.566667                   4       9.141667  0.727454          0.593148\n",
      "Dentro dos fatores          125.666667                  10      12.566667                            \n",
      "             Total          162.233333                  14                                           \n",
      "-----------------------\n",
      "-----------------------\n",
      "\\begin{table}[!htb]\n",
      "\\centering\n",
      "\\caption{Anova p-value for the mental demand on each method for blinded users.}\n",
      "\\label{tab:anova_mental_demand}\n",
      "\\begin{tabular}{lrrlll}\n",
      "\\toprule\n",
      "             Fonte &  Soma dos quadrados &  Graus de liberdade & Média quadrada &     F & p-Value (F\\_0 > F) \\\\\n",
      "\\midrule\n",
      "     Entre fatores &              36.567 &                   4 &          9.142 & 0.727 &             0.593 \\\\\n",
      "Dentro dos fatores &             125.667 &                  10 &         12.567 &       &                   \\\\\n",
      "             Total &             162.233 &                  14 &                &       &                   \\\\\n",
      "\\bottomrule\n",
      "\\end{tabular}\n",
      "\\end{table}\n",
      "\n",
      "Se a diferença entre alguma média for superior a 2.62 então a hipótese alternativa pode ser valida para essa determinada comparação\n",
      "                     Comparação                                 Resultado\n",
      "              Base versus Audio               H_0 : \\mu_Base == \\mu_Audio\n",
      "        Base versus Haptic Belt         H_0 : \\mu_Base == \\mu_Haptic Belt\n",
      "       Base versus Virtual Cane    **H_1 : \\mu_Base != \\mu_Virtual Cane**\n",
      "            Base versus Mixture             H_0 : \\mu_Base == \\mu_Mixture\n",
      "       Audio versus Haptic Belt    **H_1 : \\mu_Audio != \\mu_Haptic Belt**\n",
      "      Audio versus Virtual Cane   **H_1 : \\mu_Audio != \\mu_Virtual Cane**\n",
      "           Audio versus Mixture        **H_1 : \\mu_Audio != \\mu_Mixture**\n",
      "Haptic Belt versus Virtual Cane H_0 : \\mu_Haptic Belt == \\mu_Virtual Cane\n",
      "     Haptic Belt versus Mixture      H_0 : \\mu_Haptic Belt == \\mu_Mixture\n",
      "    Virtual Cane versus Mixture     H_0 : \\mu_Virtual Cane == \\mu_Mixture\n",
      "-----------------------\n",
      "-----------------------\n",
      "\\begin{table}[!htb]\n",
      "\\centering\n",
      "\\caption{Cross validation p-value for the mental demand on each method for blinded users.}\n",
      "\\label{tab:lsd_mental_demand}\n",
      "\\begin{tabular}{ll}\n",
      "\\toprule\n",
      "                     Comparação &                                 Resultado \\\\\n",
      "\\midrule\n",
      "              Base versus Audio &               H\\_0 : \\textbackslash mu\\_Base == \\textbackslash mu\\_Audio \\\\\n",
      "        Base versus Haptic Belt &         H\\_0 : \\textbackslash mu\\_Base == \\textbackslash mu\\_Haptic Belt \\\\\n",
      "       Base versus Virtual Cane &    **H\\_1 : \\textbackslash mu\\_Base != \\textbackslash mu\\_Virtual Cane** \\\\\n",
      "            Base versus Mixture &             H\\_0 : \\textbackslash mu\\_Base == \\textbackslash mu\\_Mixture \\\\\n",
      "       Audio versus Haptic Belt &    **H\\_1 : \\textbackslash mu\\_Audio != \\textbackslash mu\\_Haptic Belt** \\\\\n",
      "      Audio versus Virtual Cane &   **H\\_1 : \\textbackslash mu\\_Audio != \\textbackslash mu\\_Virtual Cane** \\\\\n",
      "           Audio versus Mixture &        **H\\_1 : \\textbackslash mu\\_Audio != \\textbackslash mu\\_Mixture** \\\\\n",
      "Haptic Belt versus Virtual Cane & H\\_0 : \\textbackslash mu\\_Haptic Belt == \\textbackslash mu\\_Virtual Cane \\\\\n",
      "     Haptic Belt versus Mixture &      H\\_0 : \\textbackslash mu\\_Haptic Belt == \\textbackslash mu\\_Mixture \\\\\n",
      "    Virtual Cane versus Mixture &     H\\_0 : \\textbackslash mu\\_Virtual Cane == \\textbackslash mu\\_Mixture \\\\\n",
      "\\bottomrule\n",
      "\\end{tabular}\n",
      "\\end{table}\n",
      "\n"
     ]
    }
   ],
   "source": [
    "if gerar == True:\n",
    "    anova = mdNasa_media_cen_par_2[mdNasa_media_cen_par_2['Visual Impairment'] == 'Blind'].drop('Visual Impairment', axis = 1)\n",
    "else:\n",
    "    anova = mdNasa_media_cen_par[mdNasa_media_cen_par['Visual Impairment'] == 'Blind'].drop('Visual Impairment', axis = 1)\n",
    "\n",
    "mediaGeral = np.average(anova)\n",
    "\n",
    "res_amostras = pd.DataFrame([], columns=anova.columns)\n",
    "for a in anova.columns:\n",
    "    res_amostras_a = []\n",
    "    for n_ij in anova[a]:\n",
    "        res_amostras_a.append(n_ij - mediaGeral)\n",
    "    res_amostras[a] = res_amostras_a\n",
    "    #fig = sm.qqplot(res_amostras[a], fit = True, line = 'r')\n",
    "    #plt.show()\n",
    "    sns.residplot(y=a, x=res_amostras.index, data = res_amostras)\n",
    "plt.legend(bbox_to_anchor=(1, 1.26), loc='upper right', borderaxespad=0)\n",
    "plt.ylabel('Residuals')\n",
    "#plt.savefig('Nasa-TLX/Figuras/boxplot_md.png',bbox_inches='tight')\n",
    "plt.show()\n",
    "\n",
    "\n",
    "df_summary = AnovaTable(anova)\n",
    "label = 'tab:anova_mental_demand'\n",
    "caption = 'Anova p-value for the mental demand on each method for blinded users.'\n",
    "tabela_latex_sem_index(df_summary,label,caption,'Nasa-TLX')\n",
    "label = 0\n",
    "caption = 0\n",
    "\n",
    "lsd = LSDPostHocAnova(anova)\n",
    "label = 'tab:lsd_mental_demand'\n",
    "caption = 'Cross validation p-value for the mental demand on each method for blinded users.'\n",
    "tabela_latex_sem_index(lsd,label,caption,'Nasa-TLX')\n",
    "label = 0\n",
    "caption = 0\n",
    "\n",
    "#dun_0 = \n",
    "#DunnettPostHocAnova(anova,dun_0,anova['Base'])"
   ]
  },
  {
   "cell_type": "markdown",
   "metadata": {},
   "source": [
    "### Carga Mental"
   ]
  },
  {
   "cell_type": "code",
   "execution_count": null,
   "metadata": {},
   "outputs": [
    {
     "name": "stderr",
     "output_type": "stream",
     "text": [
      "No handles with labels found to put in legend.\n"
     ]
    },
    {
     "data": {
      "image/png": "[encoded data removed]",
      "text/plain": [
       "<Figure size 432x288 with 1 Axes>"
      ]
     },
     "metadata": {
      "needs_background": "light"
     },
     "output_type": "display_data"
    },
    {
     "name": "stdout",
     "output_type": "stream",
     "text": [
      "             Fonte  Soma dos quadrados  Graus de liberdade Média quadrada         F p-Value (F_0 > F)\n",
      "     Entre fatores            6.175926                   4       1.543981  0.817202          0.542611\n",
      "Dentro dos fatores           18.893519                  10       1.889352                            \n",
      "             Total           25.069444                  14                                           \n",
      "-----------------------\n",
      "-----------------------\n",
      "\\begin{table}[!htb]\n",
      "\\centering\n",
      "\\caption{Anova p-value for the Nasa score on each method for blinded users.}\n",
      "\\label{tab:anova_nasa}\n",
      "\\begin{tabular}{rrrrr}\n",
      "\\toprule\n",
      " Base &  Audio &  Haptic Belt &  Virtual Cane &  Mixture \\\\\n",
      "\\midrule\n",
      "5.417 &  4.833 &        4.833 &         8.000 &    6.083 \\\\\n",
      "4.500 &  4.000 &        7.750 &         4.833 &    6.250 \\\\\n",
      "4.000 &  3.917 &        4.500 &         5.083 &    3.500 \\\\\n",
      "\\bottomrule\n",
      "\\end{tabular}\n",
      "\\end{table}\n",
      "\n",
      "Se a diferença entre alguma média for superior a 1.02 então a hipótese alternativa pode ser valida para essa determinada comparação\n",
      "                     Comparação                                 Resultado\n",
      "              Base versus Audio               H_0 : \\mu_Base == \\mu_Audio\n",
      "        Base versus Haptic Belt     **H_1 : \\mu_Base != \\mu_Haptic Belt**\n",
      "       Base versus Virtual Cane    **H_1 : \\mu_Base != \\mu_Virtual Cane**\n",
      "            Base versus Mixture             H_0 : \\mu_Base == \\mu_Mixture\n",
      "       Audio versus Haptic Belt    **H_1 : \\mu_Audio != \\mu_Haptic Belt**\n",
      "      Audio versus Virtual Cane   **H_1 : \\mu_Audio != \\mu_Virtual Cane**\n",
      "           Audio versus Mixture        **H_1 : \\mu_Audio != \\mu_Mixture**\n",
      "Haptic Belt versus Virtual Cane H_0 : \\mu_Haptic Belt == \\mu_Virtual Cane\n",
      "     Haptic Belt versus Mixture      H_0 : \\mu_Haptic Belt == \\mu_Mixture\n",
      "    Virtual Cane versus Mixture     H_0 : \\mu_Virtual Cane == \\mu_Mixture\n",
      "-----------------------\n",
      "-----------------------\n",
      "\\begin{table}[!htb]\n",
      "\\centering\n",
      "\\caption{Cross validation p-value for the Nasa score on each method for blinded users.}\n",
      "\\label{tab:lsd_nasa}\n",
      "\\begin{tabular}{ll}\n",
      "\\toprule\n",
      "                     Comparação &                                 Resultado \\\\\n",
      "\\midrule\n",
      "              Base versus Audio &               H\\_0 : \\textbackslash mu\\_Base == \\textbackslash mu\\_Audio \\\\\n",
      "        Base versus Haptic Belt &     **H\\_1 : \\textbackslash mu\\_Base != \\textbackslash mu\\_Haptic Belt** \\\\\n",
      "       Base versus Virtual Cane &    **H\\_1 : \\textbackslash mu\\_Base != \\textbackslash mu\\_Virtual Cane** \\\\\n",
      "            Base versus Mixture &             H\\_0 : \\textbackslash mu\\_Base == \\textbackslash mu\\_Mixture \\\\\n",
      "       Audio versus Haptic Belt &    **H\\_1 : \\textbackslash mu\\_Audio != \\textbackslash mu\\_Haptic Belt** \\\\\n",
      "      Audio versus Virtual Cane &   **H\\_1 : \\textbackslash mu\\_Audio != \\textbackslash mu\\_Virtual Cane** \\\\\n",
      "           Audio versus Mixture &        **H\\_1 : \\textbackslash mu\\_Audio != \\textbackslash mu\\_Mixture** \\\\\n",
      "Haptic Belt versus Virtual Cane & H\\_0 : \\textbackslash mu\\_Haptic Belt == \\textbackslash mu\\_Virtual Cane \\\\\n",
      "     Haptic Belt versus Mixture &      H\\_0 : \\textbackslash mu\\_Haptic Belt == \\textbackslash mu\\_Mixture \\\\\n",
      "    Virtual Cane versus Mixture &     H\\_0 : \\textbackslash mu\\_Virtual Cane == \\textbackslash mu\\_Mixture \\\\\n",
      "\\bottomrule\n",
      "\\end{tabular}\n",
      "\\end{table}\n",
      "\n"
     ]
    }
   ],
   "source": [
    "if gerar == True:\n",
    "    anova = cmNasa_media_cen_par_2[cmNasa_media_cen_par_2['Visual Impairment'] == 'Blind'].drop('Visual Impairment', axis = 1)\n",
    "else:\n",
    "    anova = cmNasa_media_cen_par[cmNasa_media_cen_par['Visual Impairment'] == 'Blind'].drop('Visual Impairment', axis = 1)\n",
    "\n",
    "mediaGeral = np.average(anova)\n",
    "\n",
    "res_amostras = pd.DataFrame([], columns=anova.columns)\n",
    "for a in anova.columns:\n",
    "    res_amostras_a = []\n",
    "    for n_ij in anova[a]:\n",
    "        res_amostras_a.append(n_ij - mediaGeral)\n",
    "    res_amostras[a] = res_amostras_a\n",
    "    #fig = sm.qqplot(res_amostras[a], fit = True, line = 'r')\n",
    "    #plt.show()\n",
    "    sns.residplot(y=a, x=res_amostras.index, data = res_amostras)\n",
    "plt.legend(bbox_to_anchor=(1, 1.26), loc='upper right', borderaxespad=0)\n",
    "plt.ylabel('Residuals')\n",
    "#plt.savefig('Nasa-TLX/Figuras/boxplot_md.png',bbox_inches='tight')\n",
    "plt.show()\n",
    "\n",
    "\n",
    "df_summary = AnovaTable(anova)\n",
    "label = 'tab:anova_nasa'\n",
    "caption = 'Anova p-value for the Nasa score on each method for blinded users.'\n",
    "tabela_latex_sem_index(anova,label,caption,'Nasa-TLX')\n",
    "label = 0\n",
    "caption = 0\n",
    "\n",
    "lsd = LSDPostHocAnova(anova)\n",
    "label = 'tab:lsd_nasa'\n",
    "caption = 'Cross validation p-value for the Nasa score on each method for blinded users.'\n",
    "tabela_latex_sem_index(lsd,label,caption,'Nasa-TLX')\n",
    "label = 0\n",
    "caption = 0\n",
    "\n",
    "#dun_0 = \n",
    "#DunnettPostHocAnova(anova,dun_0,anova['Base'])"
   ]
  },
  {
   "cell_type": "markdown",
   "metadata": {},
   "source": [
    "### Sagat"
   ]
  },
  {
   "cell_type": "code",
   "execution_count": null,
   "metadata": {},
   "outputs": [
    {
     "name": "stderr",
     "output_type": "stream",
     "text": [
      "No handles with labels found to put in legend.\n"
     ]
    },
    {
     "data": {
      "image/png": "[encoded data removed]",
      "text/plain": [
       "<Figure size 432x288 with 1 Axes>"
      ]
     },
     "metadata": {
      "needs_background": "light"
     },
     "output_type": "display_data"
    },
    {
     "name": "stdout",
     "output_type": "stream",
     "text": [
      "             Fonte  Soma dos quadrados  Graus de liberdade Média quadrada         F p-Value (F_0 > F)\n",
      "     Entre fatores            0.021053                   4       0.005263  0.161577          0.953077\n",
      "Dentro dos fatores            0.325737                  10       0.032574                            \n",
      "             Total            0.346790                  14                                           \n",
      "-----------------------\n",
      "-----------------------\n",
      "\\begin{table}[!htb]\n",
      "\\centering\n",
      "\\caption{Anova p-value for the Sagat score on each method for blinded users.}\n",
      "\\label{tab:anova_sagat}\n",
      "\\begin{tabular}{rrrrr}\n",
      "\\toprule\n",
      " Base &  Audio &  Haptic Belt &  Virtual Cane &  Mixture \\\\\n",
      "\\midrule\n",
      "0.600 &  0.475 &        0.400 &         0.550 &    0.738 \\\\\n",
      "0.625 &  0.600 &        0.692 &         0.567 &    0.450 \\\\\n",
      "0.863 &  0.875 &        0.799 &         0.683 &    0.900 \\\\\n",
      "\\bottomrule\n",
      "\\end{tabular}\n",
      "\\end{table}\n",
      "\n",
      "Se a diferença entre alguma média for superior a 0.13 então a hipótese alternativa pode ser valida para essa determinada comparação\n",
      "                     Comparação                                 Resultado\n",
      "              Base versus Audio               H_0 : \\mu_Base == \\mu_Audio\n",
      "        Base versus Haptic Belt         H_0 : \\mu_Base == \\mu_Haptic Belt\n",
      "       Base versus Virtual Cane        H_0 : \\mu_Base == \\mu_Virtual Cane\n",
      "            Base versus Mixture             H_0 : \\mu_Base == \\mu_Mixture\n",
      "       Audio versus Haptic Belt        H_0 : \\mu_Audio == \\mu_Haptic Belt\n",
      "      Audio versus Virtual Cane       H_0 : \\mu_Audio == \\mu_Virtual Cane\n",
      "           Audio versus Mixture            H_0 : \\mu_Audio == \\mu_Mixture\n",
      "Haptic Belt versus Virtual Cane H_0 : \\mu_Haptic Belt == \\mu_Virtual Cane\n",
      "     Haptic Belt versus Mixture      H_0 : \\mu_Haptic Belt == \\mu_Mixture\n",
      "    Virtual Cane versus Mixture     H_0 : \\mu_Virtual Cane == \\mu_Mixture\n",
      "-----------------------\n",
      "-----------------------\n",
      "\\begin{table}[!htb]\n",
      "\\centering\n",
      "\\caption{Cross validation p-value for the Sagat score on each method for blinded users.}\n",
      "\\label{tab:lsd_sagat}\n",
      "\\begin{tabular}{ll}\n",
      "\\toprule\n",
      "                     Comparação &                                 Resultado \\\\\n",
      "\\midrule\n",
      "              Base versus Audio &               H\\_0 : \\textbackslash mu\\_Base == \\textbackslash mu\\_Audio \\\\\n",
      "        Base versus Haptic Belt &         H\\_0 : \\textbackslash mu\\_Base == \\textbackslash mu\\_Haptic Belt \\\\\n",
      "       Base versus Virtual Cane &        H\\_0 : \\textbackslash mu\\_Base == \\textbackslash mu\\_Virtual Cane \\\\\n",
      "            Base versus Mixture &             H\\_0 : \\textbackslash mu\\_Base == \\textbackslash mu\\_Mixture \\\\\n",
      "       Audio versus Haptic Belt &        H\\_0 : \\textbackslash mu\\_Audio == \\textbackslash mu\\_Haptic Belt \\\\\n",
      "      Audio versus Virtual Cane &       H\\_0 : \\textbackslash mu\\_Audio == \\textbackslash mu\\_Virtual Cane \\\\\n",
      "           Audio versus Mixture &            H\\_0 : \\textbackslash mu\\_Audio == \\textbackslash mu\\_Mixture \\\\\n",
      "Haptic Belt versus Virtual Cane & H\\_0 : \\textbackslash mu\\_Haptic Belt == \\textbackslash mu\\_Virtual Cane \\\\\n",
      "     Haptic Belt versus Mixture &      H\\_0 : \\textbackslash mu\\_Haptic Belt == \\textbackslash mu\\_Mixture \\\\\n",
      "    Virtual Cane versus Mixture &     H\\_0 : \\textbackslash mu\\_Virtual Cane == \\textbackslash mu\\_Mixture \\\\\n",
      "\\bottomrule\n",
      "\\end{tabular}\n",
      "\\end{table}\n",
      "\n"
     ]
    }
   ],
   "source": [
    "if gerar == True:\n",
    "    anova = saSagat_media_cen_par_2[saSagat_media_cen_par_2['Visual Impairment'] == 'Blind'].drop('Visual Impairment', axis = 1)\n",
    "else:\n",
    "    anova = saSagat_media_cen_par[saSagat_media_cen_par['Visual Impairment'] == 'Blind'].drop('Visual Impairment', axis = 1)\n",
    "\n",
    "mediaGeral = np.average(anova)\n",
    "\n",
    "res_amostras = pd.DataFrame([], columns=anova.columns)\n",
    "for a in anova.columns:\n",
    "    res_amostras_a = []\n",
    "    for n_ij in anova[a]:\n",
    "        res_amostras_a.append(n_ij - mediaGeral)\n",
    "    res_amostras[a] = res_amostras_a\n",
    "    #fig = sm.qqplot(res_amostras[a], fit = True, line = 'r')\n",
    "    #plt.show()\n",
    "    sns.residplot(y=a, x=res_amostras.index, data = res_amostras)\n",
    "plt.legend(bbox_to_anchor=(1, 1.26), loc='upper right', borderaxespad=0)\n",
    "plt.ylabel('Residuals')\n",
    "#plt.savefig('Nasa-TLX/Figuras/boxplot_md.png',bbox_inches='tight')\n",
    "plt.show()\n",
    "\n",
    "\n",
    "df_summary = AnovaTable(anova)\n",
    "label = 'tab:anova_sagat'\n",
    "caption = 'Anova p-value for the Sagat score on each method for blinded users.'\n",
    "tabela_latex_sem_index(anova,label,caption,'Sagat')\n",
    "label = 0\n",
    "caption = 0\n",
    "\n",
    "lsd = LSDPostHocAnova(anova)\n",
    "label = 'tab:lsd_sagat'\n",
    "caption = 'Cross validation p-value for the Sagat score on each method for blinded users.'\n",
    "tabela_latex_sem_index(lsd,label,caption,'Sagat')\n",
    "label = 0\n",
    "caption = 0\n",
    "\n",
    "#dun_0 = \n",
    "#DunnettPostHocAnova(anova,dun_0,anova['Base'])"
   ]
  },
  {
   "cell_type": "markdown",
   "metadata": {},
   "source": [
    "### Questionarios"
   ]
  },
  {
   "cell_type": "code",
   "execution_count": null,
   "metadata": {},
   "outputs": [
    {
     "name": "stderr",
     "output_type": "stream",
     "text": [
      "No handles with labels found to put in legend.\n"
     ]
    },
    {
     "data": {
      "image/png": "[encoded data removed]",
      "text/plain": [
       "<Figure size 432x288 with 1 Axes>"
      ]
     },
     "metadata": {
      "needs_background": "light"
     },
     "output_type": "display_data"
    },
    {
     "name": "stdout",
     "output_type": "stream",
     "text": [
      "             Fonte  Soma dos quadrados  Graus de liberdade Média quadrada         F p-Value (F_0 > F)\n",
      "     Entre fatores            0.161507                   3       0.053836  5.537316          0.023616\n",
      "Dentro dos fatores            0.077779                   8       0.009722                            \n",
      "             Total            0.239286                  11                                           \n",
      "-----------------------\n",
      "-----------------------\n",
      "\\begin{table}[!htb]\n",
      "\\centering\n",
      "\\caption{Anova p-value for the questionnaire score on each method for blinded users.}\n",
      "\\label{tab:anova_sagat}\n",
      "\\begin{tabular}{rrrr}\n",
      "\\toprule\n",
      " Audio &  Haptic Belt &  Virtual Cane &  Mixture \\\\\n",
      "\\midrule\n",
      " 0.857 &        0.914 &         0.486 &    0.720 \\\\\n",
      " 0.631 &        0.714 &         0.457 &    0.849 \\\\\n",
      " 0.595 &        0.743 &         0.543 &    0.730 \\\\\n",
      "\\bottomrule\n",
      "\\end{tabular}\n",
      "\\end{table}\n",
      "\n",
      "Se a diferença entre alguma média for superior a 0.07 então a hipótese alternativa pode ser valida para essa determinada comparação\n",
      "                     Comparação                                     Resultado\n",
      "       Audio versus Haptic Belt        **H_1 : \\mu_Audio != \\mu_Haptic Belt**\n",
      "      Audio versus Virtual Cane       **H_1 : \\mu_Audio != \\mu_Virtual Cane**\n",
      "           Audio versus Mixture                H_0 : \\mu_Audio == \\mu_Mixture\n",
      "Haptic Belt versus Virtual Cane **H_1 : \\mu_Haptic Belt != \\mu_Virtual Cane**\n",
      "     Haptic Belt versus Mixture          H_0 : \\mu_Haptic Belt == \\mu_Mixture\n",
      "    Virtual Cane versus Mixture     **H_1 : \\mu_Virtual Cane != \\mu_Mixture**\n",
      "-----------------------\n",
      "-----------------------\n",
      "\\begin{table}[!htb]\n",
      "\\centering\n",
      "\\caption{Cross validation p-value for the questionnaire score on each method for blinded users.}\n",
      "\\label{tab:lsd_sagat}\n",
      "\\begin{tabular}{ll}\n",
      "\\toprule\n",
      "                     Comparação &                                     Resultado \\\\\n",
      "\\midrule\n",
      "       Audio versus Haptic Belt &        **H\\_1 : \\textbackslash mu\\_Audio != \\textbackslash mu\\_Haptic Belt** \\\\\n",
      "      Audio versus Virtual Cane &       **H\\_1 : \\textbackslash mu\\_Audio != \\textbackslash mu\\_Virtual Cane** \\\\\n",
      "           Audio versus Mixture &                H\\_0 : \\textbackslash mu\\_Audio == \\textbackslash mu\\_Mixture \\\\\n",
      "Haptic Belt versus Virtual Cane & **H\\_1 : \\textbackslash mu\\_Haptic Belt != \\textbackslash mu\\_Virtual Cane** \\\\\n",
      "     Haptic Belt versus Mixture &          H\\_0 : \\textbackslash mu\\_Haptic Belt == \\textbackslash mu\\_Mixture \\\\\n",
      "    Virtual Cane versus Mixture &     **H\\_1 : \\textbackslash mu\\_Virtual Cane != \\textbackslash mu\\_Mixture** \\\\\n",
      "\\bottomrule\n",
      "\\end{tabular}\n",
      "\\end{table}\n",
      "\n"
     ]
    }
   ],
   "source": [
    "if gerar == True:\n",
    "    anova = pgQuestionario_media_2[pgQuestionario_media_2['Visual Impairment'] == 'Blind'].drop('Visual Impairment', axis = 1)\n",
    "else:\n",
    "    anova = pgQuestionario_media[pgQuestionario_media['Visual Impairment'] == 'Blind'].drop('Visual Impairment', axis = 1)\n",
    "\n",
    "mediaGeral = np.average(anova)\n",
    "\n",
    "res_amostras = pd.DataFrame([], columns=anova.columns)\n",
    "for a in anova.columns:\n",
    "    res_amostras_a = []\n",
    "    for n_ij in anova[a]:\n",
    "        res_amostras_a.append(n_ij - mediaGeral)\n",
    "    res_amostras[a] = res_amostras_a\n",
    "    #fig = sm.qqplot(res_amostras[a], fit = True, line = 'r')\n",
    "    #plt.show()\n",
    "    sns.residplot(y=a, x=res_amostras.index, data = res_amostras)\n",
    "plt.legend(bbox_to_anchor=(1, 1.26), loc='upper right', borderaxespad=0)\n",
    "plt.ylabel('Residuals')\n",
    "#plt.savefig('Nasa-TLX/Figuras/boxplot_md.png',bbox_inches='tight')\n",
    "plt.show()\n",
    "\n",
    "\n",
    "df_summary = AnovaTable(anova)\n",
    "label = 'tab:anova_sagat'\n",
    "caption = 'Anova p-value for the questionnaire score on each method for blinded users.'\n",
    "tabela_latex_sem_index(anova,label,caption,'Questionario')\n",
    "label = 0\n",
    "caption = 0\n",
    "\n",
    "lsd = LSDPostHocAnova(anova)\n",
    "label = 'tab:lsd_sagat'\n",
    "caption = 'Cross validation p-value for the questionnaire score on each method for blinded users.'\n",
    "tabela_latex_sem_index(lsd,label,caption,'Questionario')\n",
    "label = 0\n",
    "caption = 0\n",
    "\n",
    "#dun_0 = \n",
    "#DunnettPostHocAnova(anova,dun_0,anova['Base'])"
   ]
  },
  {
   "cell_type": "markdown",
   "metadata": {},
   "source": [
    "## Gráficos"
   ]
  },
  {
   "cell_type": "markdown",
   "metadata": {},
   "source": [
    "### Gráfico de barra da variação da demanda mental"
   ]
  },
  {
   "cell_type": "code",
   "execution_count": null,
   "metadata": {},
   "outputs": [
    {
     "data": {
      "image/png": "[encoded data removed]",
      "text/plain": [
       "<Figure size 1152x864 with 1 Axes>"
      ]
     },
     "metadata": {
      "needs_background": "light"
     },
     "output_type": "display_data"
    },
    {
     "data": {
      "image/png": "[encoded data removed]",
      "text/plain": [
       "<Figure size 1152x864 with 1 Axes>"
      ]
     },
     "metadata": {
      "needs_background": "light"
     },
     "output_type": "display_data"
    },
    {
     "data": {
      "image/png": "[encoded data removed]",
      "text/plain": [
       "<Figure size 1152x864 with 1 Axes>"
      ]
     },
     "metadata": {
      "needs_background": "light"
     },
     "output_type": "display_data"
    },
    {
     "name": "stderr",
     "output_type": "stream",
     "text": [
      "No handles with labels found to put in legend.\n"
     ]
    },
    {
     "data": {
      "image/png": "[encoded data removed]",
      "text/plain": [
       "<Figure size 1152x864 with 1 Axes>"
      ]
     },
     "metadata": {
      "needs_background": "light"
     },
     "output_type": "display_data"
    }
   ],
   "source": [
    "# Gerar um box plot de todas as médias dos participantes em cada cena\n",
    "if gerar == True:\n",
    "    plot = copy.deepcopy(dfMdVariation_2).reset_index(level = [1,2])\n",
    "else:\n",
    "    plot = copy.deepcopy(dfMdVariation).reset_index(level = [1,2])\n",
    "score = 'mental demand'\n",
    "teste = 'Nasa-TLX'\n",
    "label = 'md'\n",
    "\n",
    "mdMelt = pd.melt(plot.reset_index(),id_vars = ['Participant','Round','Visual Impairment'], var_name = 'Scene', value_name = 'Score',ignore_index=True)\n",
    "mdMelt.set_index('Participant')\n",
    "\n",
    "plt.figure(figsize=(16, 12))\n",
    "sns.barplot(data = mdMelt[mdMelt['Visual Impairment'] == 'Blind'], x = 'Scene', y = 'Score', hue = 'Round')\n",
    "plt.legend(bbox_to_anchor=(1, 1.26), loc='upper right', borderaxespad=0)\n",
    "plt.ylabel('Average ' + score)\n",
    "plt.savefig(teste + '/Figuras/png/barplot_' + label + '_scene_blind.png',bbox_inches='tight')\n",
    "plt.savefig(teste + '/Figuras/barplot_' + label + '_scene_blind.pgf',bbox_inches='tight')\n",
    "plt.show()\n",
    "\n",
    "plt.figure(figsize=(16, 12))\n",
    "sns.barplot(data = mdMelt[mdMelt['Visual Impairment'] == 'Sight'], x = 'Scene', y = 'Score', hue = 'Round')\n",
    "plt.legend(bbox_to_anchor=(1, 1.26), loc='upper right', borderaxespad=0)\n",
    "plt.ylabel('Average ' + score)\n",
    "plt.savefig(teste + '/Figuras/png/boxplot_' + label + '_scene_sight.png',bbox_inches='tight')\n",
    "plt.savefig(teste + '/Figuras/boxplot_' + label + '_scene_sight.pgf',bbox_inches='tight')\n",
    "plt.show()\n",
    "\n",
    "plt.figure(figsize=(16, 12))\n",
    "sns.barplot(data = mdMelt, x = 'Scene', y = 'Score', hue = 'Visual Impairment')\n",
    "plt.legend(bbox_to_anchor=(1, 1.26), loc='upper right', borderaxespad=0)\n",
    "plt.ylabel('Average ' + score)\n",
    "plt.savefig(teste + '/Figuras/png/boxplot_' + label + '_scene.png',bbox_inches='tight')\n",
    "plt.savefig(teste + '/Figuras/boxplot_' + label + '_scene.pgf',bbox_inches='tight')\n",
    "plt.show()\n",
    "\n",
    "plt.figure(figsize=(16, 12))\n",
    "\n",
    "sns.barplot(data = mdMelt, x = 'Visual Impairment', y = 'Score')\n",
    "plt.legend(bbox_to_anchor=(1, 1.26), loc='upper right', borderaxespad=0)\n",
    "plt.ylabel('Average ' + score)\n",
    "plt.savefig(teste + '/Figuras/png/boxplot_' + label + '.png',bbox_inches='tight')\n",
    "plt.savefig(teste + '/Figuras/boxplot_' + label + '.pgf',bbox_inches='tight')\n",
    "plt.show()"
   ]
  },
  {
   "cell_type": "markdown",
   "metadata": {},
   "source": [
    "### Gráfico de barra da variação da carga mental"
   ]
  },
  {
   "cell_type": "code",
   "execution_count": null,
   "metadata": {},
   "outputs": [
    {
     "data": {
      "image/png": "[encoded data removed]",
      "text/plain": [
       "<Figure size 1152x864 with 1 Axes>"
      ]
     },
     "metadata": {
      "needs_background": "light"
     },
     "output_type": "display_data"
    },
    {
     "data": {
      "image/png": "[encoded data removed]",
      "text/plain": [
       "<Figure size 1152x864 with 1 Axes>"
      ]
     },
     "metadata": {
      "needs_background": "light"
     },
     "output_type": "display_data"
    },
    {
     "data": {
      "image/png": "[encoded data removed]",
      "text/plain": [
       "<Figure size 1152x864 with 1 Axes>"
      ]
     },
     "metadata": {
      "needs_background": "light"
     },
     "output_type": "display_data"
    },
    {
     "name": "stderr",
     "output_type": "stream",
     "text": [
      "No handles with labels found to put in legend.\n"
     ]
    },
    {
     "data": {
      "image/png": "[encoded data removed]",
      "text/plain": [
       "<Figure size 1152x864 with 1 Axes>"
      ]
     },
     "metadata": {
      "needs_background": "light"
     },
     "output_type": "display_data"
    }
   ],
   "source": [
    "# Gerar um box plot de todas as médias dos participantes em cada cena\n",
    "if gerar == True:\n",
    "    plot = copy.deepcopy(dfCmVariation_2).reset_index(level = [1,2])\n",
    "else:\n",
    "    plot = copy.deepcopy(dfCmVariation).reset_index(level = [1,2])\n",
    "score = 'nasa score'\n",
    "teste = 'Nasa-TLX'\n",
    "label = 'nasa'\n",
    "\n",
    "mdMelt = pd.melt(plot.reset_index(),id_vars = ['Participant','Round','Visual Impairment'], var_name = 'Scene', value_name = 'Score',ignore_index=True)\n",
    "mdMelt.set_index('Participant')\n",
    "\n",
    "plt.figure(figsize=(16, 12))\n",
    "sns.barplot(data = mdMelt[mdMelt['Visual Impairment'] == 'Blind'], x = 'Scene', y = 'Score', hue = 'Round')\n",
    "plt.legend(bbox_to_anchor=(1, 1.26), loc='upper right', borderaxespad=0)\n",
    "plt.ylabel('Average ' + score)\n",
    "plt.savefig(teste + '/Figuras/png/barplot_' + label + '_scene_blind.png',bbox_inches='tight')\n",
    "plt.savefig(teste + '/Figuras/barplot_' + label + '_scene_blind.pgf',bbox_inches='tight')\n",
    "plt.show()\n",
    "\n",
    "plt.figure(figsize=(16, 12))\n",
    "sns.barplot(data = mdMelt[mdMelt['Visual Impairment'] == 'Sight'], x = 'Scene', y = 'Score', hue = 'Round')\n",
    "plt.legend(bbox_to_anchor=(1, 1.26), loc='upper right', borderaxespad=0)\n",
    "plt.ylabel('Average ' + score)\n",
    "plt.savefig(teste + '/Figuras/png/boxplot_' + label + '_scene_sight.png',bbox_inches='tight')\n",
    "plt.savefig(teste + '/Figuras/boxplot_' + label + '_scene_sight.pgf',bbox_inches='tight')\n",
    "plt.show()\n",
    "\n",
    "plt.figure(figsize=(16, 12))\n",
    "sns.barplot(data = mdMelt, x = 'Scene', y = 'Score', hue = 'Visual Impairment')\n",
    "plt.legend(bbox_to_anchor=(1, 1.26), loc='upper right', borderaxespad=0)\n",
    "plt.ylabel('Average ' + score)\n",
    "plt.savefig(teste + '/Figuras/png/boxplot_' + label + '_scene.png',bbox_inches='tight')\n",
    "plt.savefig(teste + '/Figuras/boxplot_' + label + '_scene.pgf',bbox_inches='tight')\n",
    "plt.show()\n",
    "\n",
    "\n",
    "plt.figure(figsize=(16, 12))\n",
    "\n",
    "sns.barplot(data = mdMelt, x = 'Visual Impairment', y = 'Score')\n",
    "plt.legend(bbox_to_anchor=(1, 1.26), loc='upper right', borderaxespad=0)\n",
    "plt.ylabel('Average ' + score)\n",
    "plt.savefig(teste + '/Figuras/png/boxplot_' + label + '.png',bbox_inches='tight')\n",
    "plt.savefig(teste + '/Figuras/boxplot_' + label + '.pgf',bbox_inches='tight')\n",
    "plt.show()"
   ]
  },
  {
   "cell_type": "markdown",
   "metadata": {},
   "source": [
    "### Gráfico de barra da variação da pontuação do Sagat"
   ]
  },
  {
   "cell_type": "code",
   "execution_count": null,
   "metadata": {},
   "outputs": [
    {
     "data": {
      "image/png": "[encoded data removed]",
      "text/plain": [
       "<Figure size 1152x864 with 1 Axes>"
      ]
     },
     "metadata": {
      "needs_background": "light"
     },
     "output_type": "display_data"
    },
    {
     "data": {
      "image/png": "[encoded data removed]",
      "text/plain": [
       "<Figure size 1152x864 with 1 Axes>"
      ]
     },
     "metadata": {
      "needs_background": "light"
     },
     "output_type": "display_data"
    },
    {
     "data": {
      "image/png": "[encoded data removed]",
      "text/plain": [
       "<Figure size 1152x864 with 1 Axes>"
      ]
     },
     "metadata": {
      "needs_background": "light"
     },
     "output_type": "display_data"
    },
    {
     "name": "stderr",
     "output_type": "stream",
     "text": [
      "No handles with labels found to put in legend.\n"
     ]
    },
    {
     "data": {
      "image/png": "[encoded data removed]",
      "text/plain": [
       "<Figure size 1152x864 with 1 Axes>"
      ]
     },
     "metadata": {
      "needs_background": "light"
     },
     "output_type": "display_data"
    }
   ],
   "source": [
    "# Gerar um box plot de todas as médias dos participantes em cada cena\n",
    "if gerar == True:\n",
    "    plot = copy.deepcopy(dfSaVariation_2.drop('Base',axis =1).reset_index(level = [1,2]))\n",
    "else:\n",
    "    plot = copy.deepcopy(dfSaVariation.drop('Base',axis =1)).reset_index(level = [1,2])\n",
    "score = 'sagat score'\n",
    "teste = 'Sagat'\n",
    "label = 'sagat'\n",
    "\n",
    "mdMelt = pd.melt(plot.reset_index(),id_vars = ['Participant','Round','Visual Impairment'], var_name = 'Scene', value_name = 'Score',ignore_index=True)\n",
    "mdMelt.set_index('Participant')\n",
    "\n",
    "plt.figure(figsize=(16, 12))\n",
    "sns.barplot(data = mdMelt[mdMelt['Visual Impairment'] == 'Blind'], x = 'Scene', y = 'Score', hue = 'Round')\n",
    "plt.legend(bbox_to_anchor=(1, 1.26), loc='upper right', borderaxespad=0)\n",
    "plt.ylabel('Average ' + score)\n",
    "plt.savefig(teste + '/Figuras/png/barplot_' + label + '_scene_blind.png',bbox_inches='tight')\n",
    "plt.savefig(teste + '/Figuras/barplot_' + label + '_scene_blind.pgf',bbox_inches='tight')\n",
    "plt.show()\n",
    "\n",
    "plt.figure(figsize=(16, 12))\n",
    "sns.barplot(data = mdMelt[mdMelt['Visual Impairment'] == 'Sight'], x = 'Scene', y = 'Score', hue = 'Round')\n",
    "plt.legend(bbox_to_anchor=(1, 1.26), loc='upper right', borderaxespad=0)\n",
    "plt.ylabel('Average ' + score)\n",
    "plt.savefig(teste + '/Figuras/png/boxplot_' + label + '_scene_sight.png',bbox_inches='tight')\n",
    "plt.savefig(teste + '/Figuras/boxplot_' + label + '_scene_sight.pgf',bbox_inches='tight')\n",
    "plt.show()\n",
    "\n",
    "plt.figure(figsize=(16, 12))\n",
    "sns.barplot(data = mdMelt, x = 'Scene', y = 'Score', hue = 'Visual Impairment')\n",
    "plt.legend(bbox_to_anchor=(1, 1.26), loc='upper right', borderaxespad=0)\n",
    "plt.ylabel('Average ' + score)\n",
    "plt.savefig(teste + '/Figuras/png/boxplot_' + label + '_scene.png',bbox_inches='tight')\n",
    "plt.savefig(teste + '/Figuras/boxplot_' + label + '_scene.pgf',bbox_inches='tight')\n",
    "plt.show()\n",
    "\n",
    "\n",
    "plt.figure(figsize=(16, 12))\n",
    "\n",
    "sns.barplot(data = mdMelt, x = 'Visual Impairment', y = 'Score')\n",
    "plt.legend(bbox_to_anchor=(1, 1.26), loc='upper right', borderaxespad=0)\n",
    "plt.ylabel('Average ' + score)\n",
    "plt.savefig(teste + '/Figuras/png/boxplot_' + label + '.png',bbox_inches='tight')\n",
    "plt.savefig(teste + '/Figuras/boxplot_' + label + '.pgf',bbox_inches='tight')\n",
    "plt.show()"
   ]
  },
  {
   "cell_type": "markdown",
   "metadata": {},
   "source": [
    "### Gráfico de barra da variação da pontuação dos questionários"
   ]
  },
  {
   "cell_type": "code",
   "execution_count": null,
   "metadata": {},
   "outputs": [
    {
     "data": {
      "image/png": "[encoded data removed]",
      "text/plain": [
       "<Figure size 1152x864 with 1 Axes>"
      ]
     },
     "metadata": {
      "needs_background": "light"
     },
     "output_type": "display_data"
    },
    {
     "data": {
      "image/png": "[encoded data removed]",
      "text/plain": [
       "<Figure size 1152x864 with 1 Axes>"
      ]
     },
     "metadata": {
      "needs_background": "light"
     },
     "output_type": "display_data"
    },
    {
     "data": {
      "image/png": "[encoded data removed]",
      "text/plain": [
       "<Figure size 1152x864 with 1 Axes>"
      ]
     },
     "metadata": {
      "needs_background": "light"
     },
     "output_type": "display_data"
    },
    {
     "name": "stderr",
     "output_type": "stream",
     "text": [
      "No handles with labels found to put in legend.\n"
     ]
    },
    {
     "data": {
      "image/png": "[encoded data removed]",
      "text/plain": [
       "<Figure size 1152x864 with 1 Axes>"
      ]
     },
     "metadata": {
      "needs_background": "light"
     },
     "output_type": "display_data"
    }
   ],
   "source": [
    "# Gerar um box plot de todas as médias dos participantes em cada cena\n",
    "if gerar == True:\n",
    "    plot = copy.deepcopy(dfSaVariation_2.drop('Base',axis =1).reset_index(level = [1,2]))\n",
    "else:\n",
    "    plot = copy.deepcopy(dfSaVariation.drop('Base',axis =1)).reset_index(level = [1,2])\n",
    "score = 'sagat score'\n",
    "teste = 'Sagat'\n",
    "label = 'sagat'\n",
    "\n",
    "mdMelt = pd.melt(plot.reset_index(),id_vars = ['Participant','Round','Visual Impairment'], var_name = 'Scene', value_name = 'Score',ignore_index=True)\n",
    "mdMelt.set_index('Participant')\n",
    "\n",
    "plt.figure(figsize=(16, 12))\n",
    "sns.barplot(data = mdMelt[mdMelt['Visual Impairment'] == 'Blind'], x = 'Scene', y = 'Score', hue = 'Round')\n",
    "plt.legend(bbox_to_anchor=(1, 1.26), loc='upper right', borderaxespad=0)\n",
    "plt.ylabel('Average ' + score)\n",
    "plt.savefig(teste + '/Figuras/png/barplot_' + label + '_scene_blind.png',bbox_inches='tight')\n",
    "plt.savefig(teste + '/Figuras/barplot_' + label + '_scene_blind.pgf',bbox_inches='tight')\n",
    "plt.show()\n",
    "\n",
    "plt.figure(figsize=(16, 12))\n",
    "sns.barplot(data = mdMelt[mdMelt['Visual Impairment'] == 'Sight'], x = 'Scene', y = 'Score', hue = 'Round')\n",
    "plt.legend(bbox_to_anchor=(1, 1.26), loc='upper right', borderaxespad=0)\n",
    "plt.ylabel('Average ' + score)\n",
    "plt.savefig(teste + '/Figuras/png/boxplot_' + label + '_scene_sight.png',bbox_inches='tight')\n",
    "plt.savefig(teste + '/Figuras/boxplot_' + label + '_scene_sight.pgf',bbox_inches='tight')\n",
    "plt.show()\n",
    "\n",
    "plt.figure(figsize=(16, 12))\n",
    "sns.barplot(data = mdMelt, x = 'Scene', y = 'Score', hue = 'Visual Impairment')\n",
    "plt.legend(bbox_to_anchor=(1, 1.26), loc='upper right', borderaxespad=0)\n",
    "plt.ylabel('Average ' + score)\n",
    "plt.savefig(teste + '/Figuras/png/boxplot_' + label + '_scene.png',bbox_inches='tight')\n",
    "plt.savefig(teste + '/Figuras/boxplot_' + label + '_scene.pgf',bbox_inches='tight')\n",
    "plt.show()\n",
    "\n",
    "\n",
    "plt.figure(figsize=(16, 12))\n",
    "\n",
    "sns.barplot(data = mdMelt, x = 'Visual Impairment', y = 'Score')\n",
    "plt.legend(bbox_to_anchor=(1, 1.26), loc='upper right', borderaxespad=0)\n",
    "plt.ylabel('Average ' + score)\n",
    "plt.savefig(teste + '/Figuras/png/boxplot_' + label + '.png',bbox_inches='tight')\n",
    "plt.savefig(teste + '/Figuras/boxplot_' + label + '.pgf',bbox_inches='tight')\n",
    "plt.show()"
   ]
  },
  {
   "cell_type": "markdown",
   "metadata": {},
   "source": [
    "### Box plot da média da demanda mental"
   ]
  },
  {
   "cell_type": "code",
   "execution_count": null,
   "metadata": {},
   "outputs": [
    {
     "data": {
      "image/png": "[encoded data removed]",
      "text/plain": [
       "<Figure size 1152x864 with 1 Axes>"
      ]
     },
     "metadata": {
      "needs_background": "light"
     },
     "output_type": "display_data"
    },
    {
     "name": "stderr",
     "output_type": "stream",
     "text": [
      "No handles with labels found to put in legend.\n"
     ]
    },
    {
     "data": {
      "image/png": "[encoded data removed]",
      "text/plain": [
       "<Figure size 1152x864 with 1 Axes>"
      ]
     },
     "metadata": {
      "needs_background": "light"
     },
     "output_type": "display_data"
    }
   ],
   "source": [
    "# Gerar um box plot de todas as médias dos participantes em cada cena\n",
    "if gerar == True:\n",
    "    plot = copy.deepcopy(mdNasa_media_cen_par_2)\n",
    "else:\n",
    "    plot = copy.deepcopy(mdNasa_media_cen_par)\n",
    "score = 'mental demand'\n",
    "teste = 'Nasa-TLX'\n",
    "label = 'md'\n",
    "\n",
    "plot.loc[plot['Visual Impairment'] == 0, 'Visual Impairment'] = \"Sight\"\n",
    "plot.loc[plot['Visual Impairment'] == 1, 'Visual Impairment'] = \"Blind\"\n",
    "\n",
    "mdMelt = pd.melt(plot,id_vars = 'Visual Impairment', var_name = 'Scene', value_name = 'Average')\n",
    "\n",
    "plt.figure(figsize=(16, 12))\n",
    "sns.boxplot(data = mdMelt, x = 'Visual Impairment', y = 'Average', hue = \"Scene\")\n",
    "plt.legend(bbox_to_anchor=(1, 1.26), loc='upper right', borderaxespad=0)\n",
    "plt.ylabel('Average ' + score)\n",
    "plt.savefig(teste + '/Figuras/png/boxplot_' + label + '_scene.png',bbox_inches='tight')\n",
    "plt.savefig(teste + '/Figuras/boxplot_' + label + '_scene.pgf',bbox_inches='tight')\n",
    "plt.show()\n",
    "\n",
    "\n",
    "plt.figure(figsize=(16, 12))\n",
    "\n",
    "plot.loc[plot['Visual Impairment'] == 0, 'Visual Impairment'] = \"Sight\"\n",
    "plot.loc[plot['Visual Impairment'] == 1, 'Visual Impairment'] = \"Blind\"\n",
    "\n",
    "mdMelt = pd.melt(plot,id_vars = 'Visual Impairment', var_name = 'Scene', value_name = 'Average')\n",
    "\n",
    "sns.boxplot(data = mdMelt, x = 'Visual Impairment', y = 'Average')\n",
    "plt.legend(bbox_to_anchor=(1, 1.26), loc='upper right', borderaxespad=0)\n",
    "plt.ylabel('Average ' + score)\n",
    "plt.savefig(teste + '/Figuras/png/boxplot_' + label + '.png',bbox_inches='tight')\n",
    "plt.savefig(teste + '/Figuras/boxplot_' + label + '.pgf',bbox_inches='tight')\n",
    "plt.show()"
   ]
  },
  {
   "cell_type": "markdown",
   "metadata": {},
   "source": [
    "### Box plot da média da Carga Mental"
   ]
  },
  {
   "cell_type": "code",
   "execution_count": null,
   "metadata": {},
   "outputs": [
    {
     "data": {
      "image/png": "[encoded data removed]",
      "text/plain": [
       "<Figure size 1152x864 with 1 Axes>"
      ]
     },
     "metadata": {
      "needs_background": "light"
     },
     "output_type": "display_data"
    },
    {
     "name": "stderr",
     "output_type": "stream",
     "text": [
      "No handles with labels found to put in legend.\n"
     ]
    },
    {
     "data": {
      "image/png": "[encoded data removed]",
      "text/plain": [
       "<Figure size 1152x864 with 1 Axes>"
      ]
     },
     "metadata": {
      "needs_background": "light"
     },
     "output_type": "display_data"
    }
   ],
   "source": [
    "# Gerar um box plot de todas as médias dos participantes em cada cena\n",
    "if gerar == True:\n",
    "    plot = copy.deepcopy(cmNasa_media_cen_par_2)\n",
    "else:\n",
    "    plot = copy.deepcopy(cmNasa_media_cen_par_2)\n",
    "\n",
    "score = 'Nasa score'\n",
    "teste = 'Nasa-TLX'\n",
    "label = 'nasa'\n",
    "\n",
    "plot.loc[plot['Visual Impairment'] == 0, 'Visual Impairment'] = \"Sight\"\n",
    "plot.loc[plot['Visual Impairment'] == 1, 'Visual Impairment'] = \"Blind\"\n",
    "\n",
    "mdMelt = pd.melt(plot,id_vars = 'Visual Impairment', var_name = 'Scene', value_name = 'Average')\n",
    "\n",
    "plt.figure(figsize=(16, 12))\n",
    "sns.boxplot(data = mdMelt, x = 'Visual Impairment', y = 'Average', hue = \"Scene\")\n",
    "plt.legend(bbox_to_anchor=(1, 1.26), loc='upper right', borderaxespad=0)\n",
    "plt.ylabel('Average ' + score)\n",
    "plt.savefig(teste + '/Figuras/png/boxplot_' + label + '_scene.png',bbox_inches='tight')\n",
    "plt.savefig(teste + '/Figuras/boxplot_' + label + '_scene.pgf',bbox_inches='tight')\n",
    "plt.show()\n",
    "\n",
    "\n",
    "plt.figure(figsize=(16, 12))\n",
    "\n",
    "plot.loc[plot['Visual Impairment'] == 0, 'Visual Impairment'] = \"Sight\"\n",
    "plot.loc[plot['Visual Impairment'] == 1, 'Visual Impairment'] = \"Blind\"\n",
    "\n",
    "mdMelt = pd.melt(plot,id_vars = 'Visual Impairment', var_name = 'Scene', value_name = 'Average')\n",
    "\n",
    "sns.boxplot(data = mdMelt, x = 'Visual Impairment', y = 'Average')\n",
    "plt.legend(bbox_to_anchor=(1, 1.26), loc='upper right', borderaxespad=0)\n",
    "plt.ylabel('Average ' + score)\n",
    "plt.savefig(teste + '/Figuras/png/boxplot_' + label + '.png',bbox_inches='tight')\n",
    "plt.savefig(teste + '/Figuras/boxplot_' + label + '.pgf',bbox_inches='tight')\n",
    "plt.show()"
   ]
  },
  {
   "cell_type": "markdown",
   "metadata": {},
   "source": [
    "### Box plot da média do SAGAT"
   ]
  },
  {
   "cell_type": "code",
   "execution_count": null,
   "metadata": {},
   "outputs": [
    {
     "data": {
      "image/png": "[encoded data removed]",
      "text/plain": [
       "<Figure size 1152x864 with 1 Axes>"
      ]
     },
     "metadata": {
      "needs_background": "light"
     },
     "output_type": "display_data"
    },
    {
     "name": "stderr",
     "output_type": "stream",
     "text": [
      "No handles with labels found to put in legend.\n"
     ]
    },
    {
     "data": {
      "image/png": "[encoded data removed]",
      "text/plain": [
       "<Figure size 1152x864 with 1 Axes>"
      ]
     },
     "metadata": {
      "needs_background": "light"
     },
     "output_type": "display_data"
    }
   ],
   "source": [
    "# Gerar um box plot de todas as médias dos participantes em cada cena\n",
    "if gerar == True:\n",
    "    plot = copy.deepcopy(saSagat_media_cen_par_2)\n",
    "else:\n",
    "    plot = copy.deepcopy(saSagat_media_cen_par_2)\n",
    "\n",
    "score = 'Sagat score'\n",
    "teste = 'SAGAT'\n",
    "label = 'sagat'\n",
    "\n",
    "plot.loc[plot['Visual Impairment'] == 0, 'Visual Impairment'] = \"Sight\"\n",
    "plot.loc[plot['Visual Impairment'] == 1, 'Visual Impairment'] = \"Blind\"\n",
    "\n",
    "mdMelt = pd.melt(plot,id_vars = 'Visual Impairment', var_name = 'Scene', value_name = 'Average')\n",
    "\n",
    "plt.figure(figsize=(16, 12))\n",
    "sns.boxplot(data = mdMelt, x = 'Visual Impairment', y = 'Average', hue = \"Scene\")\n",
    "plt.legend(bbox_to_anchor=(1, 1.26), loc='upper right', borderaxespad=0)\n",
    "plt.ylabel('Average ' + score)\n",
    "plt.savefig(teste + '/Figuras/png/boxplot_' + label + '_scene.png',bbox_inches='tight')\n",
    "plt.savefig(teste + '/Figuras/boxplot_' + label + '_scene.pgf',bbox_inches='tight')\n",
    "plt.show()\n",
    "\n",
    "\n",
    "plt.figure(figsize=(16, 12))\n",
    "\n",
    "plot.loc[plot['Visual Impairment'] == 0, 'Visual Impairment'] = \"Sight\"\n",
    "plot.loc[plot['Visual Impairment'] == 1, 'Visual Impairment'] = \"Blind\"\n",
    "\n",
    "mdMelt = pd.melt(plot,id_vars = 'Visual Impairment', var_name = 'Scene', value_name = 'Average')\n",
    "\n",
    "sns.boxplot(data = mdMelt, x = 'Visual Impairment', y = 'Average')\n",
    "plt.legend(bbox_to_anchor=(1, 1.26), loc='upper right', borderaxespad=0)\n",
    "plt.ylabel('Average ' + score)\n",
    "plt.savefig(teste + '/Figuras/png/boxplot_' + label + '.png',bbox_inches='tight')\n",
    "plt.savefig(teste + '/Figuras/boxplot_' + label + '.pgf',bbox_inches='tight')\n",
    "plt.show()"
   ]
  },
  {
   "cell_type": "markdown",
   "metadata": {},
   "source": [
    "### Box plot da média dos Questionario"
   ]
  },
  {
   "cell_type": "code",
   "execution_count": null,
   "metadata": {},
   "outputs": [
    {
     "data": {
      "image/png": "[encoded data removed]",
      "text/plain": [
       "<Figure size 1152x864 with 1 Axes>"
      ]
     },
     "metadata": {
      "needs_background": "light"
     },
     "output_type": "display_data"
    },
    {
     "name": "stderr",
     "output_type": "stream",
     "text": [
      "No handles with labels found to put in legend.\n"
     ]
    },
    {
     "data": {
      "image/png": "[encoded data removed]",
      "text/plain": [
       "<Figure size 1152x864 with 1 Axes>"
      ]
     },
     "metadata": {
      "needs_background": "light"
     },
     "output_type": "display_data"
    }
   ],
   "source": [
    "# Gerar um box plot de todas as médias dos participantes em cada cena\n",
    "if gerar == True:\n",
    "    plot = copy.deepcopy(pgQuestionario_media_2)\n",
    "else:\n",
    "    plot = copy.deepcopy(pgQuestionario_media_2)\n",
    "\n",
    "score = 'questionnaire score'\n",
    "teste = 'Questionario'\n",
    "label = 'questionnaire'\n",
    "\n",
    "plot.loc[plot['Visual Impairment'] == 0, 'Visual Impairment'] = \"Sight\"\n",
    "plot.loc[plot['Visual Impairment'] == 1, 'Visual Impairment'] = \"Blind\"\n",
    "\n",
    "mdMelt = pd.melt(plot,id_vars = 'Visual Impairment', var_name = 'Scene', value_name = 'Average')\n",
    "\n",
    "plt.figure(figsize=(16, 12))\n",
    "sns.boxplot(data = mdMelt, x = 'Visual Impairment', y = 'Average', hue = \"Scene\")\n",
    "plt.legend(bbox_to_anchor=(1, 1.26), loc='upper right', borderaxespad=0)\n",
    "plt.ylabel('Average ' + score)\n",
    "plt.savefig(teste + '/Figuras/png/boxplot_' + label + '_scene.png',bbox_inches='tight')\n",
    "plt.savefig(teste + '/Figuras/boxplot_' + label + '_scene.pgf',bbox_inches='tight')\n",
    "plt.show()\n",
    "\n",
    "\n",
    "plt.figure(figsize=(16, 12))\n",
    "\n",
    "plot.loc[plot['Visual Impairment'] == 0, 'Visual Impairment'] = \"Sight\"\n",
    "plot.loc[plot['Visual Impairment'] == 1, 'Visual Impairment'] = \"Blind\"\n",
    "\n",
    "mdMelt = pd.melt(plot,id_vars = 'Visual Impairment', var_name = 'Scene', value_name = 'Average')\n",
    "\n",
    "sns.boxplot(data = mdMelt, x = 'Visual Impairment', y = 'Average')\n",
    "plt.legend(bbox_to_anchor=(1, 1.26), loc='upper right', borderaxespad=0)\n",
    "plt.ylabel('Average ' + score)\n",
    "plt.savefig(teste + '/Figuras/png/boxplot_' + label + '.png',bbox_inches='tight')\n",
    "plt.savefig(teste + '/Figuras/boxplot_' + label + '.pgf',bbox_inches='tight')\n",
    "plt.show()"
   ]
  }
 ],
 "metadata": {
  "interpreter": {
   "hash": "5f966349cd6f1028bfc5e5ef19b3eb11d62f964c2879022ce7b88f338fd2707a"
  },
  "kernelspec": {
   "display_name": "Python 3.9.4 64-bit",
   "language": "python",
   "name": "python3"
  },
  "language_info": {
   "codemirror_mode": {
    "name": "ipython",
    "version": 3
   },
   "file_extension": ".py",
   "mimetype": "text/x-python",
   "name": "python",
   "nbconvert_exporter": "python",
   "pygments_lexer": "ipython3",
   "version": "3.9.4"
  },
  "orig_nbformat": 4
 },
 "nbformat": 4,
 "nbformat_minor": 2
}
