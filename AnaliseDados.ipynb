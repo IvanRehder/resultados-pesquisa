{
 "cells": [
  {
   "cell_type": "code",
   "execution_count": 1,
   "metadata": {},
   "outputs": [],
   "source": [
    "import pandas as pd\n",
    "import numpy as np\n",
    "import matplotlib.pyplot as plt\n",
    "import seaborn as sns\n",
    "import scipy.stats as stats\n",
    "\n",
    "# get ANOVA table as R like output\n",
    "import statsmodels.api as sm\n",
    "from statsmodels.formula.api import ols\n",
    "\n",
    "with open('res_sub_tab.txt', 'w') as res_sub_tab:\n",
    "    res_sub_tab.write('Tabelas Latex para os resultados dos métodos subjetivos')\n",
    "    res_sub_tab.write('\\n')\n",
    "    res_sub_tab.close()\n",
    "\n",
    "\n"
   ]
  },
  {
   "cell_type": "markdown",
   "metadata": {},
   "source": [
    "# Leitura e organização dos dados"
   ]
  },
  {
   "cell_type": "markdown",
   "metadata": {},
   "source": [
    "## Leitura dos dados brutos"
   ]
  },
  {
   "cell_type": "code",
   "execution_count": 2,
   "metadata": {},
   "outputs": [],
   "source": [
    "df = pd.read_excel(\"Questionários pesquisa.xlsx\")\n",
    "participantes = df.loc[:,['Participante:','Idade:','Sexo:','Como deficiente visual você se identifica como:']]\n",
    "participantes.set_index('Participante:', drop = True, inplace = True)\n",
    "df_resto_1 = df.drop(['Idade:','Sexo:','Como deficiente visual você se identifica como:'],axis = 1)"
   ]
  },
  {
   "cell_type": "markdown",
   "metadata": {},
   "source": [
    "## Separação dos dados"
   ]
  },
  {
   "cell_type": "markdown",
   "metadata": {},
   "source": [
    "### Ordem dos cenários"
   ]
  },
  {
   "cell_type": "code",
   "execution_count": 3,
   "metadata": {},
   "outputs": [],
   "source": [
    "ordemCenarios = df_resto_1.iloc[:,range(1,7)]\n",
    "#ordemCenarios = ordemCenarios.drop(ordemCenarios.columns[range(1,4)], axis = 1)\n",
    "ordemCenarios.set_index(keys = \"Participante:\", inplace = True)\n",
    "df_resto_2 = df_resto_1.drop(ordemCenarios.columns,axis = 1)\n"
   ]
  },
  {
   "cell_type": "markdown",
   "metadata": {},
   "source": [
    "### Nasa"
   ]
  },
  {
   "cell_type": "code",
   "execution_count": 4,
   "metadata": {},
   "outputs": [],
   "source": [
    "cenas = list(range(1,6))\n",
    "nomeCenas = ['Base', 'Audio', 'Haptic Belt', 'Virtual Cane', 'Mixture']\n",
    "etapas = [1,2]\n",
    "dimensoesNasa = ['Demanda Mental','Demanda física', 'Demanda Temporal', 'Perfomance', 'Esforço', 'Frustação']\n",
    "dimensoesNasas_todas = ['Participante:']\n",
    "for c in cenas:\n",
    "    for e in etapas:\n",
    "        for d in dimensoesNasa:\n",
    "            nome = str(c) + '.' + str(e) + ') '+ d\n",
    "            dimensoesNasas_todas.append(nome)\n",
    "\n",
    "dfNasa = df_resto_2.loc[:,dimensoesNasas_todas]\n",
    "dfNasa.set_index('Participante:',inplace = True)\n",
    "df_resto_3 = df_resto_2.drop(dfNasa.columns, axis = 1)\n",
    "# dfNasa.head()\n"
   ]
  },
  {
   "cell_type": "markdown",
   "metadata": {},
   "source": [
    "### Sagat"
   ]
  },
  {
   "cell_type": "code",
   "execution_count": 5,
   "metadata": {},
   "outputs": [],
   "source": [
    "perguntasSagat = ['Existe algum objeto próximo de você?', 'Sinalize onde o objeto está', 'Existe alguém perto de você?', 'Sinaliza onde está pessoa esta', \n",
    "'Você percebeu alguma fonte de som característica do lugar onde você se encontra?', 'Sinalize de onde vem o som', 'Sinalize em que direção está a recepcionista', \n",
    "'Sinalize em que direção está a saída', 'Qual a distância você imagina que existe entre a mesa da recepção e qual direção ela está?',\t\n",
    "'Qual a distância você imagina que existe entre a saída?']\n",
    "\n",
    "perguntasSagat_todas = ['Participante:'] \n",
    "for c in cenas:\n",
    "    for e in etapas:\n",
    "        for p in perguntasSagat:\n",
    "            nome = str(c) + '.' + str(e) + ') '+ p\n",
    "            perguntasSagat_todas.append(nome)\n",
    "\n",
    "dfSagat = df_resto_3.loc[:,perguntasSagat_todas]\n",
    "dfSagat.set_index('Participante:',inplace = True)\n",
    "df_resto_4 = df_resto_3.drop(dfSagat.columns, axis = 1)\n",
    "#dfSagat.head()"
   ]
  },
  {
   "cell_type": "markdown",
   "metadata": {},
   "source": [
    "### Questionário dos métodos de guiagem"
   ]
  },
  {
   "cell_type": "code",
   "execution_count": 6,
   "metadata": {},
   "outputs": [],
   "source": [
    "dfQuestionario = df_resto_4.set_index('Participante:').drop('Carimbo de data/hora', axis = 1 )\n",
    "#dfQuestionario.head()"
   ]
  },
  {
   "cell_type": "markdown",
   "metadata": {},
   "source": [
    "## Reorganizar os dados"
   ]
  },
  {
   "cell_type": "markdown",
   "metadata": {},
   "source": [
    "### Transformar dados qualitativos em quantitativos\n",
    "\n",
    "Cego ficou definido como número 0\n",
    "Vidente ficou definido como número 1\n",
    "\n",
    "Masculino ficou definido como número 0\n",
    "Feminino ficou definido como número 1"
   ]
  },
  {
   "cell_type": "code",
   "execution_count": 7,
   "metadata": {},
   "outputs": [
    {
     "data": {
      "text/html": [
       "<div>\n",
       "<style scoped>\n",
       "    .dataframe tbody tr th:only-of-type {\n",
       "        vertical-align: middle;\n",
       "    }\n",
       "\n",
       "    .dataframe tbody tr th {\n",
       "        vertical-align: top;\n",
       "    }\n",
       "\n",
       "    .dataframe thead th {\n",
       "        text-align: right;\n",
       "    }\n",
       "</style>\n",
       "<table border=\"1\" class=\"dataframe\">\n",
       "  <thead>\n",
       "    <tr style=\"text-align: right;\">\n",
       "      <th></th>\n",
       "      <th>Idade:</th>\n",
       "      <th>Sexo:</th>\n",
       "      <th>Sexo 0/1</th>\n",
       "      <th>Como deficiente visual você se identifica como:</th>\n",
       "      <th>Deficiência</th>\n",
       "    </tr>\n",
       "    <tr>\n",
       "      <th>Participante:</th>\n",
       "      <th></th>\n",
       "      <th></th>\n",
       "      <th></th>\n",
       "      <th></th>\n",
       "      <th></th>\n",
       "    </tr>\n",
       "  </thead>\n",
       "  <tbody>\n",
       "    <tr>\n",
       "      <th>001C</th>\n",
       "      <td>56</td>\n",
       "      <td>Masculino</td>\n",
       "      <td>0</td>\n",
       "      <td>Cego</td>\n",
       "      <td>0</td>\n",
       "    </tr>\n",
       "    <tr>\n",
       "      <th>001</th>\n",
       "      <td>22</td>\n",
       "      <td>Masculino</td>\n",
       "      <td>0</td>\n",
       "      <td>Não sou deficiente visual</td>\n",
       "      <td>1</td>\n",
       "    </tr>\n",
       "  </tbody>\n",
       "</table>\n",
       "</div>"
      ],
      "text/plain": [
       "               Idade:      Sexo:  Sexo 0/1  \\\n",
       "Participante:                                \n",
       "001C               56  Masculino         0   \n",
       "001                22  Masculino         0   \n",
       "\n",
       "              Como deficiente visual você se identifica como:  Deficiência  \n",
       "Participante:                                                               \n",
       "001C                                                     Cego            0  \n",
       "001                                 Não sou deficiente visual            1  "
      ]
     },
     "execution_count": 7,
     "metadata": {},
     "output_type": "execute_result"
    }
   ],
   "source": [
    "participantes.insert(2,'Sexo 0/1', pd.factorize(participantes.iloc[:,1])[0])\n",
    "participantes.insert(4,'Deficiência',pd.factorize(participantes.iloc[:,3])[0])\n",
    "participantes"
   ]
  },
  {
   "cell_type": "markdown",
   "metadata": {},
   "source": [
    "### Nasa"
   ]
  },
  {
   "cell_type": "code",
   "execution_count": 8,
   "metadata": {},
   "outputs": [],
   "source": [
    "nasa = []\n",
    "for p in range(len(participantes)):\n",
    "    nasaPorCena = []\n",
    "    for c in range(len(cenas)):\n",
    "        nasaPorEtapa = []\n",
    "        for e in range(len(etapas)):\n",
    "            nasaEtapa = []\n",
    "            for d in range(len(dimensoesNasa)):\n",
    "                #print(dfNasa.iloc[d+e*6+c*12])\n",
    "                nasaEtapa.append(dfNasa.iloc[p,d+e*6+c*12])\n",
    "            nasaPorEtapa.append(nasaEtapa)\n",
    "        nasaPorCena.append(nasaPorEtapa)\n",
    "    nasa.append(nasaPorCena)\n",
    "#nasa"
   ]
  },
  {
   "cell_type": "markdown",
   "metadata": {},
   "source": [
    "### Sagat"
   ]
  },
  {
   "cell_type": "code",
   "execution_count": 9,
   "metadata": {},
   "outputs": [],
   "source": [
    "sagat = []\n",
    "for p in range(len(participantes)):\n",
    "    sagatPorCena = []\n",
    "    for c in range(len(cenas)):\n",
    "        sagatPorEtapa = []\n",
    "        for e in range(len(etapas)):\n",
    "            sagatEtapa = []\n",
    "            for d in range(len(perguntasSagat)):\n",
    "                #print(dfSagat.iloc[d+e*10+c*20])\n",
    "                sagatEtapa.append(dfSagat.iloc[p,d+e*10+c*20])\n",
    "            sagatPorEtapa.append(sagatEtapa)\n",
    "        sagatPorCena.append(sagatPorEtapa)\n",
    "    sagat.append(sagatPorCena)\n",
    "#sagat"
   ]
  },
  {
   "cell_type": "markdown",
   "metadata": {},
   "source": [
    "### Questionários dos métodos de guiagem"
   ]
  },
  {
   "cell_type": "code",
   "execution_count": 10,
   "metadata": {},
   "outputs": [
    {
     "data": {
      "text/plain": [
       "[[[2,\n",
       "   1,\n",
       "   1,\n",
       "   6,\n",
       "   7,\n",
       "   3,\n",
       "   'Sim. Precisão. Exmeplo a Mesa está a 2m. Falta a orientação da mesa.'],\n",
       "  [5, 1, 5, 5, 3, 'Sim. Faltou perceber as paredes'],\n",
       "  [5,\n",
       "   3,\n",
       "   6,\n",
       "   1,\n",
       "   1,\n",
       "   'Sim. Falta informação sobre a forma do objeto',\n",
       "   'Bengala, pq ela informa a parede'],\n",
       "  [4,\n",
       "   3,\n",
       "   1,\n",
       "   1,\n",
       "   1,\n",
       "   1,\n",
       "   6,\n",
       "   1,\n",
       "   1,\n",
       "   6,\n",
       "   1,\n",
       "   1,\n",
       "   3,\n",
       "   5,\n",
       "   3,\n",
       "   5,\n",
       "   1,\n",
       "   2,\n",
       "   'Sim, falta a forma do objeto',\n",
       "   'Audio não foi necessário']],\n",
       " [[3, 4, 7, 6, 7, 3, 'Não'],\n",
       "  [2, 2, 5, 5, 3, 'Não'],\n",
       "  [5, 1, 2, 4, 3, 'Não', 'Bengala, por ser mais precisa'],\n",
       "  [4, 5, 6, 5, 5, 3, 3, 2, 4, 2, 3, 7, 5, 6, 0, 3, 1, 2, 'Não', 'Cinto']]]"
      ]
     },
     "execution_count": 10,
     "metadata": {},
     "output_type": "execute_result"
    }
   ],
   "source": [
    "perguntasQuestionario = [7,6,7,20]\n",
    "\n",
    "questionarios = []\n",
    "for p in range(len(participantes)):\n",
    "    questionariosPorCena = []\n",
    "    for c in range(len(cenas)-1):\n",
    "        questionarioCena = []\n",
    "        for d in range(perguntasQuestionario[c]):\n",
    "            #print(dfQuestionario.iloc[d+sum(perguntasQuestionario[:c])])\n",
    "            questionarioCena.append(dfQuestionario.iloc[p,d+sum(perguntasQuestionario[:c])])\n",
    "        questionariosPorCena.append(questionarioCena)\n",
    "    questionarios.append(questionariosPorCena)\n",
    "questionarios"
   ]
  },
  {
   "cell_type": "markdown",
   "metadata": {},
   "source": [
    "# Separar e definir os valores para análise"
   ]
  },
  {
   "cell_type": "markdown",
   "metadata": {},
   "source": [
    "## Nasa"
   ]
  },
  {
   "cell_type": "markdown",
   "metadata": {},
   "source": [
    "### Demanda Mental"
   ]
  },
  {
   "cell_type": "code",
   "execution_count": 11,
   "metadata": {},
   "outputs": [],
   "source": [
    "mdNasa = []\n",
    "for p in range(len(participantes)):\n",
    "    mdNasaPorCena = []\n",
    "    for c in range(len(cenas)):\n",
    "        mdNasaPorEtapa = []\n",
    "        for e in range(len(etapas)):\n",
    "            #print(nasa[p][c][e][0])\n",
    "            mdNasaPorEtapa.append(np.mean(nasa[p][c][e][0]))\n",
    "        mdNasaPorCena.append(mdNasaPorEtapa)\n",
    "    mdNasa.append(mdNasaPorCena)\n",
    "#mdNasa"
   ]
  },
  {
   "cell_type": "markdown",
   "metadata": {},
   "source": [
    "### Média Demanda Mental (por cenários, por participante)"
   ]
  },
  {
   "cell_type": "code",
   "execution_count": 12,
   "metadata": {},
   "outputs": [
    {
     "data": {
      "text/html": [
       "<div>\n",
       "<style scoped>\n",
       "    .dataframe tbody tr th:only-of-type {\n",
       "        vertical-align: middle;\n",
       "    }\n",
       "\n",
       "    .dataframe tbody tr th {\n",
       "        vertical-align: top;\n",
       "    }\n",
       "\n",
       "    .dataframe thead th {\n",
       "        text-align: right;\n",
       "    }\n",
       "</style>\n",
       "<table border=\"1\" class=\"dataframe\">\n",
       "  <thead>\n",
       "    <tr style=\"text-align: right;\">\n",
       "      <th></th>\n",
       "      <th>Base</th>\n",
       "      <th>Audio</th>\n",
       "      <th>Haptic Belt</th>\n",
       "      <th>Virtual Cane</th>\n",
       "      <th>Mixture</th>\n",
       "      <th>Visual Impairity</th>\n",
       "    </tr>\n",
       "    <tr>\n",
       "      <th>Participant</th>\n",
       "      <th></th>\n",
       "      <th></th>\n",
       "      <th></th>\n",
       "      <th></th>\n",
       "      <th></th>\n",
       "      <th></th>\n",
       "    </tr>\n",
       "  </thead>\n",
       "  <tbody>\n",
       "    <tr>\n",
       "      <th>001C</th>\n",
       "      <td>2.0</td>\n",
       "      <td>12.0</td>\n",
       "      <td>12.0</td>\n",
       "      <td>2.5</td>\n",
       "      <td>6.0</td>\n",
       "      <td>0</td>\n",
       "    </tr>\n",
       "    <tr>\n",
       "      <th>001</th>\n",
       "      <td>6.0</td>\n",
       "      <td>12.5</td>\n",
       "      <td>12.0</td>\n",
       "      <td>5.0</td>\n",
       "      <td>9.5</td>\n",
       "      <td>1</td>\n",
       "    </tr>\n",
       "  </tbody>\n",
       "</table>\n",
       "</div>"
      ],
      "text/plain": [
       "             Base  Audio  Haptic Belt  Virtual Cane  Mixture  Visual Impairity\n",
       "Participant                                                                   \n",
       "001C          2.0   12.0         12.0           2.5      6.0                 0\n",
       "001           6.0   12.5         12.0           5.0      9.5                 1"
      ]
     },
     "execution_count": 12,
     "metadata": {},
     "output_type": "execute_result"
    }
   ],
   "source": [
    "mdNasa_media_cen_par = []\n",
    "for p in range(len(participantes)):\n",
    "    mdNasaPorCena_media_cen_par = []\n",
    "    for c in range(len(cenas)):\n",
    "        #print(mdNasa[p][c][:])\n",
    "        #print(np.mean(mdNasa[p][c][:]))\n",
    "        mdNasaPorCena_media_cen_par.append(np.mean(mdNasa[p][c][:]))\n",
    "    mdNasa_media_cen_par.append(mdNasaPorCena_media_cen_par)\n",
    "mdNasa_media_cen_par = pd.DataFrame(mdNasa_media_cen_par, columns=nomeCenas, index = participantes.index)\n",
    "mdNasa_media_cen_par = pd.concat([mdNasa_media_cen_par,participantes.loc[:,'Deficiência']],axis = 1)\n",
    "mdNasa_media_cen_par.rename(columns = {'Deficiência' : 'Visual Impairity'}, inplace=True) \n",
    "mdNasa_media_cen_par.index.names = ['Participant']\n",
    "mdNasa_media_cen_par"
   ]
  },
  {
   "cell_type": "code",
   "execution_count": 13,
   "metadata": {},
   "outputs": [
    {
     "name": "stdout",
     "output_type": "stream",
     "text": [
      "\\begin{table}[htb]\n",
      "\\centering\n",
      "\\caption{Mental demand average grouped by guidance method and participant}\n",
      "\\label{tab:media_deman_mental_cen_part}\n",
      "\\begin{tabular}{lrrrrrr}\n",
      "\\toprule\n",
      "{} &  Base &  Audio &  Haptic Belt &  Virtual Cane &  Mixture &  Visual Impairity \\\\\n",
      "Participant &       &        &              &               &          &                   \\\\\n",
      "\\midrule\n",
      "001C        &   2.0 &   12.0 &         12.0 &           2.5 &      6.0 &                 0 \\\\\n",
      "001         &   6.0 &   12.5 &         12.0 &           5.0 &      9.5 &                 1 \\\\\n",
      "\\bottomrule\n",
      "\\end{tabular}\n",
      "\\end{table}\n",
      "\n"
     ]
    }
   ],
   "source": [
    "tabela = pd.DataFrame.to_latex(mdNasa_media_cen_par, label = 'tab:media_deman_mental_cen_part', caption = 'Mental demand average grouped by guidance method and participant', position = 'htb')\n",
    "print(tabela)\n",
    "\n",
    "with open('res_sub_tab.txt', 'a') as res_sub_tab:\n",
    "    res_sub_tab.write('\\n' +'\\n' +'Mental demand average grouped by participant and guidance method' + '\\n')\n",
    "    res_sub_tab.write('\\n' + tabela + '\\n')\n",
    "\n",
    "tabela = 0"
   ]
  },
  {
   "cell_type": "markdown",
   "metadata": {},
   "source": [
    "### Média Demanda Mental (por cenários, por deficiencia)"
   ]
  },
  {
   "cell_type": "code",
   "execution_count": 14,
   "metadata": {},
   "outputs": [
    {
     "data": {
      "text/html": [
       "<div>\n",
       "<style scoped>\n",
       "    .dataframe tbody tr th:only-of-type {\n",
       "        vertical-align: middle;\n",
       "    }\n",
       "\n",
       "    .dataframe tbody tr th {\n",
       "        vertical-align: top;\n",
       "    }\n",
       "\n",
       "    .dataframe thead th {\n",
       "        text-align: right;\n",
       "    }\n",
       "</style>\n",
       "<table border=\"1\" class=\"dataframe\">\n",
       "  <thead>\n",
       "    <tr style=\"text-align: right;\">\n",
       "      <th></th>\n",
       "      <th>Base</th>\n",
       "      <th>Audio</th>\n",
       "      <th>Haptic Belt</th>\n",
       "      <th>Virtual Cane</th>\n",
       "      <th>Mixture</th>\n",
       "    </tr>\n",
       "    <tr>\n",
       "      <th>Visual Impairity</th>\n",
       "      <th></th>\n",
       "      <th></th>\n",
       "      <th></th>\n",
       "      <th></th>\n",
       "      <th></th>\n",
       "    </tr>\n",
       "  </thead>\n",
       "  <tbody>\n",
       "    <tr>\n",
       "      <th>0</th>\n",
       "      <td>2.0</td>\n",
       "      <td>12.0</td>\n",
       "      <td>12.0</td>\n",
       "      <td>2.5</td>\n",
       "      <td>6.0</td>\n",
       "    </tr>\n",
       "    <tr>\n",
       "      <th>1</th>\n",
       "      <td>6.0</td>\n",
       "      <td>12.5</td>\n",
       "      <td>12.0</td>\n",
       "      <td>5.0</td>\n",
       "      <td>9.5</td>\n",
       "    </tr>\n",
       "  </tbody>\n",
       "</table>\n",
       "</div>"
      ],
      "text/plain": [
       "                  Base  Audio  Haptic Belt  Virtual Cane  Mixture\n",
       "Visual Impairity                                                 \n",
       "0                  2.0   12.0         12.0           2.5      6.0\n",
       "1                  6.0   12.5         12.0           5.0      9.5"
      ]
     },
     "execution_count": 14,
     "metadata": {},
     "output_type": "execute_result"
    }
   ],
   "source": [
    "mdNasa_media_cen_def = mdNasa_media_cen_par.groupby(by = 'Visual Impairity').mean()\n",
    "mdNasa_media_cen_def"
   ]
  },
  {
   "cell_type": "code",
   "execution_count": 15,
   "metadata": {},
   "outputs": [
    {
     "name": "stdout",
     "output_type": "stream",
     "text": [
      "\\begin{table}[htb]\n",
      "\\centering\n",
      "\\caption{Mental demand average grouped by participant and visual imparity}\n",
      "\\label{tab:media_deman_mental_cen_def}\n",
      "\\begin{tabular}{lrrrrr}\n",
      "\\toprule\n",
      "{} &  Base &  Audio &  Haptic Belt &  Virtual Cane &  Mixture \\\\\n",
      "Visual Impairity &       &        &              &               &          \\\\\n",
      "\\midrule\n",
      "0                &   2.0 &   12.0 &         12.0 &           2.5 &      6.0 \\\\\n",
      "1                &   6.0 &   12.5 &         12.0 &           5.0 &      9.5 \\\\\n",
      "\\bottomrule\n",
      "\\end{tabular}\n",
      "\\end{table}\n",
      "\n"
     ]
    }
   ],
   "source": [
    "tabela = pd.DataFrame.to_latex(mdNasa_media_cen_def, label = 'tab:media_deman_mental_cen_def', caption = 'Mental demand average grouped by participant and visual imparity', position = 'htb')\n",
    "print(tabela)\n",
    "\n",
    "with open('res_sub_tab.txt', 'a') as res_sub_tab:\n",
    "    res_sub_tab.write('\\n' +'\\n' +'Mental demand average grouped by participant and visual imparity'+ '\\n')\n",
    "    res_sub_tab.write('\\n' + tabela + '\\n')\n",
    "\n",
    "tabela = 0"
   ]
  },
  {
   "cell_type": "markdown",
   "metadata": {},
   "source": [
    "### Carga Mental"
   ]
  },
  {
   "cell_type": "code",
   "execution_count": 16,
   "metadata": {},
   "outputs": [],
   "source": [
    "cdNasa = []\n",
    "for p in range(len(participantes)):\n",
    "    cdNasaPorCena = []\n",
    "    for c in range(len(cenas)):\n",
    "        cdNasaPorEtapa = []\n",
    "        for e in range(len(etapas)):\n",
    "            #print(nasa[p][c][e][:])\n",
    "            cdNasaPorEtapa.append(np.mean(nasa[p][c][e][:]))\n",
    "        cdNasaPorCena.append(cdNasaPorEtapa)\n",
    "    cdNasa.append(cdNasaPorCena)\n",
    "#cdNasa"
   ]
  },
  {
   "cell_type": "markdown",
   "metadata": {},
   "source": [
    "### Média Carga Mental (por cenários, por participante)"
   ]
  },
  {
   "cell_type": "code",
   "execution_count": 17,
   "metadata": {},
   "outputs": [
    {
     "data": {
      "text/html": [
       "<div>\n",
       "<style scoped>\n",
       "    .dataframe tbody tr th:only-of-type {\n",
       "        vertical-align: middle;\n",
       "    }\n",
       "\n",
       "    .dataframe tbody tr th {\n",
       "        vertical-align: top;\n",
       "    }\n",
       "\n",
       "    .dataframe thead th {\n",
       "        text-align: right;\n",
       "    }\n",
       "</style>\n",
       "<table border=\"1\" class=\"dataframe\">\n",
       "  <thead>\n",
       "    <tr style=\"text-align: right;\">\n",
       "      <th></th>\n",
       "      <th>Base</th>\n",
       "      <th>Audio</th>\n",
       "      <th>Haptic Belt</th>\n",
       "      <th>Virtual Cane</th>\n",
       "      <th>Mixture</th>\n",
       "      <th>Visual Impairity</th>\n",
       "    </tr>\n",
       "    <tr>\n",
       "      <th>Participant</th>\n",
       "      <th></th>\n",
       "      <th></th>\n",
       "      <th></th>\n",
       "      <th></th>\n",
       "      <th></th>\n",
       "      <th></th>\n",
       "    </tr>\n",
       "  </thead>\n",
       "  <tbody>\n",
       "    <tr>\n",
       "      <th>001C</th>\n",
       "      <td>4.500000</td>\n",
       "      <td>7.750000</td>\n",
       "      <td>7.75</td>\n",
       "      <td>4.833333</td>\n",
       "      <td>6.250000</td>\n",
       "      <td>0</td>\n",
       "    </tr>\n",
       "    <tr>\n",
       "      <th>001</th>\n",
       "      <td>7.916667</td>\n",
       "      <td>10.583333</td>\n",
       "      <td>14.75</td>\n",
       "      <td>6.916667</td>\n",
       "      <td>9.166667</td>\n",
       "      <td>1</td>\n",
       "    </tr>\n",
       "  </tbody>\n",
       "</table>\n",
       "</div>"
      ],
      "text/plain": [
       "                 Base      Audio  Haptic Belt  Virtual Cane   Mixture  \\\n",
       "Participant                                                             \n",
       "001C         4.500000   7.750000         7.75      4.833333  6.250000   \n",
       "001          7.916667  10.583333        14.75      6.916667  9.166667   \n",
       "\n",
       "             Visual Impairity  \n",
       "Participant                    \n",
       "001C                        0  \n",
       "001                         1  "
      ]
     },
     "execution_count": 17,
     "metadata": {},
     "output_type": "execute_result"
    }
   ],
   "source": [
    "cdNasa_media_cen_par = []\n",
    "for p in range(len(participantes)):\n",
    "    cdNasaPorCena_media_cen_par = []\n",
    "    for c in range(len(cenas)):\n",
    "        #print(cdNasa[p][c][:])\n",
    "        #print(np.mean(cdNasa[p][c][:]))\n",
    "        cdNasaPorCena_media_cen_par.append(np.mean(cdNasa[p][c][:]))\n",
    "    cdNasa_media_cen_par.append(cdNasaPorCena_media_cen_par)\n",
    "cdNasa_media_cen_par = pd.DataFrame(cdNasa_media_cen_par, columns=nomeCenas, index = participantes.index)\n",
    "cdNasa_media_cen_par = pd.concat([cdNasa_media_cen_par,participantes.loc[:,'Deficiência']],axis = 1)\n",
    "cdNasa_media_cen_par.rename(columns = {'Deficiência' : 'Visual Impairity'}, inplace=True) \n",
    "cdNasa_media_cen_par.index.names = ['Participant']\n",
    "cdNasa_media_cen_par"
   ]
  },
  {
   "cell_type": "code",
   "execution_count": 18,
   "metadata": {},
   "outputs": [
    {
     "name": "stdout",
     "output_type": "stream",
     "text": [
      "\\begin{table}[htb]\n",
      "\\centering\n",
      "\\caption{Mental workload average grouped by participant and guidance method}\n",
      "\\label{tab:media_carg_mental_cen_part}\n",
      "\\begin{tabular}{lrrrrrr}\n",
      "\\toprule\n",
      "{} &      Base &      Audio &  Haptic Belt &  Virtual Cane &   Mixture &  Visual Impairity \\\\\n",
      "Participant &           &            &              &               &           &                   \\\\\n",
      "\\midrule\n",
      "001C        &  4.500000 &   7.750000 &         7.75 &      4.833333 &  6.250000 &                 0 \\\\\n",
      "001         &  7.916667 &  10.583333 &        14.75 &      6.916667 &  9.166667 &                 1 \\\\\n",
      "\\bottomrule\n",
      "\\end{tabular}\n",
      "\\end{table}\n",
      "\n"
     ]
    }
   ],
   "source": [
    "tabela = pd.DataFrame.to_latex(cdNasa_media_cen_par, label = 'tab:media_carg_mental_cen_part', caption = 'Mental workload average grouped by participant and guidance method', position = 'htb')\n",
    "print(tabela)\n",
    "\n",
    "with open('res_sub_tab.txt', 'a') as res_sub_tab:\n",
    "    res_sub_tab.write('\\n' +'\\n' + 'Mental workload average grouped by participant and guidance method'+ '\\n')\n",
    "    res_sub_tab.write('\\n' + tabela + '\\n')\n",
    "\n",
    "tabela = 0"
   ]
  },
  {
   "cell_type": "markdown",
   "metadata": {},
   "source": [
    "### Média Carga Mental (por cenários, por deficiencia)"
   ]
  },
  {
   "cell_type": "code",
   "execution_count": 19,
   "metadata": {},
   "outputs": [
    {
     "data": {
      "text/html": [
       "<div>\n",
       "<style scoped>\n",
       "    .dataframe tbody tr th:only-of-type {\n",
       "        vertical-align: middle;\n",
       "    }\n",
       "\n",
       "    .dataframe tbody tr th {\n",
       "        vertical-align: top;\n",
       "    }\n",
       "\n",
       "    .dataframe thead th {\n",
       "        text-align: right;\n",
       "    }\n",
       "</style>\n",
       "<table border=\"1\" class=\"dataframe\">\n",
       "  <thead>\n",
       "    <tr style=\"text-align: right;\">\n",
       "      <th></th>\n",
       "      <th>Base</th>\n",
       "      <th>Audio</th>\n",
       "      <th>Haptic Belt</th>\n",
       "      <th>Virtual Cane</th>\n",
       "      <th>Mixture</th>\n",
       "    </tr>\n",
       "    <tr>\n",
       "      <th>Visual Impairity</th>\n",
       "      <th></th>\n",
       "      <th></th>\n",
       "      <th></th>\n",
       "      <th></th>\n",
       "      <th></th>\n",
       "    </tr>\n",
       "  </thead>\n",
       "  <tbody>\n",
       "    <tr>\n",
       "      <th>0</th>\n",
       "      <td>4.500000</td>\n",
       "      <td>7.750000</td>\n",
       "      <td>7.75</td>\n",
       "      <td>4.833333</td>\n",
       "      <td>6.250000</td>\n",
       "    </tr>\n",
       "    <tr>\n",
       "      <th>1</th>\n",
       "      <td>7.916667</td>\n",
       "      <td>10.583333</td>\n",
       "      <td>14.75</td>\n",
       "      <td>6.916667</td>\n",
       "      <td>9.166667</td>\n",
       "    </tr>\n",
       "  </tbody>\n",
       "</table>\n",
       "</div>"
      ],
      "text/plain": [
       "                      Base      Audio  Haptic Belt  Virtual Cane   Mixture\n",
       "Visual Impairity                                                          \n",
       "0                 4.500000   7.750000         7.75      4.833333  6.250000\n",
       "1                 7.916667  10.583333        14.75      6.916667  9.166667"
      ]
     },
     "execution_count": 19,
     "metadata": {},
     "output_type": "execute_result"
    }
   ],
   "source": [
    "cdNasa_media_cen_def  = cdNasa_media_cen_par.groupby(by = 'Visual Impairity').mean()\n",
    "cdNasa_media_cen_def"
   ]
  },
  {
   "cell_type": "markdown",
   "metadata": {},
   "source": [
    "## Sagat"
   ]
  },
  {
   "cell_type": "markdown",
   "metadata": {},
   "source": [
    "### Pontuação global Sagat"
   ]
  },
  {
   "cell_type": "code",
   "execution_count": 20,
   "metadata": {},
   "outputs": [],
   "source": [
    "saSagat = []\n",
    "for p in range(len(participantes)):\n",
    "    saSagatPorCena = []\n",
    "    for c in range(len(cenas)):\n",
    "        saSagatPorEtapa = []\n",
    "        for e in range(len(etapas)):\n",
    "            #print(sagat[p][c][e][:])\n",
    "            saSagatPorEtapa.append(np.mean(sagat[p][c][e][:]))\n",
    "        saSagatPorCena.append(saSagatPorEtapa)\n",
    "    saSagat.append(saSagatPorCena)\n",
    "#saSagat"
   ]
  },
  {
   "cell_type": "markdown",
   "metadata": {},
   "source": [
    "### Média pontuação global Sagat (por cenários, por participante)"
   ]
  },
  {
   "cell_type": "code",
   "execution_count": 21,
   "metadata": {},
   "outputs": [
    {
     "data": {
      "text/html": [
       "<div>\n",
       "<style scoped>\n",
       "    .dataframe tbody tr th:only-of-type {\n",
       "        vertical-align: middle;\n",
       "    }\n",
       "\n",
       "    .dataframe tbody tr th {\n",
       "        vertical-align: top;\n",
       "    }\n",
       "\n",
       "    .dataframe thead th {\n",
       "        text-align: right;\n",
       "    }\n",
       "</style>\n",
       "<table border=\"1\" class=\"dataframe\">\n",
       "  <thead>\n",
       "    <tr style=\"text-align: right;\">\n",
       "      <th></th>\n",
       "      <th>Base</th>\n",
       "      <th>Audio</th>\n",
       "      <th>Haptic Belt</th>\n",
       "      <th>Virtual Cane</th>\n",
       "      <th>Mixture</th>\n",
       "      <th>Visual Impairity</th>\n",
       "    </tr>\n",
       "    <tr>\n",
       "      <th>Participant</th>\n",
       "      <th></th>\n",
       "      <th></th>\n",
       "      <th></th>\n",
       "      <th></th>\n",
       "      <th></th>\n",
       "      <th></th>\n",
       "    </tr>\n",
       "  </thead>\n",
       "  <tbody>\n",
       "    <tr>\n",
       "      <th>001C</th>\n",
       "      <td>0.575</td>\n",
       "      <td>0.6955</td>\n",
       "      <td>0.675</td>\n",
       "      <td>0.500</td>\n",
       "      <td>0.4500</td>\n",
       "      <td>0</td>\n",
       "    </tr>\n",
       "    <tr>\n",
       "      <th>001</th>\n",
       "      <td>1.000</td>\n",
       "      <td>0.5750</td>\n",
       "      <td>0.458</td>\n",
       "      <td>0.483</td>\n",
       "      <td>0.6875</td>\n",
       "      <td>1</td>\n",
       "    </tr>\n",
       "  </tbody>\n",
       "</table>\n",
       "</div>"
      ],
      "text/plain": [
       "              Base   Audio  Haptic Belt  Virtual Cane  Mixture  \\\n",
       "Participant                                                      \n",
       "001C         0.575  0.6955        0.675         0.500   0.4500   \n",
       "001          1.000  0.5750        0.458         0.483   0.6875   \n",
       "\n",
       "             Visual Impairity  \n",
       "Participant                    \n",
       "001C                        0  \n",
       "001                         1  "
      ]
     },
     "execution_count": 21,
     "metadata": {},
     "output_type": "execute_result"
    }
   ],
   "source": [
    "saSagat_media_cen_par = []\n",
    "for p in range(len(participantes)):\n",
    "    saSagatPorCena_media_cen_par = []\n",
    "    for c in range(len(cenas)):\n",
    "        #print(saSagat[p][c][:])\n",
    "        #print(np.mean(saSagat[p][c][:]))\n",
    "        saSagatPorCena_media_cen_par.append(np.mean(saSagat[p][c][:]))\n",
    "    saSagat_media_cen_par.append(saSagatPorCena_media_cen_par)\n",
    "saSagat_media_cen_par = pd.DataFrame(saSagat_media_cen_par, columns=nomeCenas, index = participantes.index)\n",
    "saSagat_media_cen_par = pd.concat([saSagat_media_cen_par,participantes.loc[:,'Deficiência']],axis = 1)\n",
    "saSagat_media_cen_par.rename(columns = {'Deficiência' : 'Visual Impairity'}, inplace=True) \n",
    "saSagat_media_cen_par.index.names = ['Participant']\n",
    "saSagat_media_cen_par"
   ]
  },
  {
   "cell_type": "markdown",
   "metadata": {},
   "source": [
    "### Média pontuação global Sagat (por cenários, por deficiencia)"
   ]
  },
  {
   "cell_type": "code",
   "execution_count": 22,
   "metadata": {},
   "outputs": [
    {
     "data": {
      "text/html": [
       "<div>\n",
       "<style scoped>\n",
       "    .dataframe tbody tr th:only-of-type {\n",
       "        vertical-align: middle;\n",
       "    }\n",
       "\n",
       "    .dataframe tbody tr th {\n",
       "        vertical-align: top;\n",
       "    }\n",
       "\n",
       "    .dataframe thead th {\n",
       "        text-align: right;\n",
       "    }\n",
       "</style>\n",
       "<table border=\"1\" class=\"dataframe\">\n",
       "  <thead>\n",
       "    <tr style=\"text-align: right;\">\n",
       "      <th></th>\n",
       "      <th>Base</th>\n",
       "      <th>Audio</th>\n",
       "      <th>Haptic Belt</th>\n",
       "      <th>Virtual Cane</th>\n",
       "      <th>Mixture</th>\n",
       "    </tr>\n",
       "    <tr>\n",
       "      <th>Visual Impairity</th>\n",
       "      <th></th>\n",
       "      <th></th>\n",
       "      <th></th>\n",
       "      <th></th>\n",
       "      <th></th>\n",
       "    </tr>\n",
       "  </thead>\n",
       "  <tbody>\n",
       "    <tr>\n",
       "      <th>0</th>\n",
       "      <td>0.575</td>\n",
       "      <td>0.6955</td>\n",
       "      <td>0.675</td>\n",
       "      <td>0.500</td>\n",
       "      <td>0.4500</td>\n",
       "    </tr>\n",
       "    <tr>\n",
       "      <th>1</th>\n",
       "      <td>1.000</td>\n",
       "      <td>0.5750</td>\n",
       "      <td>0.458</td>\n",
       "      <td>0.483</td>\n",
       "      <td>0.6875</td>\n",
       "    </tr>\n",
       "  </tbody>\n",
       "</table>\n",
       "</div>"
      ],
      "text/plain": [
       "                   Base   Audio  Haptic Belt  Virtual Cane  Mixture\n",
       "Visual Impairity                                                   \n",
       "0                 0.575  0.6955        0.675         0.500   0.4500\n",
       "1                 1.000  0.5750        0.458         0.483   0.6875"
      ]
     },
     "execution_count": 22,
     "metadata": {},
     "output_type": "execute_result"
    }
   ],
   "source": [
    "saSagat_media_cen_def = saSagat_media_cen_par.groupby(by = 'Visual Impairity').mean()\n",
    "saSagat_media_cen_def"
   ]
  },
  {
   "cell_type": "markdown",
   "metadata": {},
   "source": [
    "## Questionários sobre os métodos"
   ]
  },
  {
   "cell_type": "markdown",
   "metadata": {},
   "source": [
    "### Pontuação global guiagem"
   ]
  },
  {
   "cell_type": "code",
   "execution_count": 23,
   "metadata": {},
   "outputs": [
    {
     "data": {
      "text/html": [
       "<div>\n",
       "<style scoped>\n",
       "    .dataframe tbody tr th:only-of-type {\n",
       "        vertical-align: middle;\n",
       "    }\n",
       "\n",
       "    .dataframe tbody tr th {\n",
       "        vertical-align: top;\n",
       "    }\n",
       "\n",
       "    .dataframe thead th {\n",
       "        text-align: right;\n",
       "    }\n",
       "</style>\n",
       "<table border=\"1\" class=\"dataframe\">\n",
       "  <thead>\n",
       "    <tr style=\"text-align: right;\">\n",
       "      <th></th>\n",
       "      <th>Audio</th>\n",
       "      <th>Haptic Belt</th>\n",
       "      <th>Virtual Cane</th>\n",
       "      <th>Mixture</th>\n",
       "      <th>Visual Impairity</th>\n",
       "    </tr>\n",
       "    <tr>\n",
       "      <th>Participant</th>\n",
       "      <th></th>\n",
       "      <th></th>\n",
       "      <th></th>\n",
       "      <th></th>\n",
       "      <th></th>\n",
       "    </tr>\n",
       "  </thead>\n",
       "  <tbody>\n",
       "    <tr>\n",
       "      <th>001C</th>\n",
       "      <td>3.333333</td>\n",
       "      <td>3.8</td>\n",
       "      <td>3.2</td>\n",
       "      <td>2.555556</td>\n",
       "      <td>0</td>\n",
       "    </tr>\n",
       "    <tr>\n",
       "      <th>001</th>\n",
       "      <td>5.000000</td>\n",
       "      <td>3.4</td>\n",
       "      <td>3.0</td>\n",
       "      <td>3.666667</td>\n",
       "      <td>1</td>\n",
       "    </tr>\n",
       "  </tbody>\n",
       "</table>\n",
       "</div>"
      ],
      "text/plain": [
       "                Audio  Haptic Belt  Virtual Cane   Mixture  Visual Impairity\n",
       "Participant                                                                 \n",
       "001C         3.333333          3.8           3.2  2.555556                 0\n",
       "001          5.000000          3.4           3.0  3.666667                 1"
      ]
     },
     "execution_count": 23,
     "metadata": {},
     "output_type": "execute_result"
    }
   ],
   "source": [
    "pgQuestionario_media = []\n",
    "for p in range(len(participantes)):\n",
    "    pgQuestionarioPorCena = []\n",
    "    for c in range(len(cenas)-1):\n",
    "        pgQuestionarioCena = 0\n",
    "        if (c == 2 or c == 3):\n",
    "            #print(questionarios[p][c][:len(questionarios[p][c])-2])\n",
    "            pgQuestionarioCena = np.mean(np.mean(questionarios[p][c][:len(questionarios[p][c])-2]))\n",
    "        else:\n",
    "            #print(questionarios[p][c][:len(questionarios[p][c])-1])\n",
    "            pgQuestionarioCena = np.mean(np.mean(questionarios[p][c][:len(questionarios[p][c])-1]))\n",
    "        pgQuestionarioPorCena.append(pgQuestionarioCena)\n",
    "    pgQuestionario_media.append(pgQuestionarioPorCena)\n",
    "pgQuestionario_media = pd.DataFrame(pgQuestionario_media, columns=nomeCenas[1:5], index = participantes.index)\n",
    "pgQuestionario_media = pd.concat([pgQuestionario_media,participantes.loc[:,'Deficiência']],axis = 1)\n",
    "pgQuestionario_media.rename(columns = {'Deficiência' : 'Visual Impairity'}, inplace=True) \n",
    "pgQuestionario_media.index.names = ['Participant']\n",
    "pgQuestionario_media\n"
   ]
  },
  {
   "cell_type": "markdown",
   "metadata": {},
   "source": [
    "### Média pontuação global guiagem (por cenários, por deficiencia)"
   ]
  },
  {
   "cell_type": "code",
   "execution_count": 24,
   "metadata": {},
   "outputs": [
    {
     "data": {
      "text/html": [
       "<div>\n",
       "<style scoped>\n",
       "    .dataframe tbody tr th:only-of-type {\n",
       "        vertical-align: middle;\n",
       "    }\n",
       "\n",
       "    .dataframe tbody tr th {\n",
       "        vertical-align: top;\n",
       "    }\n",
       "\n",
       "    .dataframe thead th {\n",
       "        text-align: right;\n",
       "    }\n",
       "</style>\n",
       "<table border=\"1\" class=\"dataframe\">\n",
       "  <thead>\n",
       "    <tr style=\"text-align: right;\">\n",
       "      <th></th>\n",
       "      <th>Audio</th>\n",
       "      <th>Haptic Belt</th>\n",
       "      <th>Virtual Cane</th>\n",
       "      <th>Mixture</th>\n",
       "    </tr>\n",
       "    <tr>\n",
       "      <th>Visual Impairity</th>\n",
       "      <th></th>\n",
       "      <th></th>\n",
       "      <th></th>\n",
       "      <th></th>\n",
       "    </tr>\n",
       "  </thead>\n",
       "  <tbody>\n",
       "    <tr>\n",
       "      <th>0</th>\n",
       "      <td>3.333333</td>\n",
       "      <td>3.8</td>\n",
       "      <td>3.2</td>\n",
       "      <td>2.555556</td>\n",
       "    </tr>\n",
       "    <tr>\n",
       "      <th>1</th>\n",
       "      <td>5.000000</td>\n",
       "      <td>3.4</td>\n",
       "      <td>3.0</td>\n",
       "      <td>3.666667</td>\n",
       "    </tr>\n",
       "  </tbody>\n",
       "</table>\n",
       "</div>"
      ],
      "text/plain": [
       "                     Audio  Haptic Belt  Virtual Cane   Mixture\n",
       "Visual Impairity                                               \n",
       "0                 3.333333          3.8           3.2  2.555556\n",
       "1                 5.000000          3.4           3.0  3.666667"
      ]
     },
     "execution_count": 24,
     "metadata": {},
     "output_type": "execute_result"
    }
   ],
   "source": [
    "pgQuestionario_media_def = pgQuestionario_media.groupby(by = 'Visual Impairity').mean()\n",
    "pgQuestionario_media_def"
   ]
  },
  {
   "cell_type": "markdown",
   "metadata": {},
   "source": [
    "# Analisar os dados do NASA-TLX usando ANOVA"
   ]
  },
  {
   "cell_type": "code",
   "execution_count": 25,
   "metadata": {},
   "outputs": [
    {
     "ename": "NameError",
     "evalue": "name 'dimensoesNasa_melt' is not defined",
     "output_type": "error",
     "traceback": [
      "\u001b[1;31m---------------------------------------------------------------------------\u001b[0m",
      "\u001b[1;31mNameError\u001b[0m                                 Traceback (most recent call last)",
      "\u001b[1;32m<ipython-input-25-06a024e07d58>\u001b[0m in \u001b[0;36m<module>\u001b[1;34m\u001b[0m\n\u001b[0;32m      1\u001b[0m \u001b[1;31m# Gerar um boxplot para ver a distribuição dos tratamentos e ver como está o comportamento da variância\u001b[0m\u001b[1;33m\u001b[0m\u001b[1;33m\u001b[0m\u001b[1;33m\u001b[0m\u001b[0m\n\u001b[0;32m      2\u001b[0m \u001b[0mplt\u001b[0m\u001b[1;33m.\u001b[0m\u001b[0mfigure\u001b[0m\u001b[1;33m(\u001b[0m\u001b[0mfigsize\u001b[0m\u001b[1;33m=\u001b[0m\u001b[1;33m(\u001b[0m\u001b[1;36m16\u001b[0m\u001b[1;33m,\u001b[0m \u001b[1;36m12\u001b[0m\u001b[1;33m)\u001b[0m\u001b[1;33m)\u001b[0m\u001b[1;33m\u001b[0m\u001b[1;33m\u001b[0m\u001b[0m\n\u001b[1;32m----> 3\u001b[1;33m \u001b[0mbp\u001b[0m \u001b[1;33m=\u001b[0m \u001b[0msns\u001b[0m\u001b[1;33m.\u001b[0m\u001b[0mboxplot\u001b[0m\u001b[1;33m(\u001b[0m\u001b[0mx\u001b[0m\u001b[1;33m=\u001b[0m\u001b[1;34m'Método'\u001b[0m\u001b[1;33m,\u001b[0m \u001b[0mhue\u001b[0m\u001b[1;33m=\u001b[0m\u001b[1;34m'Etapa'\u001b[0m\u001b[1;33m,\u001b[0m \u001b[0my\u001b[0m\u001b[1;33m=\u001b[0m\u001b[1;34m'value'\u001b[0m\u001b[1;33m,\u001b[0m \u001b[0mdata\u001b[0m\u001b[1;33m=\u001b[0m\u001b[0mdimensoesNasa_melt\u001b[0m\u001b[1;33m[\u001b[0m\u001b[1;36m0\u001b[0m\u001b[1;33m]\u001b[0m\u001b[1;33m,\u001b[0m \u001b[0mcolor\u001b[0m\u001b[1;33m=\u001b[0m\u001b[1;34m'#99c2a2'\u001b[0m\u001b[1;33m)\u001b[0m\u001b[1;33m\u001b[0m\u001b[1;33m\u001b[0m\u001b[0m\n\u001b[0m\u001b[0;32m      4\u001b[0m \u001b[0msp\u001b[0m \u001b[1;33m=\u001b[0m \u001b[0msns\u001b[0m\u001b[1;33m.\u001b[0m\u001b[0mswarmplot\u001b[0m\u001b[1;33m(\u001b[0m\u001b[0mx\u001b[0m\u001b[1;33m=\u001b[0m\u001b[1;34m\"Método\"\u001b[0m\u001b[1;33m,\u001b[0m \u001b[0mhue\u001b[0m\u001b[1;33m=\u001b[0m\u001b[1;34m'Etapa'\u001b[0m\u001b[1;33m,\u001b[0m \u001b[0my\u001b[0m\u001b[1;33m=\u001b[0m\u001b[1;34m\"value\"\u001b[0m\u001b[1;33m,\u001b[0m \u001b[0mdata\u001b[0m\u001b[1;33m=\u001b[0m\u001b[0mdimensoesNasa_melt\u001b[0m\u001b[1;33m[\u001b[0m\u001b[1;36m0\u001b[0m\u001b[1;33m]\u001b[0m\u001b[1;33m,\u001b[0m \u001b[0mcolor\u001b[0m\u001b[1;33m=\u001b[0m\u001b[1;34m'#7d0013'\u001b[0m\u001b[1;33m)\u001b[0m\u001b[1;33m\u001b[0m\u001b[1;33m\u001b[0m\u001b[0m\n\u001b[0;32m      5\u001b[0m \u001b[0mplt\u001b[0m\u001b[1;33m.\u001b[0m\u001b[0mshow\u001b[0m\u001b[1;33m(\u001b[0m\u001b[1;33m)\u001b[0m\u001b[1;33m\u001b[0m\u001b[1;33m\u001b[0m\u001b[0m\n",
      "\u001b[1;31mNameError\u001b[0m: name 'dimensoesNasa_melt' is not defined"
     ]
    },
    {
     "data": {
      "text/plain": [
       "<Figure size 1152x864 with 0 Axes>"
      ]
     },
     "metadata": {},
     "output_type": "display_data"
    }
   ],
   "source": [
    "# Gerar um boxplot para ver a distribuição dos tratamentos e ver como está o comportamento da variância\n",
    "plt.figure(figsize=(16, 12))\n",
    "bp = sns.boxplot(x='Método', hue='Etapa', y='value', data=dimensoesNasa_melt[0], color='#99c2a2')\n",
    "sp = sns.swarmplot(x=\"Método\", hue='Etapa', y=\"value\", data=dimensoesNasa_melt[0], color='#7d0013')\n",
    "plt.show()"
   ]
  },
  {
   "cell_type": "code",
   "execution_count": null,
   "metadata": {},
   "outputs": [
    {
     "name": "stdout",
     "output_type": "stream",
     "text": [
      "0.5903765552292003 0.8018383462480272\n"
     ]
    },
    {
     "name": "stderr",
     "output_type": "stream",
     "text": [
      "<string>:1: SyntaxWarning: 'int' object is not callable; perhaps you missed a comma?\n"
     ]
    }
   ],
   "source": [
    "# stats f_oneway functions takes the groups as input and returns ANOVA F and p value\n",
    "fvalue, pvalue = stats.f_oneway(dimensoesNasa_pivot[0]['1,1'],dimensoesNasa_pivot[0]['1,2'],dimensoesNasa_pivot[0]['2,1'],dimensoesNasa_pivot[0]['2,2'],dimensoesNasa_pivot[0]['3,1'],dimensoesNasa_pivot[0]['3,2'],dimensoesNasa_pivot[0]['4,1'],dimensoesNasa_pivot[0]['4,2'],dimensoesNasa_pivot[0]['5,1'],dimensoesNasa_pivot[0]['5,2'])\n",
    "print(fvalue, pvalue)\n",
    "# 17.492810457516338 2.639241146210922e-05\n",
    "\n",
    "# Ordinary Least Squares (OLS) model\n",
    "model = ols('value ~ 4(Método)', data=dimensoesNasa_melt).fit()\n",
    "anova_table = sm.stats.anova_lm(model, typ=2)\n",
    "anova_table\n",
    "## output (ANOVA F and p value)\n",
    "#                sum_sq    df         F    PR(>F)\n",
    "#C(treatments)  3010.95   3.0  17.49281  0.000026\n",
    "#Residual        918.00  16.0       NaN       NaN\n",
    "#\n",
    "## ANOVA table using bioinfokit v1.0.3 or later (it uses wrapper script for anova_lm)\n",
    "#from bioinfokit.analys import stat\n",
    "#res = stat()\n",
    "#res.anova_stat(df=df_melt, res_var='value', anova_model='value ~ C(treatments)')\n",
    "#res.anova_summary\n",
    "## output (ANOVA F and p value)\n",
    "#                 df   sum_sq   mean_sq         F    PR(>F)\n",
    "#C(treatments)   3.0  3010.95  1003.650  17.49281  0.000026\n",
    "#Residual       16.0   918.00    57.375       NaN       NaN\n",
    "#\n",
    "## note: if the data is balanced (equal sample size for each group), Type 1, 2, and 3 sums of squares\n",
    "## (typ parameter) will produce similar results."
   ]
  },
  {
   "cell_type": "code",
   "execution_count": null,
   "metadata": {},
   "outputs": [
    {
     "data": {
      "text/plain": [
       "[    Participante  Método  Etapa Cena Dimensões do NASA  value\n",
       " 0              1       1      1  1,1    Demanda Mental      5\n",
       " 1              1       1      2  1,2    Demanda Mental     15\n",
       " 2              1       2      1  2,1    Demanda Mental      1\n",
       " 3              1       2      2  2,2    Demanda Mental      9\n",
       " 4              1       3      1  3,1    Demanda Mental      1\n",
       " ..           ...     ...    ...  ...               ...    ...\n",
       " 95            10       3      2  3,2    Demanda Mental      4\n",
       " 96            10       4      1  4,1    Demanda Mental      1\n",
       " 97            10       4      2  4,2    Demanda Mental      1\n",
       " 98            10       5      1  5,1    Demanda Mental     10\n",
       " 99            10       5      2  5,2    Demanda Mental     19\n",
       " \n",
       " [100 rows x 6 columns],\n",
       "     Participante  Método  Etapa Cena Dimensões do NASA  value\n",
       " 0              1       1      1  1,1    Demanda física     19\n",
       " 1              1       1      2  1,2    Demanda física     16\n",
       " 2              1       2      1  2,1    Demanda física     13\n",
       " 3              1       2      2  2,2    Demanda física      8\n",
       " 4              1       3      1  3,1    Demanda física      1\n",
       " ..           ...     ...    ...  ...               ...    ...\n",
       " 95            10       3      2  3,2    Demanda física     10\n",
       " 96            10       4      1  4,1    Demanda física      7\n",
       " 97            10       4      2  4,2    Demanda física     20\n",
       " 98            10       5      1  5,1    Demanda física      5\n",
       " 99            10       5      2  5,2    Demanda física      9\n",
       " \n",
       " [100 rows x 6 columns],\n",
       "     Participante  Método  Etapa Cena Dimensões do NASA  value\n",
       " 0              1       1      1  1,1  Demanda Temporal      3\n",
       " 1              1       1      2  1,2  Demanda Temporal     13\n",
       " 2              1       2      1  2,1  Demanda Temporal     14\n",
       " 3              1       2      2  2,2  Demanda Temporal     19\n",
       " 4              1       3      1  3,1  Demanda Temporal     18\n",
       " ..           ...     ...    ...  ...               ...    ...\n",
       " 95            10       3      2  3,2  Demanda Temporal      9\n",
       " 96            10       4      1  4,1  Demanda Temporal     17\n",
       " 97            10       4      2  4,2  Demanda Temporal      8\n",
       " 98            10       5      1  5,1  Demanda Temporal     18\n",
       " 99            10       5      2  5,2  Demanda Temporal     15\n",
       " \n",
       " [100 rows x 6 columns],\n",
       "     Participante  Método  Etapa Cena Dimensões do NASA  value\n",
       " 0              1       1      1  1,1        Perfomance      9\n",
       " 1              1       1      2  1,2        Perfomance      7\n",
       " 2              1       2      1  2,1        Perfomance     20\n",
       " 3              1       2      2  2,2        Perfomance      4\n",
       " 4              1       3      1  3,1        Perfomance      1\n",
       " ..           ...     ...    ...  ...               ...    ...\n",
       " 95            10       3      2  3,2        Perfomance      8\n",
       " 96            10       4      1  4,1        Perfomance     15\n",
       " 97            10       4      2  4,2        Perfomance      9\n",
       " 98            10       5      1  5,1        Perfomance      7\n",
       " 99            10       5      2  5,2        Perfomance      6\n",
       " \n",
       " [100 rows x 6 columns],\n",
       "     Participante  Método  Etapa Cena Dimensões do NASA  value\n",
       " 0              1       1      1  1,1           Esforço      4\n",
       " 1              1       1      2  1,2           Esforço      4\n",
       " 2              1       2      1  2,1           Esforço      1\n",
       " 3              1       2      2  2,2           Esforço     11\n",
       " 4              1       3      1  3,1           Esforço     13\n",
       " ..           ...     ...    ...  ...               ...    ...\n",
       " 95            10       3      2  3,2           Esforço     13\n",
       " 96            10       4      1  4,1           Esforço     19\n",
       " 97            10       4      2  4,2           Esforço      7\n",
       " 98            10       5      1  5,1           Esforço      9\n",
       " 99            10       5      2  5,2           Esforço     18\n",
       " \n",
       " [100 rows x 6 columns],\n",
       "     Participante  Método  Etapa Cena Dimensões do NASA  value\n",
       " 0              1       1      1  1,1         Frustação     16\n",
       " 1              1       1      2  1,2         Frustação     16\n",
       " 2              1       2      1  2,1         Frustação     15\n",
       " 3              1       2      2  2,2         Frustação      1\n",
       " 4              1       3      1  3,1         Frustação      7\n",
       " ..           ...     ...    ...  ...               ...    ...\n",
       " 95            10       3      2  3,2         Frustação     18\n",
       " 96            10       4      1  4,1         Frustação      1\n",
       " 97            10       4      2  4,2         Frustação      6\n",
       " 98            10       5      1  5,1         Frustação     10\n",
       " 99            10       5      2  5,2         Frustação     12\n",
       " \n",
       " [100 rows x 6 columns]]"
      ]
     },
     "execution_count": 16,
     "metadata": {},
     "output_type": "execute_result"
    }
   ],
   "source": [
    "dimensoesNasa_melt"
   ]
  },
  {
   "cell_type": "code",
   "execution_count": null,
   "metadata": {},
   "outputs": [
    {
     "data": {
      "text/html": [
       "<div>\n",
       "<style scoped>\n",
       "    .dataframe tbody tr th:only-of-type {\n",
       "        vertical-align: middle;\n",
       "    }\n",
       "\n",
       "    .dataframe tbody tr th {\n",
       "        vertical-align: top;\n",
       "    }\n",
       "\n",
       "    .dataframe thead th {\n",
       "        text-align: right;\n",
       "    }\n",
       "</style>\n",
       "<table border=\"1\" class=\"dataframe\">\n",
       "  <thead>\n",
       "    <tr style=\"text-align: right;\">\n",
       "      <th></th>\n",
       "      <th>index</th>\n",
       "      <th>treatments</th>\n",
       "      <th>value</th>\n",
       "    </tr>\n",
       "  </thead>\n",
       "  <tbody>\n",
       "    <tr>\n",
       "      <th>0</th>\n",
       "      <td>0</td>\n",
       "      <td>A</td>\n",
       "      <td>25</td>\n",
       "    </tr>\n",
       "    <tr>\n",
       "      <th>1</th>\n",
       "      <td>1</td>\n",
       "      <td>A</td>\n",
       "      <td>30</td>\n",
       "    </tr>\n",
       "    <tr>\n",
       "      <th>2</th>\n",
       "      <td>2</td>\n",
       "      <td>A</td>\n",
       "      <td>28</td>\n",
       "    </tr>\n",
       "    <tr>\n",
       "      <th>3</th>\n",
       "      <td>3</td>\n",
       "      <td>A</td>\n",
       "      <td>36</td>\n",
       "    </tr>\n",
       "    <tr>\n",
       "      <th>4</th>\n",
       "      <td>4</td>\n",
       "      <td>A</td>\n",
       "      <td>29</td>\n",
       "    </tr>\n",
       "    <tr>\n",
       "      <th>5</th>\n",
       "      <td>0</td>\n",
       "      <td>B</td>\n",
       "      <td>45</td>\n",
       "    </tr>\n",
       "    <tr>\n",
       "      <th>6</th>\n",
       "      <td>1</td>\n",
       "      <td>B</td>\n",
       "      <td>55</td>\n",
       "    </tr>\n",
       "    <tr>\n",
       "      <th>7</th>\n",
       "      <td>2</td>\n",
       "      <td>B</td>\n",
       "      <td>29</td>\n",
       "    </tr>\n",
       "    <tr>\n",
       "      <th>8</th>\n",
       "      <td>3</td>\n",
       "      <td>B</td>\n",
       "      <td>56</td>\n",
       "    </tr>\n",
       "    <tr>\n",
       "      <th>9</th>\n",
       "      <td>4</td>\n",
       "      <td>B</td>\n",
       "      <td>40</td>\n",
       "    </tr>\n",
       "    <tr>\n",
       "      <th>10</th>\n",
       "      <td>0</td>\n",
       "      <td>C</td>\n",
       "      <td>30</td>\n",
       "    </tr>\n",
       "    <tr>\n",
       "      <th>11</th>\n",
       "      <td>1</td>\n",
       "      <td>C</td>\n",
       "      <td>29</td>\n",
       "    </tr>\n",
       "    <tr>\n",
       "      <th>12</th>\n",
       "      <td>2</td>\n",
       "      <td>C</td>\n",
       "      <td>33</td>\n",
       "    </tr>\n",
       "    <tr>\n",
       "      <th>13</th>\n",
       "      <td>3</td>\n",
       "      <td>C</td>\n",
       "      <td>37</td>\n",
       "    </tr>\n",
       "    <tr>\n",
       "      <th>14</th>\n",
       "      <td>4</td>\n",
       "      <td>C</td>\n",
       "      <td>27</td>\n",
       "    </tr>\n",
       "    <tr>\n",
       "      <th>15</th>\n",
       "      <td>0</td>\n",
       "      <td>D</td>\n",
       "      <td>54</td>\n",
       "    </tr>\n",
       "    <tr>\n",
       "      <th>16</th>\n",
       "      <td>1</td>\n",
       "      <td>D</td>\n",
       "      <td>60</td>\n",
       "    </tr>\n",
       "    <tr>\n",
       "      <th>17</th>\n",
       "      <td>2</td>\n",
       "      <td>D</td>\n",
       "      <td>51</td>\n",
       "    </tr>\n",
       "    <tr>\n",
       "      <th>18</th>\n",
       "      <td>3</td>\n",
       "      <td>D</td>\n",
       "      <td>62</td>\n",
       "    </tr>\n",
       "    <tr>\n",
       "      <th>19</th>\n",
       "      <td>4</td>\n",
       "      <td>D</td>\n",
       "      <td>73</td>\n",
       "    </tr>\n",
       "  </tbody>\n",
       "</table>\n",
       "</div>"
      ],
      "text/plain": [
       "    index treatments  value\n",
       "0       0          A     25\n",
       "1       1          A     30\n",
       "2       2          A     28\n",
       "3       3          A     36\n",
       "4       4          A     29\n",
       "5       0          B     45\n",
       "6       1          B     55\n",
       "7       2          B     29\n",
       "8       3          B     56\n",
       "9       4          B     40\n",
       "10      0          C     30\n",
       "11      1          C     29\n",
       "12      2          C     33\n",
       "13      3          C     37\n",
       "14      4          C     27\n",
       "15      0          D     54\n",
       "16      1          D     60\n",
       "17      2          D     51\n",
       "18      3          D     62\n",
       "19      4          D     73"
      ]
     },
     "execution_count": 6,
     "metadata": {},
     "output_type": "execute_result"
    }
   ],
   "source": [
    "import pandas as pd\n",
    "# load data file\n",
    "df = pd.read_csv(\"https://reneshbedre.github.io/assets/posts/anova/onewayanova.txt\", sep=\"\\t\")\n",
    "# reshape the d dataframe suitable for statsmodels package \n",
    "df_melt = pd.melt(df.reset_index(), id_vars=['index'], value_vars=['A', 'B', 'C', 'D'])\n",
    "# replace column names\n",
    "df_melt.columns = ['index', 'treatments', 'value']\n",
    "df_melt"
   ]
  },
  {
   "cell_type": "code",
   "execution_count": null,
   "metadata": {},
   "outputs": [
    {
     "name": "stdout",
     "output_type": "stream",
     "text": [
      "17.492810457516338 2.639241146210922e-05\n"
     ]
    },
    {
     "data": {
      "text/html": [
       "<div>\n",
       "<style scoped>\n",
       "    .dataframe tbody tr th:only-of-type {\n",
       "        vertical-align: middle;\n",
       "    }\n",
       "\n",
       "    .dataframe tbody tr th {\n",
       "        vertical-align: top;\n",
       "    }\n",
       "\n",
       "    .dataframe thead th {\n",
       "        text-align: right;\n",
       "    }\n",
       "</style>\n",
       "<table border=\"1\" class=\"dataframe\">\n",
       "  <thead>\n",
       "    <tr style=\"text-align: right;\">\n",
       "      <th></th>\n",
       "      <th>sum_sq</th>\n",
       "      <th>df</th>\n",
       "      <th>F</th>\n",
       "      <th>PR(&gt;F)</th>\n",
       "    </tr>\n",
       "  </thead>\n",
       "  <tbody>\n",
       "    <tr>\n",
       "      <th>C(treatments)</th>\n",
       "      <td>3010.95</td>\n",
       "      <td>3.0</td>\n",
       "      <td>17.49281</td>\n",
       "      <td>0.000026</td>\n",
       "    </tr>\n",
       "    <tr>\n",
       "      <th>Residual</th>\n",
       "      <td>918.00</td>\n",
       "      <td>16.0</td>\n",
       "      <td>NaN</td>\n",
       "      <td>NaN</td>\n",
       "    </tr>\n",
       "  </tbody>\n",
       "</table>\n",
       "</div>"
      ],
      "text/plain": [
       "                sum_sq    df         F    PR(>F)\n",
       "C(treatments)  3010.95   3.0  17.49281  0.000026\n",
       "Residual        918.00  16.0       NaN       NaN"
      ]
     },
     "execution_count": 15,
     "metadata": {},
     "output_type": "execute_result"
    }
   ],
   "source": [
    "\n",
    "# stats f_oneway functions takes the groups as input and returns ANOVA F and p value\n",
    "fvalue, pvalue = stats.f_oneway(df['A'], df['B'], df['C'], df['D'])\n",
    "print(fvalue, pvalue)\n",
    "# 17.492810457516338 2.639241146210922e-05\n",
    "\n",
    "# get ANOVA table as R like output\n",
    "import statsmodels.api as sm\n",
    "from statsmodels.formula.api import ols\n",
    "\n",
    "# Ordinary Least Squares (OLS) model\n",
    "model = ols('value ~ C(treatments)', data=df_melt).fit()\n",
    "anova_table = sm.stats.anova_lm(model, typ=2)\n",
    "anova_table\n",
    "## output (ANOVA F and p value)\n",
    "#                sum_sq    df         F    PR(>F)\n",
    "#C(treatments)  3010.95   3.0  17.49281  0.000026\n",
    "#Residual        918.00  16.0       NaN       NaN\n",
    "#\n",
    "## ANOVA table using bioinfokit v1.0.3 or later (it uses wrapper script for anova_lm)\n",
    "#from bioinfokit.analys import stat\n",
    "#res = stat()\n",
    "#res.anova_stat(df=df_melt, res_var='value', anova_model='value ~ C(treatments)')\n",
    "#res.anova_summary\n",
    "## output (ANOVA F and p value)\n",
    "#                 df   sum_sq   mean_sq         F    PR(>F)\n",
    "#C(treatments)   3.0  3010.95  1003.650  17.49281  0.000026\n",
    "#Residual       16.0   918.00    57.375       NaN       NaN\n",
    "#\n",
    "## note: if the data is balanced (equal sample size for each group), Type 1, 2, and 3 sums of squares\n",
    "## (typ parameter) will produce similar results."
   ]
  },
  {
   "cell_type": "code",
   "execution_count": null,
   "metadata": {},
   "outputs": [
    {
     "data": {
      "text/html": [
       "<div>\n",
       "<style scoped>\n",
       "    .dataframe tbody tr th:only-of-type {\n",
       "        vertical-align: middle;\n",
       "    }\n",
       "\n",
       "    .dataframe tbody tr th {\n",
       "        vertical-align: top;\n",
       "    }\n",
       "\n",
       "    .dataframe thead th {\n",
       "        text-align: right;\n",
       "    }\n",
       "</style>\n",
       "<table border=\"1\" class=\"dataframe\">\n",
       "  <thead>\n",
       "    <tr style=\"text-align: right;\">\n",
       "      <th></th>\n",
       "      <th>index</th>\n",
       "      <th>treatments</th>\n",
       "      <th>value</th>\n",
       "    </tr>\n",
       "  </thead>\n",
       "  <tbody>\n",
       "    <tr>\n",
       "      <th>0</th>\n",
       "      <td>0</td>\n",
       "      <td>A</td>\n",
       "      <td>25</td>\n",
       "    </tr>\n",
       "    <tr>\n",
       "      <th>1</th>\n",
       "      <td>1</td>\n",
       "      <td>A</td>\n",
       "      <td>30</td>\n",
       "    </tr>\n",
       "    <tr>\n",
       "      <th>2</th>\n",
       "      <td>2</td>\n",
       "      <td>A</td>\n",
       "      <td>28</td>\n",
       "    </tr>\n",
       "    <tr>\n",
       "      <th>3</th>\n",
       "      <td>3</td>\n",
       "      <td>A</td>\n",
       "      <td>36</td>\n",
       "    </tr>\n",
       "    <tr>\n",
       "      <th>4</th>\n",
       "      <td>4</td>\n",
       "      <td>A</td>\n",
       "      <td>29</td>\n",
       "    </tr>\n",
       "    <tr>\n",
       "      <th>5</th>\n",
       "      <td>0</td>\n",
       "      <td>B</td>\n",
       "      <td>45</td>\n",
       "    </tr>\n",
       "    <tr>\n",
       "      <th>6</th>\n",
       "      <td>1</td>\n",
       "      <td>B</td>\n",
       "      <td>55</td>\n",
       "    </tr>\n",
       "    <tr>\n",
       "      <th>7</th>\n",
       "      <td>2</td>\n",
       "      <td>B</td>\n",
       "      <td>29</td>\n",
       "    </tr>\n",
       "    <tr>\n",
       "      <th>8</th>\n",
       "      <td>3</td>\n",
       "      <td>B</td>\n",
       "      <td>56</td>\n",
       "    </tr>\n",
       "    <tr>\n",
       "      <th>9</th>\n",
       "      <td>4</td>\n",
       "      <td>B</td>\n",
       "      <td>40</td>\n",
       "    </tr>\n",
       "    <tr>\n",
       "      <th>10</th>\n",
       "      <td>0</td>\n",
       "      <td>C</td>\n",
       "      <td>30</td>\n",
       "    </tr>\n",
       "    <tr>\n",
       "      <th>11</th>\n",
       "      <td>1</td>\n",
       "      <td>C</td>\n",
       "      <td>29</td>\n",
       "    </tr>\n",
       "    <tr>\n",
       "      <th>12</th>\n",
       "      <td>2</td>\n",
       "      <td>C</td>\n",
       "      <td>33</td>\n",
       "    </tr>\n",
       "    <tr>\n",
       "      <th>13</th>\n",
       "      <td>3</td>\n",
       "      <td>C</td>\n",
       "      <td>37</td>\n",
       "    </tr>\n",
       "    <tr>\n",
       "      <th>14</th>\n",
       "      <td>4</td>\n",
       "      <td>C</td>\n",
       "      <td>27</td>\n",
       "    </tr>\n",
       "    <tr>\n",
       "      <th>15</th>\n",
       "      <td>0</td>\n",
       "      <td>D</td>\n",
       "      <td>54</td>\n",
       "    </tr>\n",
       "    <tr>\n",
       "      <th>16</th>\n",
       "      <td>1</td>\n",
       "      <td>D</td>\n",
       "      <td>60</td>\n",
       "    </tr>\n",
       "    <tr>\n",
       "      <th>17</th>\n",
       "      <td>2</td>\n",
       "      <td>D</td>\n",
       "      <td>51</td>\n",
       "    </tr>\n",
       "    <tr>\n",
       "      <th>18</th>\n",
       "      <td>3</td>\n",
       "      <td>D</td>\n",
       "      <td>62</td>\n",
       "    </tr>\n",
       "    <tr>\n",
       "      <th>19</th>\n",
       "      <td>4</td>\n",
       "      <td>D</td>\n",
       "      <td>73</td>\n",
       "    </tr>\n",
       "  </tbody>\n",
       "</table>\n",
       "</div>"
      ],
      "text/plain": [
       "    index treatments  value\n",
       "0       0          A     25\n",
       "1       1          A     30\n",
       "2       2          A     28\n",
       "3       3          A     36\n",
       "4       4          A     29\n",
       "5       0          B     45\n",
       "6       1          B     55\n",
       "7       2          B     29\n",
       "8       3          B     56\n",
       "9       4          B     40\n",
       "10      0          C     30\n",
       "11      1          C     29\n",
       "12      2          C     33\n",
       "13      3          C     37\n",
       "14      4          C     27\n",
       "15      0          D     54\n",
       "16      1          D     60\n",
       "17      2          D     51\n",
       "18      3          D     62\n",
       "19      4          D     73"
      ]
     },
     "execution_count": 14,
     "metadata": {},
     "output_type": "execute_result"
    }
   ],
   "source": [
    "df_melt"
   ]
  }
 ],
 "metadata": {
  "interpreter": {
   "hash": "2b5aa1d9b50ce118d53ac4b14f40ca39e58b70ab2b6af758e7171492e820c53c"
  },
  "kernelspec": {
   "display_name": "Python 3.9.4 64-bit",
   "language": "python",
   "name": "python3"
  },
  "language_info": {
   "codemirror_mode": {
    "name": "ipython",
    "version": 3
   },
   "file_extension": ".py",
   "mimetype": "text/x-python",
   "name": "python",
   "nbconvert_exporter": "python",
   "pygments_lexer": "ipython3",
   "version": "3.9.4"
  },
  "orig_nbformat": 4
 },
 "nbformat": 4,
 "nbformat_minor": 2
}
